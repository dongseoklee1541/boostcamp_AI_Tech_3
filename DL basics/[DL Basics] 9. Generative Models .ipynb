{
 "cells": [
  {
   "cell_type": "code",
   "execution_count": 1,
   "id": "a4c92a31",
   "metadata": {},
   "outputs": [
    {
     "data": {
      "text/html": [
       "<style>.container { width:90% !important; }</style>"
      ],
      "text/plain": [
       "<IPython.core.display.HTML object>"
      ]
     },
     "metadata": {},
     "output_type": "display_data"
    }
   ],
   "source": [
    "from IPython.core.display import display, HTML\n",
    "\n",
    "display(HTML(\"<style>.container { width:90% !important; }</style>\"))"
   ]
  },
  {
   "cell_type": "markdown",
   "id": "ef6272fb",
   "metadata": {},
   "source": [
    "많은 용어들을 정확히 정의하고 이해해야 타 연구자들과 커뮤니케이션에서 문제가 없다."
   ]
  },
  {
   "cell_type": "markdown",
   "id": "52397538",
   "metadata": {},
   "source": [
    "## 9. Generative Models \n"
   ]
  },
  {
   "cell_type": "markdown",
   "id": "aa881fa2",
   "metadata": {},
   "source": [
    "### Learning a Genrative Models\n",
    "\n",
    "Generative Models 은 아래와 같은 특성이 있다.\n",
    "\n",
    "* Generation(생성, Sampling) :  강아지 이미지를 만드는\n",
    "* Density estimation(구분,anomaly detection) : ${P(x)}$ 강아지같은지 고양이 같은지 강아지가 아닌지..? \n",
    "* Unsupervised representation learning(feature learning) : images가 들어온다면 그 안에 있는 특성들을 학습할 수 있다.(강아지 귀가 있고 입이 있고 등등..)\n",
    "\n",
    "* 이와 같은 모델을 explicit(확률 결과값을 얻을 수 있는) 모델이라고 한다.\n",
    "\n",
    "* 단순히 생성만 할 수 있는 GAN과 같은 모델은 implicit 모델이라고 한다.\n",
    "\n",
    "그렇다면 ${P(x)}$는 어떻게 만들 수 있는가?"
   ]
  },
  {
   "cell_type": "markdown",
   "id": "7bf55451",
   "metadata": {},
   "source": [
    "### 9-1. Basic Discreate Distributions\n",
    "Discreate Distributions은 관심 있어하는 값들이 0,1,2 와 같이 정해져 있는\n",
    "\n",
    "#### 9-1-1.Bernoulli distribution : 0 과 1\n",
    "\n",
    "* ${D}$ = {Heads, Tail}\n",
    "\n",
    "* ${P(X = Heads) = p }$ 이라면 ${P(X = Tails) = 1 - p}$\n",
    "\n",
    "* ${X \\sim Ber(p)}$ 라고 표현한다.\n",
    "\n",
    "동전에 앞뒷면을 표현할때는 한개의 파라미터 p만 필요하다.\n",
    "\n",
    "\n",
    "#### 9-1-2. Categorical distribution : 주사위\n",
    "\n",
    "* ${D}$ = {${1,...,m}$}\n",
    "* Specify ${P(Y=i)=p_i,}$ such that ${\\sum_{i=1}^m p_i=1}$\n",
    "* ${Y \\sim Cat(p_1,\\cdots , p_m)}$\n",
    "\n",
    "주사위와 같이 6개의 값이 있을때는 5개의 파라메터가 필요하다.\n"
   ]
  },
  {
   "cell_type": "markdown",
   "id": "6eed445f",
   "metadata": {},
   "source": [
    "#### Example\n",
    "\n",
    "RGB 픽셀을 표현할때 몇개의 파라미터가 필요할까? \n",
    "\n",
    "${(r,g,b) \\sim p(R,G,B)}$\n",
    "\n",
    "* 각 픽셀별로 256x256x256 케이스가 존재\n",
    "\n",
    "즉 1개의 픽셀을 표현하기위해선 **256x256x256 -1** 개의 파라미터가 필요하다.\n",
    "\n",
    "여기서 100x100 해상도라면? 위의 파라미터에서 10,000배 만큼 파라미터가 필요하다.\n",
    "\n",
    "#### Structure Through Independence\n",
    "\n",
    "만약 ${X_1, \\ldots, X_n }$ 이 서로 독립이라면,\n",
    "\n",
    "${p(x_1, \\ldots, x_n) = p(x_1)p(x_2) \\cdots p(x_n)}$\n",
    "\n",
    "이때 모든 가능한 상황은 ${2^n}$ 이지만\n",
    "\n",
    "${p(x_1, \\lo}$"
   ]
  },
  {
   "cell_type": "code",
   "execution_count": null,
   "id": "b9012f73",
   "metadata": {},
   "outputs": [],
   "source": []
  },
  {
   "cell_type": "code",
   "execution_count": null,
   "id": "22c94c32",
   "metadata": {},
   "outputs": [],
   "source": []
  }
 ],
 "metadata": {
  "kernelspec": {
   "display_name": "Python 3 (ipykernel)",
   "language": "python",
   "name": "python3"
  },
  "language_info": {
   "codemirror_mode": {
    "name": "ipython",
    "version": 3
   },
   "file_extension": ".py",
   "mimetype": "text/x-python",
   "name": "python",
   "nbconvert_exporter": "python",
   "pygments_lexer": "ipython3",
   "version": "3.8.10"
  }
 },
 "nbformat": 4,
 "nbformat_minor": 5
}
