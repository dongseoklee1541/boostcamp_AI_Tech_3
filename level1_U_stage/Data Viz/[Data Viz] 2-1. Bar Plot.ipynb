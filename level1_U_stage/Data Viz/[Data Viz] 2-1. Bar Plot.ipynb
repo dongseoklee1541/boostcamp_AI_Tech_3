{
 "cells": [
  {
   "cell_type": "code",
   "execution_count": 1,
   "id": "a4c92a31",
   "metadata": {
    "scrolled": false
   },
   "outputs": [
    {
     "data": {
      "text/html": [
       "<style>.container { width:90% !important; }</style>"
      ],
      "text/plain": [
       "<IPython.core.display.HTML object>"
      ]
     },
     "metadata": {},
     "output_type": "display_data"
    }
   ],
   "source": [
    "from IPython.core.display import display, HTML\n",
    "\n",
    "display(HTML(\"<style>.container { width:90% !important; }</style>\"))"
   ]
  },
  {
   "cell_type": "code",
   "execution_count": 2,
   "id": "debb8ba1",
   "metadata": {},
   "outputs": [],
   "source": [
    "import numpy as np \n",
    "import pandas as pd\n",
    "import matplotlib as mpl\n",
    "import matplotlib.pyplot as plt"
   ]
  },
  {
   "cell_type": "markdown",
   "id": "d35274f3",
   "metadata": {},
   "source": [
    "## Bar Plot(막대그래프, bar chart, bar graph)\n",
    "\n",
    "범주(category)에 따른 수치 값을 비교하기에 적합한 방법\n",
    "* 개별 비교, 그룹 비교 모두 적합\n",
    "\n",
    "* 막대의 방향에 따른 분류(`.bar()` , `.barh()`)\n",
    "    * 수직(vertical) : x축에 범주, y축에 값을 표기(기본값)\n",
    "    * 수평(horizontal) : y축에 범주, x축에 값을 표기(범주가 많을때 적합)"
   ]
  },
  {
   "cell_type": "code",
   "execution_count": 3,
   "id": "cba8581c",
   "metadata": {
    "scrolled": true
   },
   "outputs": [
    {
     "data": {
      "image/png": "[encoded data removed]",
      "text/plain": [
       "<Figure size 360x360 with 2 Axes>"
      ]
     },
     "metadata": {
      "needs_background": "light"
     },
     "output_type": "display_data"
    }
   ],
   "source": [
    "fig, axes = plt.subplots(1, 2, figsize=(5,5))\n",
    "\n",
    "x = list('ABCDE')\n",
    "y = np.array([1, 2, 3, 4, 5])\n",
    "\n",
    "axes[0].bar(x,y)\n",
    "axes[1].barh(x,y) # 가로 bar\n",
    "\n",
    "plt.show()"
   ]
  },
  {
   "cell_type": "code",
   "execution_count": 5,
   "id": "1030b4c4",
   "metadata": {
    "scrolled": true
   },
   "outputs": [
    {
     "data": {
      "text/html": [
       "<div>\n",
       "<style scoped>\n",
       "    .dataframe tbody tr th:only-of-type {\n",
       "        vertical-align: middle;\n",
       "    }\n",
       "\n",
       "    .dataframe tbody tr th {\n",
       "        vertical-align: top;\n",
       "    }\n",
       "\n",
       "    .dataframe thead th {\n",
       "        text-align: right;\n",
       "    }\n",
       "</style>\n",
       "<table border=\"1\" class=\"dataframe\">\n",
       "  <thead>\n",
       "    <tr style=\"text-align: right;\">\n",
       "      <th></th>\n",
       "      <th>gender</th>\n",
       "      <th>race/ethnicity</th>\n",
       "      <th>parental level of education</th>\n",
       "      <th>lunch</th>\n",
       "      <th>test preparation course</th>\n",
       "      <th>math score</th>\n",
       "      <th>reading score</th>\n",
       "      <th>writing score</th>\n",
       "    </tr>\n",
       "  </thead>\n",
       "  <tbody>\n",
       "    <tr>\n",
       "      <th>271</th>\n",
       "      <td>male</td>\n",
       "      <td>group C</td>\n",
       "      <td>some college</td>\n",
       "      <td>standard</td>\n",
       "      <td>none</td>\n",
       "      <td>58</td>\n",
       "      <td>49</td>\n",
       "      <td>42</td>\n",
       "    </tr>\n",
       "    <tr>\n",
       "      <th>34</th>\n",
       "      <td>male</td>\n",
       "      <td>group E</td>\n",
       "      <td>some college</td>\n",
       "      <td>standard</td>\n",
       "      <td>none</td>\n",
       "      <td>97</td>\n",
       "      <td>87</td>\n",
       "      <td>82</td>\n",
       "    </tr>\n",
       "    <tr>\n",
       "      <th>430</th>\n",
       "      <td>male</td>\n",
       "      <td>group C</td>\n",
       "      <td>associate's degree</td>\n",
       "      <td>free/reduced</td>\n",
       "      <td>none</td>\n",
       "      <td>64</td>\n",
       "      <td>66</td>\n",
       "      <td>59</td>\n",
       "    </tr>\n",
       "    <tr>\n",
       "      <th>869</th>\n",
       "      <td>male</td>\n",
       "      <td>group C</td>\n",
       "      <td>associate's degree</td>\n",
       "      <td>free/reduced</td>\n",
       "      <td>none</td>\n",
       "      <td>49</td>\n",
       "      <td>51</td>\n",
       "      <td>51</td>\n",
       "    </tr>\n",
       "    <tr>\n",
       "      <th>175</th>\n",
       "      <td>female</td>\n",
       "      <td>group C</td>\n",
       "      <td>master's degree</td>\n",
       "      <td>standard</td>\n",
       "      <td>completed</td>\n",
       "      <td>81</td>\n",
       "      <td>91</td>\n",
       "      <td>87</td>\n",
       "    </tr>\n",
       "  </tbody>\n",
       "</table>\n",
       "</div>"
      ],
      "text/plain": [
       "     gender race/ethnicity parental level of education         lunch  \\\n",
       "271    male        group C                some college      standard   \n",
       "34     male        group E                some college      standard   \n",
       "430    male        group C          associate's degree  free/reduced   \n",
       "869    male        group C          associate's degree  free/reduced   \n",
       "175  female        group C             master's degree      standard   \n",
       "\n",
       "    test preparation course  math score  reading score  writing score  \n",
       "271                    none          58             49             42  \n",
       "34                     none          97             87             82  \n",
       "430                    none          64             66             59  \n",
       "869                    none          49             51             51  \n",
       "175               completed          81             91             87  "
      ]
     },
     "execution_count": 5,
     "metadata": {},
     "output_type": "execute_result"
    }
   ],
   "source": [
    "student = pd.read_csv('./StudentsPerformance.csv')\n",
    "# head 보다 sample를 사용해 랜덤으로 추출해서 분포를 파악하는걸 추천\n",
    "student.sample(5)"
   ]
  },
  {
   "cell_type": "code",
   "execution_count": null,
   "id": "6d015210",
   "metadata": {
    "scrolled": true
   },
   "outputs": [],
   "source": [
    "# 데이터의 타입, Null 값 확인\n",
    "student.info()"
   ]
  },
  {
   "cell_type": "code",
   "execution_count": 11,
   "id": "bed22955",
   "metadata": {
    "scrolled": false
   },
   "outputs": [
    {
     "data": {
      "text/html": [
       "<div>\n",
       "<style scoped>\n",
       "    .dataframe tbody tr th:only-of-type {\n",
       "        vertical-align: middle;\n",
       "    }\n",
       "\n",
       "    .dataframe tbody tr th {\n",
       "        vertical-align: top;\n",
       "    }\n",
       "\n",
       "    .dataframe thead th {\n",
       "        text-align: right;\n",
       "    }\n",
       "</style>\n",
       "<table border=\"1\" class=\"dataframe\">\n",
       "  <thead>\n",
       "    <tr style=\"text-align: right;\">\n",
       "      <th></th>\n",
       "      <th>gender</th>\n",
       "      <th>race/ethnicity</th>\n",
       "      <th>parental level of education</th>\n",
       "      <th>lunch</th>\n",
       "      <th>test preparation course</th>\n",
       "      <th>math score</th>\n",
       "      <th>reading score</th>\n",
       "      <th>writing score</th>\n",
       "    </tr>\n",
       "  </thead>\n",
       "  <tbody>\n",
       "    <tr>\n",
       "      <th>count</th>\n",
       "      <td>1000</td>\n",
       "      <td>1000</td>\n",
       "      <td>1000</td>\n",
       "      <td>1000</td>\n",
       "      <td>1000</td>\n",
       "      <td>1000.00000</td>\n",
       "      <td>1000.000000</td>\n",
       "      <td>1000.000000</td>\n",
       "    </tr>\n",
       "    <tr>\n",
       "      <th>unique</th>\n",
       "      <td>2</td>\n",
       "      <td>5</td>\n",
       "      <td>6</td>\n",
       "      <td>2</td>\n",
       "      <td>2</td>\n",
       "      <td>NaN</td>\n",
       "      <td>NaN</td>\n",
       "      <td>NaN</td>\n",
       "    </tr>\n",
       "    <tr>\n",
       "      <th>top</th>\n",
       "      <td>female</td>\n",
       "      <td>group C</td>\n",
       "      <td>some college</td>\n",
       "      <td>standard</td>\n",
       "      <td>none</td>\n",
       "      <td>NaN</td>\n",
       "      <td>NaN</td>\n",
       "      <td>NaN</td>\n",
       "    </tr>\n",
       "    <tr>\n",
       "      <th>freq</th>\n",
       "      <td>518</td>\n",
       "      <td>319</td>\n",
       "      <td>226</td>\n",
       "      <td>645</td>\n",
       "      <td>642</td>\n",
       "      <td>NaN</td>\n",
       "      <td>NaN</td>\n",
       "      <td>NaN</td>\n",
       "    </tr>\n",
       "    <tr>\n",
       "      <th>mean</th>\n",
       "      <td>NaN</td>\n",
       "      <td>NaN</td>\n",
       "      <td>NaN</td>\n",
       "      <td>NaN</td>\n",
       "      <td>NaN</td>\n",
       "      <td>66.08900</td>\n",
       "      <td>69.169000</td>\n",
       "      <td>68.054000</td>\n",
       "    </tr>\n",
       "    <tr>\n",
       "      <th>std</th>\n",
       "      <td>NaN</td>\n",
       "      <td>NaN</td>\n",
       "      <td>NaN</td>\n",
       "      <td>NaN</td>\n",
       "      <td>NaN</td>\n",
       "      <td>15.16308</td>\n",
       "      <td>14.600192</td>\n",
       "      <td>15.195657</td>\n",
       "    </tr>\n",
       "    <tr>\n",
       "      <th>min</th>\n",
       "      <td>NaN</td>\n",
       "      <td>NaN</td>\n",
       "      <td>NaN</td>\n",
       "      <td>NaN</td>\n",
       "      <td>NaN</td>\n",
       "      <td>0.00000</td>\n",
       "      <td>17.000000</td>\n",
       "      <td>10.000000</td>\n",
       "    </tr>\n",
       "    <tr>\n",
       "      <th>25%</th>\n",
       "      <td>NaN</td>\n",
       "      <td>NaN</td>\n",
       "      <td>NaN</td>\n",
       "      <td>NaN</td>\n",
       "      <td>NaN</td>\n",
       "      <td>57.00000</td>\n",
       "      <td>59.000000</td>\n",
       "      <td>57.750000</td>\n",
       "    </tr>\n",
       "    <tr>\n",
       "      <th>50%</th>\n",
       "      <td>NaN</td>\n",
       "      <td>NaN</td>\n",
       "      <td>NaN</td>\n",
       "      <td>NaN</td>\n",
       "      <td>NaN</td>\n",
       "      <td>66.00000</td>\n",
       "      <td>70.000000</td>\n",
       "      <td>69.000000</td>\n",
       "    </tr>\n",
       "    <tr>\n",
       "      <th>75%</th>\n",
       "      <td>NaN</td>\n",
       "      <td>NaN</td>\n",
       "      <td>NaN</td>\n",
       "      <td>NaN</td>\n",
       "      <td>NaN</td>\n",
       "      <td>77.00000</td>\n",
       "      <td>79.000000</td>\n",
       "      <td>79.000000</td>\n",
       "    </tr>\n",
       "    <tr>\n",
       "      <th>max</th>\n",
       "      <td>NaN</td>\n",
       "      <td>NaN</td>\n",
       "      <td>NaN</td>\n",
       "      <td>NaN</td>\n",
       "      <td>NaN</td>\n",
       "      <td>100.00000</td>\n",
       "      <td>100.000000</td>\n",
       "      <td>100.000000</td>\n",
       "    </tr>\n",
       "  </tbody>\n",
       "</table>\n",
       "</div>"
      ],
      "text/plain": [
       "        gender race/ethnicity parental level of education     lunch  \\\n",
       "count     1000           1000                        1000      1000   \n",
       "unique       2              5                           6         2   \n",
       "top     female        group C                some college  standard   \n",
       "freq       518            319                         226       645   \n",
       "mean       NaN            NaN                         NaN       NaN   \n",
       "std        NaN            NaN                         NaN       NaN   \n",
       "min        NaN            NaN                         NaN       NaN   \n",
       "25%        NaN            NaN                         NaN       NaN   \n",
       "50%        NaN            NaN                         NaN       NaN   \n",
       "75%        NaN            NaN                         NaN       NaN   \n",
       "max        NaN            NaN                         NaN       NaN   \n",
       "\n",
       "       test preparation course  math score  reading score  writing score  \n",
       "count                     1000  1000.00000    1000.000000    1000.000000  \n",
       "unique                       2         NaN            NaN            NaN  \n",
       "top                       none         NaN            NaN            NaN  \n",
       "freq                       642         NaN            NaN            NaN  \n",
       "mean                       NaN    66.08900      69.169000      68.054000  \n",
       "std                        NaN    15.16308      14.600192      15.195657  \n",
       "min                        NaN     0.00000      17.000000      10.000000  \n",
       "25%                        NaN    57.00000      59.000000      57.750000  \n",
       "50%                        NaN    66.00000      70.000000      69.000000  \n",
       "75%                        NaN    77.00000      79.000000      79.000000  \n",
       "max                        NaN   100.00000     100.000000     100.000000  "
      ]
     },
     "execution_count": 11,
     "metadata": {},
     "output_type": "execute_result"
    }
   ],
   "source": [
    "# include='all' 옵션으로 범주형의 unique 정보도 알아보자\n",
    "student.describe(include='all')"
   ]
  },
  {
   "cell_type": "code",
   "execution_count": null,
   "id": "1a674e49",
   "metadata": {
    "scrolled": true
   },
   "outputs": [],
   "source": [
    "# 성별에 따른 race/ehincity 분포\n",
    "group = student.groupby('gender')['race/ethnicity'].value_counts().sort_index()\n",
    "display(group)\n",
    "print(student['gender'].value_counts())"
   ]
  },
  {
   "cell_type": "markdown",
   "id": "029581d7",
   "metadata": {},
   "source": [
    "### 1.Multiple Bar Plot\n",
    "Bar plot에서는 1개의 feature에 대해서만 보여준다. 여러 그룹을 보여주기 위해서는\n",
    "\n",
    "* 플롯을 여러개 그리는 방법\n",
    "* (그룹이 5~7개 이하일때)한개의 플롯을 동시에 나타내는 방법 : 쌓아서, 겹처서, 이웃에 배치하여"
   ]
  },
  {
   "cell_type": "code",
   "execution_count": 10,
   "id": "ee183364",
   "metadata": {
    "scrolled": false
   },
   "outputs": [
    {
     "data": {
      "image/png": "[encoded data removed]",
      "text/plain": [
       "<Figure size 864x504 with 2 Axes>"
      ]
     },
     "metadata": {
      "needs_background": "light"
     },
     "output_type": "display_data"
    }
   ],
   "source": [
    "fig, axes = plt.subplots(1, 2, figsize=(12,7))\n",
    "axes[0].bar(group['male'].index, group['male'], color='royalblue')\n",
    "axes[1].bar(group['female'].index, group['female'], color='tomato')\n",
    "plt.show()"
   ]
  },
  {
   "cell_type": "markdown",
   "id": "56c31da8",
   "metadata": {},
   "source": [
    "이 경우 각각 그래프의 y축 스케일이 다르다. 통일하기 위한 방법으로는\n",
    "\n",
    "* `sharey=True` : 같은 axes안에 스케일을 동일하게 만들기 위한 옵션"
   ]
  },
  {
   "cell_type": "code",
   "execution_count": 11,
   "id": "d57877f3",
   "metadata": {
    "scrolled": true
   },
   "outputs": [
    {
     "data": {
      "image/png": "[encoded data removed]",
      "text/plain": [
       "<Figure size 864x504 with 2 Axes>"
      ]
     },
     "metadata": {
      "needs_background": "light"
     },
     "output_type": "display_data"
    }
   ],
   "source": [
    "fig, axes = plt.subplots(1, 2, figsize=(12,7), sharey=True)\n",
    "axes[0].bar(group['male'].index, group['male'], color='royalblue')\n",
    "axes[1].bar(group['female'].index, group['female'], color='tomato')\n",
    "plt.show()"
   ]
  },
  {
   "cell_type": "markdown",
   "id": "4cf87d36",
   "metadata": {},
   "source": [
    "* 반복문을 활용하여 y축 개별적으로 조정하기"
   ]
  },
  {
   "cell_type": "code",
   "execution_count": 21,
   "id": "f349ac5e",
   "metadata": {
    "scrolled": false
   },
   "outputs": [
    {
     "data": {
      "image/png": "[encoded data removed]",
      "text/plain": [
       "<Figure size 864x504 with 2 Axes>"
      ]
     },
     "metadata": {
      "needs_background": "light"
     },
     "output_type": "display_data"
    }
   ],
   "source": [
    "fig, axes = plt.subplots(1, 2, figsize=(12,7), sharey=True)\n",
    "axes[0].bar(group['male'].index, group['male'], color='royalblue')\n",
    "axes[1].bar(group['female'].index, group['female'], color='tomato')\n",
    "\n",
    "for ax in axes:\n",
    "    ax.set_ylim(0,200)\n",
    "plt.show()"
   ]
  },
  {
   "cell_type": "markdown",
   "id": "9624b3e0",
   "metadata": {},
   "source": [
    "이 경우 그룹간의 비율을 비교하기가 어렵다."
   ]
  },
  {
   "cell_type": "markdown",
   "id": "6f8350d9",
   "metadata": {},
   "source": [
    "#### 1.1.Stacked Bar plot(쌓아서)\n",
    "2개 이상의 그룹을 쌓아서 표현하는 bar plot, 다만 이 경우는 위에 쌓여지는 그룹(여기선 여성)의 분포는 파악하기 어렵다.\n",
    "* 각 bar에서 나타나는 그룹의 순서는 항상 유지\n",
    "* `.bar()` bottom : bottom을 사용해서 아래 공간을 비워둘 수 있다.\n",
    "* `.barh()` left"
   ]
  },
  {
   "cell_type": "code",
   "execution_count": 25,
   "id": "8d55e549",
   "metadata": {},
   "outputs": [
    {
     "data": {
      "image/png": "[encoded data removed]",
      "text/plain": [
       "<Figure size 864x504 with 2 Axes>"
      ]
     },
     "metadata": {
      "needs_background": "light"
     },
     "output_type": "display_data"
    }
   ],
   "source": [
    "fig, axes = plt.subplots(1, 2, figsize=(12,7), sharey=True)\n",
    "group_cnt =student['race/ethnicity'].value_counts().sort_index()\n",
    "# 원본\n",
    "axes[0].bar(group_cnt.index, group_cnt, color='darkgray')\n",
    "# Stacked, bottom을 사용해서 집어넣어준다.\n",
    "axes[1].bar(group['male'].index, group['male'], color='royalblue')\n",
    "axes[1].bar(group['female'].index, group['female'], bottom=group['male'], color='tomato')\n",
    "plt.show()"
   ]
  },
  {
   "cell_type": "markdown",
   "id": "3f320bb2",
   "metadata": {},
   "source": [
    "* 응용하여 전체의 비율을 나타내는 Percentage Stacked Bar Chart "
   ]
  },
  {
   "cell_type": "code",
   "execution_count": 7,
   "id": "2e60e973",
   "metadata": {},
   "outputs": [
    {
     "data": {
      "image/png": "[encoded data removed]",
      "text/plain": [
       "<Figure size 864x504 with 1 Axes>"
      ]
     },
     "metadata": {
      "needs_background": "light"
     },
     "output_type": "display_data"
    }
   ],
   "source": [
    "fig, ax = plt.subplots(1, 1, figsize=(12,7))\n",
    "group_sort = group.sort_index(ascending=False) # 순서를 바꾸기 위해 역순 정렬\n",
    "total = group_sort['male'] + group_sort['female']\n",
    "\n",
    "ax.barh(group_sort['male'].index, group_sort['male']/total,\n",
    "       color='royalblue')\n",
    "ax.barh(group_sort['female'].index, group_sort['female']/total,\n",
    "       left=group_sort['male']/total,\n",
    "       color='tomato')\n",
    "\n",
    "ax.set_xlim(0,1)\n",
    "\n",
    "#태두리 제거\n",
    "for s in ['top', 'bottom','left','right']:\n",
    "    ax.spines[s].set_visible(False)\n",
    "    \n",
    "    \n",
    "plt.show()"
   ]
  },
  {
   "cell_type": "markdown",
   "id": "f71f31e1",
   "metadata": {},
   "source": [
    "#### 1.2.Overlapped Bar plot(겹쳐서)\n",
    "2개 그룹만 비교시 주로 사용(3개 이상은 파악이 어려움)\n",
    "* `alpha()` : 투명도 조정\n",
    "* Bar 보다는 Area plot에서 더 효과적"
   ]
  },
  {
   "cell_type": "code",
   "execution_count": 12,
   "id": "7b95a406",
   "metadata": {
    "scrolled": true
   },
   "outputs": [
    {
     "data": {
      "image/png": "[encoded data removed]",
      "text/plain": [
       "<Figure size 864x864 with 4 Axes>"
      ]
     },
     "metadata": {
      "needs_background": "light"
     },
     "output_type": "display_data"
    }
   ],
   "source": [
    "group_sort = group.sort_index()\n",
    "\n",
    "fig, axes = plt.subplots(2, 2, figsize=(12, 12))\n",
    "axes = axes.flatten()\n",
    "\n",
    "for idx, alpha in enumerate([1, 0.7, 0.5, 0.3]):\n",
    "    axes[idx].bar(group['male'].index, group['male'],\n",
    "                 color='royalblue',\n",
    "                 alpha=alpha)\n",
    "    axes[idx].bar(group['female'].index, group['female'],\n",
    "                 color='tomato',\n",
    "                 alpha=alpha)\n",
    "    axes[idx].set_title(f'aplha = {alpha}')\n",
    "    \n",
    "for ax in axes:\n",
    "    ax.set_ylim(0, 200)\n",
    "    \n",
    "plt.show()"
   ]
  },
  {
   "cell_type": "markdown",
   "id": "19b52841",
   "metadata": {},
   "source": [
    "#### 1.3.Grouped Bar Plot(이웃에 배치)\n",
    "그룹별 범주에 따른 bar를 이웃되게 배치하는 방법\n",
    "\n",
    "* x축 조정\n",
    "* width(두께)\n",
    "* xticks, xticklabels\n",
    "\n",
    "x축이 0,1,2,3으로 시작한다고 보면 x축을 반씩 쪼개서 사용한다.\n",
    "- 한 그래프는 0-width/2, 1-width/2 ..\n",
    "- 다른 그래프는 0+width/2, 1+width/2 .."
   ]
  },
  {
   "cell_type": "code",
   "execution_count": 19,
   "id": "7c919f46",
   "metadata": {},
   "outputs": [
    {
     "data": {
      "image/png": "[encoded data removed]",
      "text/plain": [
       "<Figure size 864x504 with 1 Axes>"
      ]
     },
     "metadata": {
      "needs_background": "light"
     },
     "output_type": "display_data"
    }
   ],
   "source": [
    "fig, ax = plt.subplots(1, 1, figsize=(12, 7))\n",
    "\n",
    "idx = np.arange(len(group['male'].index))\n",
    "width = 0.35\n",
    "\n",
    "ax.bar(idx-width/2, group['male'],\n",
    "      color='royalblue',\n",
    "      width=width, label='male')\n",
    "ax.bar(idx+width/2, group['female'],\n",
    "      color='tomato',\n",
    "      width=width, label='female')\n",
    "\n",
    "ax.set_xticks(idx)\n",
    "ax.set_xticklabels(group['male'].index)\n",
    "ax.legend()\n",
    "\n",
    "plt.show()"
   ]
  },
  {
   "cell_type": "markdown",
   "id": "9a688618",
   "metadata": {},
   "source": [
    "#### 그룹이 N개 일때는?\n",
    "\n",
    "- 2개 : -1/2, +1/2\n",
    "- 3개 : -1, 0, +1 (-2/2, 0, +2/2)\n",
    "- 4개 : -3/2, -1/2, +1/2, +3/2\n",
    "\n",
    "$x+\\frac{-N+1+2\\times i}{2}\\times width$"
   ]
  },
  {
   "cell_type": "code",
   "execution_count": 23,
   "id": "714fcdb3",
   "metadata": {},
   "outputs": [],
   "source": [
    "# 인종에 따른 학력\n",
    "group = student.groupby('parental level of education')['race/ethnicity'].value_counts().sort_index()\n",
    "group_list = sorted(student['race/ethnicity'].unique())\n",
    "edu_lv = student['parental level of education'].unique()"
   ]
  },
  {
   "cell_type": "code",
   "execution_count": 24,
   "id": "0a05a841",
   "metadata": {},
   "outputs": [
    {
     "data": {
      "image/png": "[encoded data removed]",
      "text/plain": [
       "<Figure size 936x504 with 1 Axes>"
      ]
     },
     "metadata": {
      "needs_background": "light"
     },
     "output_type": "display_data"
    }
   ],
   "source": [
    "fig, ax = plt.subplots(1, 1, figsize=(13, 7))\n",
    "\n",
    "x = np.arange(len(group_list))\n",
    "# 여기서 width은 1(꽉참)을 기준으로 적절히 넣어주자.\n",
    "width=0.12\n",
    "\n",
    "for idx, g in enumerate(edu_lv):\n",
    "    ax.bar(x+(-len(edu_lv)+1+2*idx)*width/2, group[g], \n",
    "       width=width, label=g)\n",
    "\n",
    "ax.set_xticks(x)\n",
    "ax.set_xticklabels(group_list)\n",
    "ax.legend()    \n",
    "    \n",
    "plt.show()"
   ]
  },
  {
   "cell_type": "markdown",
   "id": "23ac537c",
   "metadata": {},
   "source": [
    "그룹이 많은 경우, 적은 그룹은 ETC로 한번에 묶어서 처리하자."
   ]
  },
  {
   "cell_type": "markdown",
   "id": "63f49582",
   "metadata": {},
   "source": [
    "### 2. 정확한 Bar Plot"
   ]
  },
  {
   "cell_type": "markdown",
   "id": "8e62ff4c",
   "metadata": {},
   "source": [
    "#### 2.1. Principle of Proportion Ink\n",
    "실제 값과 그에 표현되는 그래픽으로 표현되는 잉크 양은 비례해야 한다. 즉\n",
    "* 반드시 x축의 시작은 **zero(0)**\n",
    "    * 만약 차이를 나타내고 싶다면 plot의 세로 비율을 늘린다."
   ]
  },
  {
   "cell_type": "code",
   "execution_count": 35,
   "id": "82660dbe",
   "metadata": {
    "scrolled": true
   },
   "outputs": [
    {
     "data": {
      "text/html": [
       "<div>\n",
       "<style scoped>\n",
       "    .dataframe tbody tr th:only-of-type {\n",
       "        vertical-align: middle;\n",
       "    }\n",
       "\n",
       "    .dataframe tbody tr th {\n",
       "        vertical-align: top;\n",
       "    }\n",
       "\n",
       "    .dataframe thead th {\n",
       "        text-align: right;\n",
       "    }\n",
       "</style>\n",
       "<table border=\"1\" class=\"dataframe\">\n",
       "  <thead>\n",
       "    <tr style=\"text-align: right;\">\n",
       "      <th>gender</th>\n",
       "      <th>female</th>\n",
       "      <th>male</th>\n",
       "    </tr>\n",
       "  </thead>\n",
       "  <tbody>\n",
       "    <tr>\n",
       "      <th>math score</th>\n",
       "      <td>63.633205</td>\n",
       "      <td>68.728216</td>\n",
       "    </tr>\n",
       "    <tr>\n",
       "      <th>reading score</th>\n",
       "      <td>72.608108</td>\n",
       "      <td>65.473029</td>\n",
       "    </tr>\n",
       "    <tr>\n",
       "      <th>writing score</th>\n",
       "      <td>72.467181</td>\n",
       "      <td>63.311203</td>\n",
       "    </tr>\n",
       "  </tbody>\n",
       "</table>\n",
       "</div>"
      ],
      "text/plain": [
       "gender            female       male\n",
       "math score     63.633205  68.728216\n",
       "reading score  72.608108  65.473029\n",
       "writing score  72.467181  63.311203"
      ]
     },
     "execution_count": 35,
     "metadata": {},
     "output_type": "execute_result"
    }
   ],
   "source": [
    "score = student.groupby('gender').mean().T\n",
    "score"
   ]
  },
  {
   "cell_type": "code",
   "execution_count": 38,
   "id": "c7b96d1d",
   "metadata": {},
   "outputs": [
    {
     "data": {
      "image/png": "[encoded data removed]",
      "text/plain": [
       "<Figure size 1080x504 with 2 Axes>"
      ]
     },
     "metadata": {
      "needs_background": "light"
     },
     "output_type": "display_data"
    }
   ],
   "source": [
    "fig, axes = plt.subplots(1, 2 , figsize=(15, 7))\n",
    "idx = np.arange(len(score.index))\n",
    "width = 0.3\n",
    "\n",
    "for ax in axes:\n",
    "    ax.bar(idx-width/2 , score['male'],\n",
    "          color='royalblue',\n",
    "          width=width)\n",
    "    ax.bar(idx+width/2, score['female'],\n",
    "          color='tomato',\n",
    "          width=width)\n",
    "    ax.set_xticks(idx)\n",
    "    ax.set_xticklabels(score.index)\n",
    "\n",
    "# 스케일을 바꿔서 보여주면 같은 그래프여도 다르게 보인다.\n",
    "axes[0].set_ylim(60,75)\n",
    "\n",
    "plt.show()"
   ]
  },
  {
   "cell_type": "markdown",
   "id": "f3128f43",
   "metadata": {},
   "source": [
    "#### 2.2. 데이터 정렬하기\n",
    "더 정확한 정보를 전달하기 위해서는 데이터를 정렬 후 시각화 하자.\n",
    "* pandas : sort_values(), sort_index()\n",
    "* 데이터 종류에 따라 기준이 달라진다. \n",
    "    * 시계열 : 시간순\n",
    "    * 수치형 : 크기순\n",
    "    * 순서형 : 범주의 순서대로\n",
    "    * 명목형 : 범주의 값 따라 정렬\n",
    "    \n",
    "여러가지 기준으로 정렬하여 insight 발견을 해보자."
   ]
  },
  {
   "cell_type": "markdown",
   "id": "574624d1",
   "metadata": {},
   "source": [
    "#### 2.3. 적절한 공간 활용\n",
    "여백과 공간만 조정해도 가독성이 높아짐\n",
    "\n",
    "* X/Y axis Limit(`.set_xlim()`, `.set_ylim()`)\n",
    "* Margins(`.margins()`) : 사각형안에 비율 설정\n",
    "* Gap(`width`)\n",
    "* Spines(`.spines[spine].set_visible()`) : 태두리 유무"
   ]
  },
  {
   "cell_type": "code",
   "execution_count": 52,
   "id": "777da896",
   "metadata": {},
   "outputs": [
    {
     "data": {
      "image/png": "[encoded data removed]",
      "text/plain": [
       "<Figure size 1080x504 with 2 Axes>"
      ]
     },
     "metadata": {
      "needs_background": "light"
     },
     "output_type": "display_data"
    }
   ],
   "source": [
    "group_cnt = student['race/ethnicity'].value_counts().sort_index()\n",
    "\n",
    "fig = plt.figure(figsize=(15, 7))\n",
    "\n",
    "ax_basic = fig.add_subplot(1, 2, 1)\n",
    "ax = fig.add_subplot(1, 2, 2)\n",
    "\n",
    "ax_basic.bar(group_cnt.index, group_cnt)\n",
    "ax.bar(group_cnt.index, group_cnt,\n",
    "      width=0.7,\n",
    "      edgecolor='black', # 태두리\n",
    "      linewidth=2, # 태두리 두께\n",
    "      color='royalblue')\n",
    "\n",
    "ax.margins(0.1, 0.1) # 비율 설정\n",
    "\n",
    "for s in ['top', 'right']: # 태두리 제거\n",
    "    ax.spines[s].set_visible(False)\n",
    "\n",
    "plt.show()"
   ]
  },
  {
   "cell_type": "markdown",
   "id": "265623f1",
   "metadata": {},
   "source": [
    "#### 2.4. 복잡함과 단순함\n",
    "무엇을 보고 싶은지, 필요한 것을 보여주자.\n",
    "\n",
    "* grid : 격자 추가\n",
    "* text"
   ]
  },
  {
   "cell_type": "code",
   "execution_count": 60,
   "id": "b01d40d0",
   "metadata": {},
   "outputs": [
    {
     "data": {
      "image/png": "[encoded data removed]",
      "text/plain": [
       "<Figure size 1080x504 with 2 Axes>"
      ]
     },
     "metadata": {
      "needs_background": "light"
     },
     "output_type": "display_data"
    }
   ],
   "source": [
    "group_cnt = student['race/ethnicity'].value_counts().sort_index()\n",
    "\n",
    "fig, axes= plt.subplots(1, 2, figsize=(15, 7))\n",
    "\n",
    "for ax in axes:\n",
    "    ax.bar(group_cnt.index, group_cnt,\n",
    "      width=0.7,\n",
    "      edgecolor='black', # 태두리\n",
    "      linewidth=2, # 태두리 두께\n",
    "      color='royalblue',\n",
    "          zorder=10) # 격자를 위한 추가\n",
    "    \n",
    "    ax.margins(0.1, 0.1)\n",
    "    \n",
    "    for s in ['top','right']:\n",
    "        ax.spines[s].set_visible(False)\n",
    "        \n",
    "axes[1].grid(zorder=0)\n",
    "\n",
    "# text 추가\n",
    "for idx,value in zip(group_cnt.index, group_cnt):\n",
    "    axes[1].text(idx, value+5, s=value,\n",
    "                ha='center',\n",
    "                fontweight='bold')\n",
    "plt.show()"
   ]
  },
  {
   "cell_type": "markdown",
   "id": "1c397dfa",
   "metadata": {},
   "source": [
    "#### 2.5. ETC\n",
    "\n",
    "* errorbar : 오차 막대를 추가해서 Uncertainty 정보를 추가 가능\n",
    "* bar 사이의 Gap이 0 : 히스토그램"
   ]
  },
  {
   "cell_type": "code",
   "execution_count": 61,
   "id": "533b8009",
   "metadata": {},
   "outputs": [
    {
     "data": {
      "text/html": [
       "<div>\n",
       "<style scoped>\n",
       "    .dataframe tbody tr th:only-of-type {\n",
       "        vertical-align: middle;\n",
       "    }\n",
       "\n",
       "    .dataframe tbody tr th {\n",
       "        vertical-align: top;\n",
       "    }\n",
       "\n",
       "    .dataframe thead th {\n",
       "        text-align: right;\n",
       "    }\n",
       "</style>\n",
       "<table border=\"1\" class=\"dataframe\">\n",
       "  <thead>\n",
       "    <tr style=\"text-align: right;\">\n",
       "      <th>gender</th>\n",
       "      <th>female</th>\n",
       "      <th>male</th>\n",
       "    </tr>\n",
       "  </thead>\n",
       "  <tbody>\n",
       "    <tr>\n",
       "      <th>math score</th>\n",
       "      <td>15.491453</td>\n",
       "      <td>14.356277</td>\n",
       "    </tr>\n",
       "    <tr>\n",
       "      <th>reading score</th>\n",
       "      <td>14.378245</td>\n",
       "      <td>13.931832</td>\n",
       "    </tr>\n",
       "    <tr>\n",
       "      <th>writing score</th>\n",
       "      <td>14.844842</td>\n",
       "      <td>14.113832</td>\n",
       "    </tr>\n",
       "  </tbody>\n",
       "</table>\n",
       "</div>"
      ],
      "text/plain": [
       "gender            female       male\n",
       "math score     15.491453  14.356277\n",
       "reading score  14.378245  13.931832\n",
       "writing score  14.844842  14.113832"
      ]
     },
     "execution_count": 61,
     "metadata": {},
     "output_type": "execute_result"
    }
   ],
   "source": [
    "score_var = student.groupby('gender').std().T\n",
    "score_var"
   ]
  },
  {
   "cell_type": "code",
   "execution_count": 72,
   "id": "91286d2e",
   "metadata": {},
   "outputs": [
    {
     "data": {
      "image/png": "[encoded data removed]",
      "text/plain": [
       "<Figure size 720x720 with 1 Axes>"
      ]
     },
     "metadata": {
      "needs_background": "light"
     },
     "output_type": "display_data"
    }
   ],
   "source": [
    "fig, ax = plt.subplots(1, 1, figsize=(10,10))\n",
    "\n",
    "idx =np.arange(len(score_var.index))\n",
    "width = 0.3\n",
    "\n",
    "ax.bar(idx-width/2, score['male'],\n",
    "      color='royalblue',\n",
    "      width=width,\n",
    "      label='Male',\n",
    "       #error bar 추가\n",
    "        yerr=score_var['male'],\n",
    "        capsize=10\n",
    "      )\n",
    "\n",
    "ax.bar(idx+width/2, score['female'],\n",
    "      color='tomato',\n",
    "      width=width,\n",
    "      label='Female',\n",
    "       yerr=score_var['female'],\n",
    "       capsize=10\n",
    "      )\n",
    "\n",
    "ax.set_xticks(idx)\n",
    "ax.set_xticklabels(score.index)\n",
    "ax.set_ylim(0,100)\n",
    "\n",
    "for s in ['top','right']:\n",
    "    ax.spines[s].set_visible(False)\n",
    "\n",
    "ax.legend()\n",
    "ax.set_title('Gender / Score', fontsize=20)\n",
    "ax.set_xlabel('subject', fontweight='bold')\n",
    "ax.set_ylabel('score', fontweight='bold')\n",
    "\n",
    "plt.show()"
   ]
  }
 ],
 "metadata": {
  "kernelspec": {
   "display_name": "Python 3 (ipykernel)",
   "language": "python",
   "name": "python3"
  },
  "language_info": {
   "codemirror_mode": {
    "name": "ipython",
    "version": 3
   },
   "file_extension": ".py",
   "mimetype": "text/x-python",
   "name": "python",
   "nbconvert_exporter": "python",
   "pygments_lexer": "ipython3",
   "version": "3.8.10"
  }
 },
 "nbformat": 4,
 "nbformat_minor": 5
}
