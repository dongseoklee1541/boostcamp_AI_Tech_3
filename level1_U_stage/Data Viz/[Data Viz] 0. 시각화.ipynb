{
 "cells": [
  {
   "cell_type": "code",
   "execution_count": 1,
   "id": "a4c92a31",
   "metadata": {},
   "outputs": [
    {
     "data": {
      "text/html": [
       "<style>.container { width:90% !important; }</style>"
      ],
      "text/plain": [
       "<IPython.core.display.HTML object>"
      ]
     },
     "metadata": {},
     "output_type": "display_data"
    }
   ],
   "source": [
    "from IPython.core.display import display, HTML\n",
    "\n",
    "display(HTML(\"<style>.container { width:90% !important; }</style>\"))"
   ]
  },
  {
   "cell_type": "markdown",
   "id": "52397538",
   "metadata": {},
   "source": [
    "## 데이터 시각화란\n",
    "\n",
    "데이터 시각화란 데이터를 그래픽 요소로 매핑하여 시각적으로 표현하는 것\n",
    "\n",
    "* 시각화의 Task\n",
    "    * 목적 : 왜 시각화를 하는지? 생각해보자. 시각화를 위한 시각화는 놉.\n",
    "    * 독자 : 누구를 보여줄지 생각하면서 만들어야 한다.\n",
    "    * 데이터 : 어떤 데이터를 시각화하고, 데이터마다 맞는 시각화 방식을 체택\n",
    "    * 스토리 : 어떤 흐름으로 인사이트를 전달할지 생각\n",
    "    * 방법 : 전달하고자 하는 내용에 맞는 방법을 사용하는지?\n",
    "    * 디자인 : UI에서 만족스러운 디자인을 보여주나\n",
    "    \n",
    "시각화는 연구에서 다루는 것과 개발에서 다르는것은 다르다.\n",
    "* 통계학 시간에서는 파이차트를 쓰지 말라고 했는데.. 원한다면 써야죠."
   ]
  },
  {
   "cell_type": "markdown",
   "id": "533beba0",
   "metadata": {},
   "source": [
    "## 시각화의 요소\n",
    "\n",
    "### 데이터 이해하기\n",
    "\n",
    "* 정형 데이터 : 테이블 형태로, csv, tsv \n",
    "    * 시각화 요소 : 통계적 특성, feature 사이 관계\n",
    "* 시계열 데이터 : Time-Series, 시간 흐름에 따른 추세(Trend), 계절성(Seasonality), 주기성(Cycle)등을 살핌\n",
    "* 지리,지도 데이터 : 지도 정보와 보고자 하는 정보 간의 조화 중요\n",
    "* 관계 데이터 : 객체(Node)와 객체 간의 관계(Link)를 시각화\n",
    "    * Graph, Network Visualization\n",
    "    * 휴리스틱하게 노드 배치를 구성하자\n",
    "* 계층적 데이터 : 관계 중에서도 포함관계가 분명한 데이터들\n",
    "    * 네트워크 시각화로도 표현 가능\n",
    "    * Tree, Treemap, Sunburst 등이 대표적\n",
    "    \n",
    "### 시각화 이해하기\n",
    "점,선,면으로 이루어진 데이터를 어떻게 시각화를 할지?\n",
    "\n",
    "* 전주의적 속성(Pre-attentive Attribute)"
   ]
  }
 ],
 "metadata": {
  "kernelspec": {
   "display_name": "Python 3 (ipykernel)",
   "language": "python",
   "name": "python3"
  },
  "language_info": {
   "codemirror_mode": {
    "name": "ipython",
    "version": 3
   },
   "file_extension": ".py",
   "mimetype": "text/x-python",
   "name": "python",
   "nbconvert_exporter": "python",
   "pygments_lexer": "ipython3",
   "version": "3.8.10"
  }
 },
 "nbformat": 4,
 "nbformat_minor": 5
}
