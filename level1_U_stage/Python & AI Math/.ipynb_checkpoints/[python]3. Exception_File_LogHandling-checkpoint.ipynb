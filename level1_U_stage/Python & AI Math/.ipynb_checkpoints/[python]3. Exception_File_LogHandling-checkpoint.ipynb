{
 "cells": [
  {
   "cell_type": "markdown",
   "metadata": {},
   "source": [
    "## 3. Exception/File/Log Handling\n",
    "\n",
    "### Exception\n",
    "\n",
    "1) 예상 가능한 예외 : 개발자가 반드시 예외를 명시해야 함\n",
    "    * if 문과 같은 방식으로 해결\n",
    "2) 예상 불가능한 예외 : 인터프리터 과정에서 발생하는 예외\n",
    "\n",
    "#### if vs Exception\n",
    "if문은 로직적인 문제에서 사용하나 Exception은 사용자가 잘못 입력하였거나 데이터가 잘못된 것을 해결할때 사용\n",
    "\n",
    "**but. 팀바팀임 자유롭게**"
   ]
  },
  {
   "cell_type": "markdown",
   "metadata": {},
   "source": [
    "#### 문법들\n",
    "\n",
    "-try ~except\n",
    "\n",
    "-try ~ except ~ else : if else 과 비슷\n",
    "\n",
    "-try ~ except ~ finally : finally는 마지막에 실행"
   ]
  },
  {
   "cell_type": "code",
   "execution_count": null,
   "metadata": {},
   "outputs": [],
   "source": [
    "try:\n",
    "    #예외 발생 가능 코드\n",
    "except <Excetion Type>:\n",
    "    #예외 발생시 대응하는 코드"
   ]
  },
  {
   "cell_type": "code",
   "execution_count": 3,
   "metadata": {},
   "outputs": [
    {
     "name": "stdout",
     "output_type": "stream",
     "text": [
      ">>>>\n",
      "Not divided by 0\n",
      ">>>>\n",
      "10.0\n",
      "5.0\n",
      "3.3333333333333335\n",
      "2.5\n",
      "2.0\n",
      "1.6666666666666667\n",
      "1.4285714285714286\n",
      "1.25\n",
      "1.1111111111111112\n"
     ]
    }
   ],
   "source": [
    "# 0으로 숫자를 나눌때 예외처리\n",
    "for i in range(10):\n",
    "    try:\n",
    "        print(10/i)\n",
    "    except ZeroDivisionError:\n",
    "        print(\">>>>\")\n",
    "        print(\"Not divided by 0\")\n",
    "        print(\">>>>\")"
   ]
  },
  {
   "cell_type": "code",
   "execution_count": 8,
   "metadata": {
    "scrolled": true
   },
   "outputs": [
    {
     "name": "stdout",
     "output_type": "stream",
     "text": [
      ">>>> ERROR\n",
      "Not divided by 0\n",
      ">>>>\n",
      "1 10.0\n",
      "1\n",
      "name 'v' is not defined\n",
      "2 5.0\n",
      "2\n",
      "name 'v' is not defined\n",
      "3 3.3333333333333335\n",
      "3\n",
      "name 'v' is not defined\n",
      "4 2.5\n",
      "4\n",
      "name 'v' is not defined\n",
      "5 2.0\n",
      "list index out of range\n",
      "6 1.6666666666666667\n",
      "list index out of range\n",
      "7 1.4285714285714286\n",
      "list index out of range\n",
      "8 1.25\n",
      "list index out of range\n",
      "9 1.1111111111111112\n",
      "list index out of range\n"
     ]
    }
   ],
   "source": [
    "a = [0,1,2,3,4]\n",
    "for i in range(10):\n",
    "    try:\n",
    "        print(i, 10/i)\n",
    "        print(a[i])\n",
    "        print(v)\n",
    "    except ZeroDivisionError:\n",
    "        print(\">>>>\", \"ERROR\")\n",
    "        print(\"Not divided by 0\")\n",
    "        print(\">>>>\")\n",
    "    except IndexError as e: # e : 에러가 어떤것인지 출력하기 위함\n",
    "        print(e)\n",
    "    except Exception as e: # 그 외의 에러가 났을때 출력\n",
    "        print(e) # 그러나 다른 사용자가 어디서 에러가 발생했는지 알기가 어려워 좋은 방법은 아님"
   ]
  },
  {
   "cell_type": "code",
   "execution_count": 13,
   "metadata": {
    "scrolled": true
   },
   "outputs": [
    {
     "name": "stdout",
     "output_type": "stream",
     "text": [
      "변환할 정수 값을 입력해주세요 a\n"
     ]
    },
    {
     "ename": "ValueError",
     "evalue": "숫자값을 입력하지 않으셨습니다.",
     "output_type": "error",
     "traceback": [
      "\u001b[1;31m---------------------------------------------------------------------------\u001b[0m",
      "\u001b[1;31mValueError\u001b[0m                                Traceback (most recent call last)",
      "\u001b[1;32m<ipython-input-13-e25520171ea5>\u001b[0m in \u001b[0;36m<module>\u001b[1;34m\u001b[0m\n\u001b[0;32m      5\u001b[0m     \u001b[1;32mfor\u001b[0m \u001b[0mdigit\u001b[0m \u001b[1;32min\u001b[0m \u001b[0mvalue\u001b[0m\u001b[1;33m:\u001b[0m\u001b[1;33m\u001b[0m\u001b[1;33m\u001b[0m\u001b[0m\n\u001b[0;32m      6\u001b[0m         \u001b[1;32mif\u001b[0m \u001b[0mdigit\u001b[0m \u001b[1;32mnot\u001b[0m \u001b[1;32min\u001b[0m \u001b[1;34m\"0123456789\"\u001b[0m\u001b[1;33m:\u001b[0m \u001b[1;31m# 정수 값을 넣지 않은 경우\u001b[0m\u001b[1;33m\u001b[0m\u001b[1;33m\u001b[0m\u001b[0m\n\u001b[1;32m----> 7\u001b[1;33m             \u001b[1;32mraise\u001b[0m \u001b[0mValueError\u001b[0m\u001b[1;33m(\u001b[0m\u001b[1;34m\"숫자값을 입력하지 않으셨습니다.\"\u001b[0m\u001b[1;33m)\u001b[0m\u001b[1;33m\u001b[0m\u001b[1;33m\u001b[0m\u001b[0m\n\u001b[0m\u001b[0;32m      8\u001b[0m             \u001b[1;31m#에러를 미리 발생시켜 필요하지않는 연산을 막음\u001b[0m\u001b[1;33m\u001b[0m\u001b[1;33m\u001b[0m\u001b[1;33m\u001b[0m\u001b[0m\n\u001b[0;32m      9\u001b[0m     \u001b[0mprint\u001b[0m\u001b[1;33m(\u001b[0m\u001b[1;34m\"정수값으로 변환된 숫자 -\"\u001b[0m\u001b[1;33m,\u001b[0m \u001b[0mint\u001b[0m\u001b[1;33m(\u001b[0m\u001b[0mvalue\u001b[0m\u001b[1;33m)\u001b[0m\u001b[1;33m)\u001b[0m\u001b[1;33m\u001b[0m\u001b[1;33m\u001b[0m\u001b[0m\n",
      "\u001b[1;31mValueError\u001b[0m: 숫자값을 입력하지 않으셨습니다."
     ]
    }
   ],
   "source": [
    "# raise : 필요에 따라 강제로 Exception을 발생\n",
    "\n",
    "while True:\n",
    "    value = input(\"변환할 정수 값을 입력해주세요 \")\n",
    "    for digit in value:\n",
    "        if digit not in \"0123456789\": # 정수 값을 넣지 않은 경우\n",
    "            raise ValueError(\"숫자값을 입력하지 않으셨습니다.\")\n",
    "            #에러를 미리 발생시켜 필요하지않는 연산을 막음\n",
    "    print(\"정수값으로 변환된 숫자 -\", int(value))"
   ]
  },
  {
   "cell_type": "code",
   "execution_count": 17,
   "metadata": {},
   "outputs": [
    {
     "ename": "AssertionError",
     "evalue": "",
     "output_type": "error",
     "traceback": [
      "\u001b[1;31m---------------------------------------------------------------------------\u001b[0m",
      "\u001b[1;31mAssertionError\u001b[0m                            Traceback (most recent call last)",
      "\u001b[1;32m<ipython-input-17-ba0df7c16297>\u001b[0m in \u001b[0;36m<module>\u001b[1;34m\u001b[0m\n\u001b[0;32m      5\u001b[0m     \u001b[1;32mreturn\u001b[0m \u001b[0mbin\u001b[0m\u001b[1;33m(\u001b[0m\u001b[0mdecimal_number\u001b[0m\u001b[1;33m)\u001b[0m\u001b[1;33m\u001b[0m\u001b[1;33m\u001b[0m\u001b[0m\n\u001b[0;32m      6\u001b[0m \u001b[1;33m\u001b[0m\u001b[0m\n\u001b[1;32m----> 7\u001b[1;33m \u001b[0mprint\u001b[0m\u001b[1;33m(\u001b[0m\u001b[0mget_binary_number\u001b[0m\u001b[1;33m(\u001b[0m\u001b[1;36m10.0\u001b[0m\u001b[1;33m)\u001b[0m\u001b[1;33m)\u001b[0m\u001b[1;33m\u001b[0m\u001b[1;33m\u001b[0m\u001b[0m\n\u001b[0m",
      "\u001b[1;32m<ipython-input-17-ba0df7c16297>\u001b[0m in \u001b[0;36mget_binary_number\u001b[1;34m(decimal_number)\u001b[0m\n\u001b[0;32m      2\u001b[0m \u001b[1;33m\u001b[0m\u001b[0m\n\u001b[0;32m      3\u001b[0m \u001b[1;32mdef\u001b[0m \u001b[0mget_binary_number\u001b[0m\u001b[1;33m(\u001b[0m\u001b[0mdecimal_number\u001b[0m \u001b[1;33m:\u001b[0m \u001b[0mint\u001b[0m\u001b[1;33m)\u001b[0m\u001b[1;33m:\u001b[0m\u001b[1;33m\u001b[0m\u001b[1;33m\u001b[0m\u001b[0m\n\u001b[1;32m----> 4\u001b[1;33m     \u001b[1;32massert\u001b[0m \u001b[0misinstance\u001b[0m\u001b[1;33m(\u001b[0m\u001b[0mdecimal_number\u001b[0m\u001b[1;33m,\u001b[0m \u001b[0mint\u001b[0m\u001b[1;33m)\u001b[0m \u001b[1;31m# True or False 역할로 사용\u001b[0m\u001b[1;33m\u001b[0m\u001b[1;33m\u001b[0m\u001b[0m\n\u001b[0m\u001b[0;32m      5\u001b[0m     \u001b[1;32mreturn\u001b[0m \u001b[0mbin\u001b[0m\u001b[1;33m(\u001b[0m\u001b[0mdecimal_number\u001b[0m\u001b[1;33m)\u001b[0m\u001b[1;33m\u001b[0m\u001b[1;33m\u001b[0m\u001b[0m\n\u001b[0;32m      6\u001b[0m \u001b[1;33m\u001b[0m\u001b[0m\n",
      "\u001b[1;31mAssertionError\u001b[0m: "
     ]
    }
   ],
   "source": [
    "# assert : 특정 조건에 만족하지 않을 경우 예외 발생\n",
    "\n",
    "def get_binary_number(decimal_number : int):\n",
    "    assert isinstance(decimal_number, int) # True or False 역할로 사용\n",
    "    return bin(decimal_number)\n",
    "\n",
    "print(get_binary_number(10.0))"
   ]
  },
  {
   "cell_type": "markdown",
   "metadata": {},
   "source": [
    "### 파일의 종류\n",
    "파일 종류는 text 파일과 binary 파일로 나뉨\n",
    "\n",
    "* 컴퓨터는 text 파일을 처리하기 위해 binary 파일로 변환시킴\n",
    "* 모든 text 파일도 실제는 binary 파일, 아스키/유니코드 문자열 집합으로 저장되어 사람이 읽을 수 있음\n"
   ]
  },
  {
   "cell_type": "markdown",
   "metadata": {},
   "source": [
    "#### Python File I/O\n",
    "\n",
    "파이썬은 파일 처리를 위해 \"open\"키워드를 사용함"
   ]
  },
  {
   "cell_type": "code",
   "execution_count": null,
   "metadata": {},
   "outputs": [],
   "source": [
    "f = open(\"<파일이름>\", \"접근 모드\") # 파일을 읽을 수 있게 주소만 지정"
   ]
  },
  {
   "cell_type": "markdown",
   "metadata": {},
   "source": [
    "#### 파일열기모드\n",
    "\n",
    "* r : 읽기모드 - 파일을 읽기만 할때 사용\n",
    "* w : 쓰기모드 - 파일에 내용을 쓸 때 사용\n",
    "* a : 추가모드 - 파일의 마지막에 새로운 내용을 추가 시킬 때 사용"
   ]
  },
  {
   "cell_type": "code",
   "execution_count": null,
   "metadata": {
    "scrolled": true
   },
   "outputs": [],
   "source": [
    "f = open(\"i_have_a_dream.txt\", \"r\") \n",
    "contents = f.read() # 대상파일이 같은 폴더에 있을 경우\n",
    "print(contents)\n",
    "f.close() # 파일을 연것을 닫는다"
   ]
  },
  {
   "cell_type": "markdown",
   "metadata": {},
   "source": [
    "* With 구문과 함께 사용하기 : With 구문안에 사용하면 들여쓰기 공간동안에 작동하다가 끝나는순간 닫힌다(close)."
   ]
  },
  {
   "cell_type": "code",
   "execution_count": null,
   "metadata": {},
   "outputs": [],
   "source": [
    "with open(\"i_have_a_dream.txt\", \"r\") as my_file:\n",
    "    contents = my_file.read()\n",
    "    print(type(contents), contents)\n"
   ]
  },
  {
   "cell_type": "markdown",
   "metadata": {},
   "source": [
    "한 줄씩 읽어 List Type으로 반환"
   ]
  },
  {
   "cell_type": "code",
   "execution_count": 23,
   "metadata": {
    "scrolled": true
   },
   "outputs": [
    {
     "name": "stdout",
     "output_type": "stream",
     "text": [
      "<class 'list'>\n",
      "['Love And Thunder\\n', 'Power!']\n"
     ]
    }
   ],
   "source": [
    "with open(\"i_have_a_dream.txt\", \"r\") as my_file:\n",
    "    content_list = my_file.readlines() # 파일 전체를 list로 반환\n",
    "    print(type(content_list)) # Type 확인\n",
    "    print(content_list) # 리스트 값 출력"
   ]
  },
  {
   "cell_type": "markdown",
   "metadata": {},
   "source": [
    "실행 시 마다 한 줄씩 읽어 오기 : 한번에 메모리에 올리기 힘들경우"
   ]
  },
  {
   "cell_type": "code",
   "execution_count": 24,
   "metadata": {},
   "outputs": [
    {
     "name": "stdout",
     "output_type": "stream",
     "text": [
      "0===Love And Thunder\n",
      "1===Power!\n"
     ]
    }
   ],
   "source": [
    "with open(\"i_have_a_dream.txt\", \"r\") as my_file:\n",
    "    i = 0\n",
    "    while True:\n",
    "        line = my_file.readline() # readline : 한줄씩 읽기\n",
    "        if not line:\n",
    "            break\n",
    "        print(str(i) + \"===\" + line.replace(\"\\n\",\"\")) #한줄씩 값 출력\n",
    "        i = i + 1"
   ]
  },
  {
   "cell_type": "code",
   "execution_count": 25,
   "metadata": {},
   "outputs": [
    {
     "name": "stdout",
     "output_type": "stream",
     "text": [
      "Total Number of Characters : 23\n",
      "Total Number of Words : 3\n",
      "Total Number of lines : 2\n"
     ]
    }
   ],
   "source": [
    "with open(\"i_have_a_dream.txt\", \"r\") as my_file:\n",
    "    contents = my_file.read()\n",
    "    word_list = contents.split(\" \")\n",
    "    line_list = contents.split(\"\\n\")\n",
    "    \n",
    "print(\"Total Number of Characters :\", len(contents))\n",
    "print(\"Total Number of Words :\", len(word_list))\n",
    "print(\"Total Number of lines :\", len(line_list))"
   ]
  },
  {
   "cell_type": "markdown",
   "metadata": {},
   "source": [
    "#### File Write\n",
    "mode는 \"w\", encoding=\"utf8\"\n",
    "* windows는 \"cp949\" 를 사용하는 경우도 있음 -> 항상 \"utf8\"을 써야 호환에 좋다"
   ]
  },
  {
   "cell_type": "code",
   "execution_count": 27,
   "metadata": {
    "scrolled": true
   },
   "outputs": [
    {
     "data": {
      "text/plain": [
       "<function TextIOWrapper.close()>"
      ]
     },
     "execution_count": 27,
     "metadata": {},
     "output_type": "execute_result"
    }
   ],
   "source": [
    "f = open(\"count_log.txt\", mode='w', encoding=\"utf8\")\n",
    "for i in range(1, 11):\n",
    "    data = \"{0}번째 줄입니다.\\n\".format(i)\n",
    "    f.write(data)\n",
    "f.close"
   ]
  },
  {
   "cell_type": "code",
   "execution_count": 29,
   "metadata": {},
   "outputs": [],
   "source": [
    "with open(\"count_log.txt\", mode=\"a\", encoding=\"utf8\") as f:\n",
    "    for i in range(11,21):\n",
    "        data = \"{0}번째 줄입니다.\\n\".format(i)\n",
    "        f.write(data)"
   ]
  },
  {
   "cell_type": "markdown",
   "metadata": {},
   "source": [
    "### OS module\n",
    "os 모듈을 사용해 Directory를 다룰 수 있다."
   ]
  },
  {
   "cell_type": "code",
   "execution_count": 30,
   "metadata": {},
   "outputs": [],
   "source": [
    "import os\n",
    "os.mkdir(\"log\")"
   ]
  },
  {
   "cell_type": "code",
   "execution_count": 35,
   "metadata": {},
   "outputs": [
    {
     "name": "stdout",
     "output_type": "stream",
     "text": [
      "Already created\n"
     ]
    }
   ],
   "source": [
    "try:\n",
    "    os.mkdir(\"abc\")\n",
    "except FileExistsError as e: \n",
    "    print(\"Already created\")"
   ]
  },
  {
   "cell_type": "code",
   "execution_count": 36,
   "metadata": {},
   "outputs": [
    {
     "data": {
      "text/plain": [
       "True"
      ]
     },
     "execution_count": 36,
     "metadata": {},
     "output_type": "execute_result"
    }
   ],
   "source": [
    "os.path.exists(\"abc\")"
   ]
  },
  {
   "cell_type": "code",
   "execution_count": 31,
   "metadata": {},
   "outputs": [],
   "source": [
    "if not os.path.isdir(\"log\"): # 디렉토리 유무 확인\n",
    "    os.mkdir(\"log\")"
   ]
  },
  {
   "cell_type": "code",
   "execution_count": 38,
   "metadata": {},
   "outputs": [
    {
     "data": {
      "text/plain": [
       "'abc\\\\dongseok.txt'"
      ]
     },
     "execution_count": 38,
     "metadata": {},
     "output_type": "execute_result"
    }
   ],
   "source": [
    "import shutil # 파일을 옮기는 함수\n",
    "\n",
    "source = \"i_have_a_dream.txt\"\n",
    "dest = os.path.join(\"abc\", \"dongseok.txt\") # 디렉토리 생성\n",
    "shutil.copy(source, dest) # shutil.copy : 파일 복사 함수"
   ]
  },
  {
   "cell_type": "markdown",
   "metadata": {},
   "source": [
    "pathlib : path를 객체로 다룸, 윈도우와 리눅스 등의 path가 달라 통일 시킬 수 있음"
   ]
  },
  {
   "cell_type": "code",
   "execution_count": 1,
   "metadata": {},
   "outputs": [],
   "source": [
    "import pathlib"
   ]
  },
  {
   "cell_type": "code",
   "execution_count": 2,
   "metadata": {},
   "outputs": [
    {
     "data": {
      "text/plain": [
       "WindowsPath('C:/Users/dlsef/jupyter project/naver_boostcorse')"
      ]
     },
     "execution_count": 2,
     "metadata": {},
     "output_type": "execute_result"
    }
   ],
   "source": [
    "pathlib.Path.cwd() # 현재 디렉토리"
   ]
  },
  {
   "cell_type": "code",
   "execution_count": 3,
   "metadata": {},
   "outputs": [
    {
     "data": {
      "text/plain": [
       "WindowsPath('C:/Users/dlsef/jupyter project/naver_boostcorse')"
      ]
     },
     "execution_count": 3,
     "metadata": {},
     "output_type": "execute_result"
    }
   ],
   "source": [
    "cwd = pathlib.Path.cwd() \n",
    "cwd"
   ]
  },
  {
   "cell_type": "code",
   "execution_count": 4,
   "metadata": {},
   "outputs": [
    {
     "data": {
      "text/plain": [
       "WindowsPath('C:/Users/dlsef/jupyter project')"
      ]
     },
     "execution_count": 4,
     "metadata": {},
     "output_type": "execute_result"
    }
   ],
   "source": [
    "cwd.parent # 부모 디렉토리"
   ]
  },
  {
   "cell_type": "code",
   "execution_count": 6,
   "metadata": {},
   "outputs": [
    {
     "data": {
      "text/plain": [
       "WindowsPath('C:/Users/dlsef')"
      ]
     },
     "execution_count": 6,
     "metadata": {},
     "output_type": "execute_result"
    }
   ],
   "source": [
    "cwd.parent.parent"
   ]
  },
  {
   "cell_type": "code",
   "execution_count": 7,
   "metadata": {},
   "outputs": [
    {
     "data": {
      "text/plain": [
       "[WindowsPath('C:/Users/dlsef'), WindowsPath('C:/Users'), WindowsPath('C:/')]"
      ]
     },
     "execution_count": 7,
     "metadata": {},
     "output_type": "execute_result"
    }
   ],
   "source": [
    "list(cwd.parent.parents) # 부모 폴더들을 각각 나눠서 저장"
   ]
  },
  {
   "cell_type": "code",
   "execution_count": 8,
   "metadata": {},
   "outputs": [
    {
     "data": {
      "text/plain": [
       "<generator object Path.glob at 0x000001A431FAB5C8>"
      ]
     },
     "execution_count": 8,
     "metadata": {},
     "output_type": "execute_result"
    }
   ],
   "source": [
    "cwd.glob(\"*\")"
   ]
  },
  {
   "cell_type": "code",
   "execution_count": 9,
   "metadata": {
    "scrolled": true
   },
   "outputs": [
    {
     "data": {
      "text/plain": [
       "[WindowsPath('C:/Users/dlsef/jupyter project/naver_boostcorse/.ipynb_checkpoints'),\n",
       " WindowsPath('C:/Users/dlsef/jupyter project/naver_boostcorse/abc'),\n",
       " WindowsPath('C:/Users/dlsef/jupyter project/naver_boostcorse/count_log.txt'),\n",
       " WindowsPath('C:/Users/dlsef/jupyter project/naver_boostcorse/fah_converter.py'),\n",
       " WindowsPath('C:/Users/dlsef/jupyter project/naver_boostcorse/i_have_a_dream.txt'),\n",
       " WindowsPath('C:/Users/dlsef/jupyter project/naver_boostcorse/log'),\n",
       " WindowsPath('C:/Users/dlsef/jupyter project/naver_boostcorse/Module and Project'),\n",
       " WindowsPath('C:/Users/dlsef/jupyter project/naver_boostcorse/module_ex.py'),\n",
       " WindowsPath('C:/Users/dlsef/jupyter project/naver_boostcorse/Untitled.ipynb'),\n",
       " WindowsPath('C:/Users/dlsef/jupyter project/naver_boostcorse/Untitled1.ipynb'),\n",
       " WindowsPath('C:/Users/dlsef/jupyter project/naver_boostcorse/[python]1. Objects_in_Python .ipynb'),\n",
       " WindowsPath('C:/Users/dlsef/jupyter project/naver_boostcorse/[python]2. Module and Project.ipynb'),\n",
       " WindowsPath('C:/Users/dlsef/jupyter project/naver_boostcorse/[python]3. Exception_File_LogHandling.ipynb'),\n",
       " WindowsPath('C:/Users/dlsef/jupyter project/naver_boostcorse/__pycache__')]"
      ]
     },
     "execution_count": 9,
     "metadata": {},
     "output_type": "execute_result"
    }
   ],
   "source": [
    "list(cwd.glob(\"*\"))"
   ]
  },
  {
   "cell_type": "markdown",
   "metadata": {},
   "source": [
    "#### Log 파일 생성하기"
   ]
  },
  {
   "cell_type": "code",
   "execution_count": 15,
   "metadata": {},
   "outputs": [],
   "source": [
    "import os\n",
    "if not os.path.isdir(\"log\"): #log 폴더가 있어요?\n",
    "    os.mkdir(\"log\")\n",
    "    \n",
    "TARGET_FILE_PATH = os.path.join(\"log\", \"count_log.txt\") # 로그 디렉토리 설정\n",
    "\n",
    "if not os.path.exists(TARGET_FILE_PATH): # 처음 log파일 생성\n",
    "    f = open(TARGET_FILE_PATH, 'w', encoding=\"utf8\")\n",
    "    f.write(\"기록이 시작됩니다\\n\")\n",
    "    f.close()\n"
   ]
  },
  {
   "cell_type": "code",
   "execution_count": 16,
   "metadata": {},
   "outputs": [],
   "source": [
    "with open(TARGET_FILE_PATH, 'a', encoding=\"utf8\") as f: # 추후 추가\n",
    "    import random, datetime\n",
    "    for i in range(1, 11):\n",
    "        stamp = str(datetime.datetime.now())\n",
    "        value = random.random() * 100000\n",
    "        log_line = stamp + \"\\n\" + str(value) + \"값이 생성되었습니다.\" + \"\\n\"\n",
    "        f.write(log_line)"
   ]
  },
  {
   "cell_type": "markdown",
   "metadata": {},
   "source": [
    "### Pickle\n",
    "파이썬의 객체를 영속화(persistence)하는 built-in 객체\n",
    "\n",
    "객체는 어디에 있어야 하나? 메모리에 업로드, 그러나 파이썬을 종료하면 사라진다. 다시 그 정보를 쓰기 위해선 영속화 즉 피클을 사용한다.\n",
    "\n",
    "* 데이터, object 등 실행중 정보를 저장 -> 불러와서 사용\n",
    "* 저장해야하는 정보, 계산 결과(모델) 등 활용이 많음"
   ]
  },
  {
   "cell_type": "code",
   "execution_count": 4,
   "metadata": {},
   "outputs": [],
   "source": [
    "import pickle\n",
    "\n",
    "f = open(\"list.pickle\", \"wb\") # wb : binary 파일, 메모장에서는 안열린다!\n",
    "test = [1, 2, 3, 4, 5]\n",
    "pickle.dump(test,f)\n",
    "f.close()"
   ]
  },
  {
   "cell_type": "code",
   "execution_count": 18,
   "metadata": {},
   "outputs": [
    {
     "data": {
      "text/plain": [
       "[1, 2, 3, 4, 5]"
      ]
     },
     "execution_count": 18,
     "metadata": {},
     "output_type": "execute_result"
    }
   ],
   "source": [
    "test"
   ]
  },
  {
   "cell_type": "code",
   "execution_count": 19,
   "metadata": {},
   "outputs": [],
   "source": [
    "del test"
   ]
  },
  {
   "cell_type": "code",
   "execution_count": 20,
   "metadata": {},
   "outputs": [
    {
     "ename": "NameError",
     "evalue": "name 'test' is not defined",
     "output_type": "error",
     "traceback": [
      "\u001b[1;31m---------------------------------------------------------------------------\u001b[0m",
      "\u001b[1;31mNameError\u001b[0m                                 Traceback (most recent call last)",
      "\u001b[1;32m<ipython-input-20-4e1243bd22c6>\u001b[0m in \u001b[0;36m<module>\u001b[1;34m\u001b[0m\n\u001b[1;32m----> 1\u001b[1;33m \u001b[0mtest\u001b[0m\u001b[1;33m\u001b[0m\u001b[1;33m\u001b[0m\u001b[0m\n\u001b[0m",
      "\u001b[1;31mNameError\u001b[0m: name 'test' is not defined"
     ]
    }
   ],
   "source": [
    "test"
   ]
  },
  {
   "cell_type": "code",
   "execution_count": 21,
   "metadata": {},
   "outputs": [],
   "source": [
    "f = open(\"list.pickle\", \"rb\")\n",
    "test_pickle = pickle.load(f)\n",
    "test_pickle\n",
    "f.close()"
   ]
  },
  {
   "cell_type": "code",
   "execution_count": 12,
   "metadata": {},
   "outputs": [],
   "source": [
    "class Multiply(object):\n",
    "    def __init__(self, multiplier):\n",
    "        self.multiplier = multiplier\n",
    "        \n",
    "    def multiply(self, number):\n",
    "        return number * self.multiplier"
   ]
  },
  {
   "cell_type": "code",
   "execution_count": 13,
   "metadata": {},
   "outputs": [
    {
     "data": {
      "text/plain": [
       "25"
      ]
     },
     "execution_count": 13,
     "metadata": {},
     "output_type": "execute_result"
    }
   ],
   "source": [
    "multiply = Multiply(5)\n",
    "multiply.multiply(5)"
   ]
  },
  {
   "cell_type": "code",
   "execution_count": 14,
   "metadata": {},
   "outputs": [],
   "source": [
    "f = open(\"multiply_object.pickle\", \"wb\")\n",
    "pickle.dump(multiply, f)\n",
    "f.close()"
   ]
  },
  {
   "cell_type": "code",
   "execution_count": 15,
   "metadata": {},
   "outputs": [],
   "source": [
    "del multiply"
   ]
  },
  {
   "cell_type": "code",
   "execution_count": 16,
   "metadata": {},
   "outputs": [
    {
     "ename": "NameError",
     "evalue": "name 'multiply' is not defined",
     "output_type": "error",
     "traceback": [
      "\u001b[1;31m---------------------------------------------------------------------------\u001b[0m",
      "\u001b[1;31mNameError\u001b[0m                                 Traceback (most recent call last)",
      "\u001b[1;32m<ipython-input-16-d8ca8d133468>\u001b[0m in \u001b[0;36m<module>\u001b[1;34m\u001b[0m\n\u001b[1;32m----> 1\u001b[1;33m \u001b[0mmultiply\u001b[0m\u001b[1;33m\u001b[0m\u001b[1;33m\u001b[0m\u001b[0m\n\u001b[0m",
      "\u001b[1;31mNameError\u001b[0m: name 'multiply' is not defined"
     ]
    }
   ],
   "source": [
    "multiply"
   ]
  },
  {
   "cell_type": "code",
   "execution_count": 17,
   "metadata": {},
   "outputs": [
    {
     "data": {
      "text/plain": [
       "500"
      ]
     },
     "execution_count": 17,
     "metadata": {},
     "output_type": "execute_result"
    }
   ],
   "source": [
    "f = open(\"multiply_object.pickle\", \"rb\")\n",
    "multiply_pickle = pickle.load(f)\n",
    "multiply_pickle.multiply(100)"
   ]
  },
  {
   "cell_type": "markdown",
   "metadata": {},
   "source": [
    "### Logging Handling\n",
    "\n",
    "#### 로그남기기 - Logging\n",
    "프로그램이 실행되는 동안 일어나는 정보를 기록을 남기기\n",
    "\n",
    "* 무엇을? 유저의 접근, 프로그램의 Exception, 특정 함수의 사용\n",
    "* 어디에 남기나? Console 화면에 출력, 파일에 남기기, DB에 남기기 등등\n",
    "* 기록된 로그를 분석하여 의미있는 결과를 도출 할 수 있음\n",
    "* 실행 시점에서 남겨야 하는 기록, 개발시점에서 남겨야하는 기록"
   ]
  },
  {
   "cell_type": "markdown",
   "metadata": {},
   "source": [
    "#### print vs logging\n",
    "\n",
    "기록을 print로 남기는 것도 가능하나, **Console 창에만 남기는 기록은 분석시 사용 불가**하여 떄로는 레벨별(개발, 운영)로 기록을 남길 필요도 있다.\n",
    "\n",
    "* 모듈별로 별도의 logging을 남길 필요도 있다.\n",
    "* 이러한 기능을 체계적으로 지원하는 모듈이 필요"
   ]
  },
  {
   "cell_type": "markdown",
   "metadata": {},
   "source": [
    "#### logging level\n",
    "프로그램 진행 상황에 따라 다른 Level의 Log를 출력한다.\n",
    "\n",
    "* 개발 시점(DEBUG), 운영 시점(INFO, WARNING..)마다 다른 Log가 남을 수 있도록 지원\n",
    "* DEBUG < INFO < WARNING < ERROR < Critcal\n",
    "* Log 관리시 가장 기본이 되는 설정 정보"
   ]
  },
  {
   "cell_type": "markdown",
   "metadata": {},
   "source": [
    "파이썬에서는 기본적으로 WARNING Level부터 사용자에게 보여진다."
   ]
  },
  {
   "cell_type": "code",
   "execution_count": 18,
   "metadata": {},
   "outputs": [],
   "source": [
    "import logging # 파이썬의 기본 Log 관리 모듈\n",
    "\n",
    "logging.debug(\"틀렸어!!\")\n",
    "logging.info(\"확인!!\")\n",
    "logging.warning(\"조심해!!\")\n",
    "logging.error(\"에러났다!!\")\n",
    "logging.critical(\"망했다!!\")"
   ]
  },
  {
   "cell_type": "markdown",
   "metadata": {},
   "source": [
    "실제 프로그램을 실행할 때는 여러 설정이 필요하다.\n",
    "\n",
    "1) 데이터 파일 위치\n",
    "2) 파일 저장 장소\n",
    "3) Operation Type 등\n",
    "\n",
    "이와 같은 설정은 두가지 방법이 있다.\n",
    "\n",
    "* configparser : 파일에 설정\n",
    "* argparser : 실행시점에"
   ]
  },
  {
   "cell_type": "markdown",
   "metadata": {},
   "source": [
    "#### configparser\n",
    "\n",
    "* 프로그램의 실행 설정을 file에 저장함\n",
    "* Section, Key, Value 값의 형태로 설정된 설정 파일을 사용\n",
    "* 설정파일을 Dict Type으로 호출후 사용"
   ]
  },
  {
   "cell_type": "markdown",
   "metadata": {},
   "source": [
    "#### config file\n",
    "[SectionOne] \n",
    "* Section - 대괄호\n",
    "\n",
    "Status: Single    \n",
    "* 속성 - Key : Value or Key = Value\n",
    "\n",
    "Name: Derek\n",
    "\n",
    "..."
   ]
  },
  {
   "cell_type": "code",
   "execution_count": 3,
   "metadata": {},
   "outputs": [
    {
     "data": {
      "text/plain": [
       "[]"
      ]
     },
     "execution_count": 3,
     "metadata": {},
     "output_type": "execute_result"
    }
   ],
   "source": [
    "import configparser\n",
    "config = configparser.ConfigParser()\n",
    "config.sections()"
   ]
  },
  {
   "cell_type": "code",
   "execution_count": 4,
   "metadata": {},
   "outputs": [
    {
     "data": {
      "text/plain": [
       "['SectionOne', 'SectionTwo', 'SectionThree']"
      ]
     },
     "execution_count": 4,
     "metadata": {},
     "output_type": "execute_result"
    }
   ],
   "source": [
    "config.read(\"example.cfg\")\n",
    "config.sections()"
   ]
  },
  {
   "cell_type": "code",
   "execution_count": 5,
   "metadata": {},
   "outputs": [
    {
     "name": "stdout",
     "output_type": "stream",
     "text": [
      "status\n",
      "name\n",
      "value\n",
      "age\n",
      "single\n"
     ]
    }
   ],
   "source": [
    "for key in config['SectionOne']:\n",
    "    print(key) "
   ]
  },
  {
   "cell_type": "code",
   "execution_count": 16,
   "metadata": {},
   "outputs": [
    {
     "name": "stdout",
     "output_type": "stream",
     "text": [
      "<Section: SectionOne>\n"
     ]
    }
   ],
   "source": [
    "print(config['SectionOne']) # 객체 형태로만 나타남"
   ]
  },
  {
   "cell_type": "code",
   "execution_count": 17,
   "metadata": {},
   "outputs": [
    {
     "data": {
      "text/plain": [
       "<Section: SectionOne>"
      ]
     },
     "execution_count": 17,
     "metadata": {},
     "output_type": "execute_result"
    }
   ],
   "source": [
    "config['SectionOne']"
   ]
  },
  {
   "cell_type": "code",
   "execution_count": 21,
   "metadata": {},
   "outputs": [
    {
     "name": "stdout",
     "output_type": "stream",
     "text": [
      "favoritecolor : Green\n"
     ]
    }
   ],
   "source": [
    "for key in config['SectionTwo']:\n",
    "    value = config['SectionTwo'][key]\n",
    "    print(\"{0} : {1}\".format(key,value))"
   ]
  },
  {
   "cell_type": "markdown",
   "metadata": {},
   "source": [
    "#### argparser\n",
    "Console 창에서 프로그램 실행시 Setting 정보를 저장함, 거의 모든 Console 기반 Python 프로그램 기본으로 제공\n",
    "\n",
    "* 특수 모듈도 많이 존재하지만(TF), 일반적으로 argparse를 사용\n",
    "* Command-Line Option 이라고 부름"
   ]
  },
  {
   "cell_type": "code",
   "execution_count": 22,
   "metadata": {
    "scrolled": false
   },
   "outputs": [
    {
     "name": "stderr",
     "output_type": "stream",
     "text": [
      "usage: ipykernel_launcher.py [-h] [-a A_VALUE] [-b B_VALUE]\n",
      "ipykernel_launcher.py: error: unrecognized arguments: -f C:\\Users\\dlsef\\AppData\\Roaming\\jupyter\\runtime\\kernel-794cf7be-8dcb-435c-8107-5336705d73e5.json\n"
     ]
    },
    {
     "ename": "SystemExit",
     "evalue": "2",
     "output_type": "error",
     "traceback": [
      "An exception has occurred, use %tb to see the full traceback.\n",
      "\u001b[1;31mSystemExit\u001b[0m\u001b[1;31m:\u001b[0m 2\n"
     ]
    },
    {
     "name": "stderr",
     "output_type": "stream",
     "text": [
      "C:\\Users\\dlsef\\anaconda3\\lib\\site-packages\\IPython\\core\\interactiveshell.py:3339: UserWarning: To exit: use 'exit', 'quit', or Ctrl-D.\n",
      "  warn(\"To exit: use 'exit', 'quit', or Ctrl-D.\", stacklevel=1)\n"
     ]
    }
   ],
   "source": [
    "import argparse\n",
    "\n",
    "parser = argparse.ArgumentParser(description=\"Sum Two integers.\")\n",
    "\n",
    "parser.add_argument('-a', \"--a_value\", dest=\"A_value\", help=\"A integers\", type=int)\n",
    "parser.add_argument('-b', \"--b_vaule\", dest=\"B_value\", help=\"B integers\", type=int)\n",
    "                    #짧은 이름, 긴이름, 표시명, Help 설명, Argument Type\n",
    "\n",
    "# 실행할때는 -a 10 -b 10 과 같은 방식으로 사전에 입력하여 실행\n",
    "args = parser.parse_args()\n",
    "print(args)\n",
    "print(args.a)\n",
    "print(args.b)\n",
    "print(args.a + args.b)"
   ]
  },
  {
   "cell_type": "markdown",
   "metadata": {},
   "source": [
    "https://ddiri01.tistory.com/302"
   ]
  },
  {
   "cell_type": "markdown",
   "metadata": {},
   "source": [
    "#### Logging Formatter\n",
    "Log의 결과값의 format을 지정해줄 수 있음"
   ]
  },
  {
   "cell_type": "code",
   "execution_count": 23,
   "metadata": {},
   "outputs": [
    {
     "ename": "NameError",
     "evalue": "name 'logging' is not defined",
     "output_type": "error",
     "traceback": [
      "\u001b[1;31m---------------------------------------------------------------------------\u001b[0m",
      "\u001b[1;31mNameError\u001b[0m                                 Traceback (most recent call last)",
      "\u001b[1;32m<ipython-input-23-690549970859>\u001b[0m in \u001b[0;36m<module>\u001b[1;34m\u001b[0m\n\u001b[1;32m----> 1\u001b[1;33m \u001b[0mformatter\u001b[0m \u001b[1;33m=\u001b[0m \u001b[0mlogging\u001b[0m\u001b[1;33m.\u001b[0m\u001b[0mFormatter\u001b[0m\u001b[1;33m(\u001b[0m\u001b[1;34m\"%(asctime)s %(levelname)s, %(process)d %(message)s\"\u001b[0m\u001b[1;33m)\u001b[0m\u001b[1;33m\u001b[0m\u001b[1;33m\u001b[0m\u001b[0m\n\u001b[0m",
      "\u001b[1;31mNameError\u001b[0m: name 'logging' is not defined"
     ]
    }
   ],
   "source": [
    "formatter = logging.Formatter(\"%(asctime)s %(levelname)s, %(process)d %(message)s\")"
   ]
  },
  {
   "cell_type": "code",
   "execution_count": null,
   "metadata": {},
   "outputs": [],
   "source": [
    "logging.config.fileConfig('logging.conf')\n",
    "logger = logging.getLogger()"
   ]
  },
  {
   "cell_type": "code",
   "execution_count": null,
   "metadata": {},
   "outputs": [],
   "source": []
  },
  {
   "cell_type": "code",
   "execution_count": null,
   "metadata": {},
   "outputs": [],
   "source": []
  }
 ],
 "metadata": {
  "kernelspec": {
   "display_name": "Python 3 (ipykernel)",
   "language": "python",
   "name": "python3"
  },
  "language_info": {
   "codemirror_mode": {
    "name": "ipython",
    "version": 3
   },
   "file_extension": ".py",
   "mimetype": "text/x-python",
   "name": "python",
   "nbconvert_exporter": "python",
   "pygments_lexer": "ipython3",
   "version": "3.8.10"
  }
 },
 "nbformat": 4,
 "nbformat_minor": 4
}
