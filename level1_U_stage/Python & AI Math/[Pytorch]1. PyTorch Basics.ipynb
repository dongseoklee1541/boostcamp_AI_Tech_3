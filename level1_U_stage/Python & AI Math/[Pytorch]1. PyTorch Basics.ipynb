{
 "cells": [
  {
   "cell_type": "code",
   "execution_count": 1,
   "id": "b049917a",
   "metadata": {},
   "outputs": [],
   "source": [
    "from IPython.display import Image"
   ]
  },
  {
   "cell_type": "markdown",
   "id": "85e69423",
   "metadata": {},
   "source": [
    "### Computational Graph\n",
    "연산의 과정을 그래프로 표현, Pytorch에서는 TF와는 다르게, 실행 시점에서 그래프가 그려진다."
   ]
  },
  {
   "cell_type": "code",
   "execution_count": 72,
   "id": "43f58bef",
   "metadata": {},
   "outputs": [
    {
     "data": {
      "image/jpeg": "[encoded data removed]",
      "text/plain": [
       "<IPython.core.display.Image object>"
      ]
     },
     "execution_count": 72,
     "metadata": {},
     "output_type": "execute_result"
    }
   ],
   "source": [
    "Image(\"../images/computational_graph_equation2.jpg\")"
   ]
  },
  {
   "cell_type": "markdown",
   "id": "908774c2",
   "metadata": {},
   "source": [
    "* Define and Run,TF : 그래프를 먼저 정의 -> 실행시점에 데이터 Feed\n",
    "  * TF는 production 과 scalability의 장점이 있다\n",
    "  \n",
    "  \n",
    "* Define by Run(Dynamnic Computational Graph, DCG), Torch : 실행을 하면서 그래프를 생성하는 방식\n",
    "\n",
    "DCG 방식으로 인해 실행중간에 그래프를 통해서 과정을 확인 할 수 있다는 점으로 디버그가 쉬워졌다.\n",
    "\n",
    "* AutoGrad : 자동미분"
   ]
  },
  {
   "cell_type": "markdown",
   "id": "485aa6ac",
   "metadata": {},
   "source": [
    "## PyTorch Operation\n",
    "\n",
    "### Tensor\n",
    "다차원 Arrays를 표현하는 PyTorch 클래스, 사실상 numpy의 ndarray와 동일\n"
   ]
  },
  {
   "cell_type": "code",
   "execution_count": 3,
   "id": "ca877398",
   "metadata": {},
   "outputs": [
    {
     "name": "stdout",
     "output_type": "stream",
     "text": [
      "[[0 1 2 3 4]\n",
      " [5 6 7 8 9]]\n",
      "ndim : 2 shape : (2, 5)\n"
     ]
    }
   ],
   "source": [
    "import numpy as np\n",
    "n_array = np.arange(10).reshape(2,5)\n",
    "print(n_array)\n",
    "print(\"ndim :\", n_array.ndim , \"shape :\", n_array.shape)"
   ]
  },
  {
   "cell_type": "code",
   "execution_count": 4,
   "id": "da3926b7",
   "metadata": {
    "scrolled": true
   },
   "outputs": [
    {
     "name": "stdout",
     "output_type": "stream",
     "text": [
      "tensor([[0., 1., 2., 3., 4.],\n",
      "        [5., 6., 7., 8., 9.]])\n",
      "ndim : 2 shape : torch.Size([2, 5])\n"
     ]
    }
   ],
   "source": [
    "import torch\n",
    "t_array = torch.FloatTensor(n_array)\n",
    "print(t_array)\n",
    "print(\"ndim :\", t_array.ndim, \"shape :\", t_array.shape)"
   ]
  },
  {
   "cell_type": "markdown",
   "id": "4fffab92",
   "metadata": {},
   "source": [
    "Tensor 생성은 list나 ndarray로 사용 가능"
   ]
  },
  {
   "cell_type": "code",
   "execution_count": 10,
   "id": "99e0156c",
   "metadata": {},
   "outputs": [
    {
     "data": {
      "text/plain": [
       "tensor([[ 3,  5],\n",
       "        [10,  5]])"
      ]
     },
     "execution_count": 10,
     "metadata": {},
     "output_type": "execute_result"
    }
   ],
   "source": [
    "# data to tensor\n",
    "data = [[3, 5], [10, 5]]\n",
    "x_data = torch.tensor(data)\n",
    "x_data"
   ]
  },
  {
   "cell_type": "code",
   "execution_count": 7,
   "id": "86fa925f",
   "metadata": {},
   "outputs": [],
   "source": [
    "data = [[3, 5, 20], [10, 5, 50], [1, 5, 10]]\n",
    "x_data = torch.tensor(data)"
   ]
  },
  {
   "cell_type": "code",
   "execution_count": 12,
   "id": "79b13aa1",
   "metadata": {},
   "outputs": [
    {
     "data": {
      "text/plain": [
       "tensor([[10,  5, 50],\n",
       "        [ 1,  5, 10]])"
      ]
     },
     "execution_count": 12,
     "metadata": {},
     "output_type": "execute_result"
    }
   ],
   "source": [
    "x_data[1:]"
   ]
  },
  {
   "cell_type": "code",
   "execution_count": 13,
   "id": "48ddecbe",
   "metadata": {},
   "outputs": [
    {
     "data": {
      "text/plain": [
       "tensor([[ 5, 20],\n",
       "        [ 5, 50]])"
      ]
     },
     "execution_count": 13,
     "metadata": {},
     "output_type": "execute_result"
    }
   ],
   "source": [
    "x_data[:2, 1:]"
   ]
  },
  {
   "cell_type": "code",
   "execution_count": 14,
   "id": "6ae67006",
   "metadata": {},
   "outputs": [
    {
     "data": {
      "text/plain": [
       "tensor([ 3,  5, 20, 10,  5, 50,  1,  5, 10])"
      ]
     },
     "execution_count": 14,
     "metadata": {},
     "output_type": "execute_result"
    }
   ],
   "source": [
    "x_data.flatten()"
   ]
  },
  {
   "cell_type": "code",
   "execution_count": 15,
   "id": "ca4dca97",
   "metadata": {},
   "outputs": [
    {
     "data": {
      "text/plain": [
       "tensor([[1, 1, 1],\n",
       "        [1, 1, 1],\n",
       "        [1, 1, 1]])"
      ]
     },
     "execution_count": 15,
     "metadata": {},
     "output_type": "execute_result"
    }
   ],
   "source": [
    "torch.ones_like(x_data)"
   ]
  },
  {
   "cell_type": "code",
   "execution_count": 16,
   "id": "cfd3ac61",
   "metadata": {},
   "outputs": [
    {
     "data": {
      "text/plain": [
       "array([[ 3,  5, 20],\n",
       "       [10,  5, 50],\n",
       "       [ 1,  5, 10]], dtype=int64)"
      ]
     },
     "execution_count": 16,
     "metadata": {},
     "output_type": "execute_result"
    }
   ],
   "source": [
    "x_data.numpy()"
   ]
  },
  {
   "cell_type": "code",
   "execution_count": 17,
   "id": "08e0c2f5",
   "metadata": {},
   "outputs": [
    {
     "data": {
      "text/plain": [
       "torch.Size([3, 3])"
      ]
     },
     "execution_count": 17,
     "metadata": {},
     "output_type": "execute_result"
    }
   ],
   "source": [
    "x_data.shape"
   ]
  },
  {
   "cell_type": "code",
   "execution_count": 18,
   "id": "41a9d9ba",
   "metadata": {
    "scrolled": true
   },
   "outputs": [
    {
     "data": {
      "text/plain": [
       "torch.int64"
      ]
     },
     "execution_count": 18,
     "metadata": {},
     "output_type": "execute_result"
    }
   ],
   "source": [
    "x_data.dtype"
   ]
  },
  {
   "cell_type": "markdown",
   "id": "894df234",
   "metadata": {},
   "source": [
    "pytorch의 tensor는 GPU에 올려서 사용 가능"
   ]
  },
  {
   "cell_type": "code",
   "execution_count": 19,
   "id": "adcabe99",
   "metadata": {},
   "outputs": [
    {
     "data": {
      "text/plain": [
       "device(type='cpu')"
      ]
     },
     "execution_count": 19,
     "metadata": {},
     "output_type": "execute_result"
    }
   ],
   "source": [
    "x_data.device"
   ]
  },
  {
   "cell_type": "code",
   "execution_count": 9,
   "id": "4b9a20e2",
   "metadata": {
    "scrolled": true
   },
   "outputs": [
    {
     "data": {
      "text/plain": [
       "device(type='cuda', index=0)"
      ]
     },
     "execution_count": 9,
     "metadata": {},
     "output_type": "execute_result"
    }
   ],
   "source": [
    "# torch, torchversion의 버전들을 확인하자\n",
    "if torch.cuda.is_available():\n",
    "    x_data_cuda = x_data.to('cuda')\n",
    "x_data_cuda.device"
   ]
  },
  {
   "cell_type": "markdown",
   "id": "dcbb6eb0",
   "metadata": {},
   "source": [
    "### Tensor handling\n",
    "view, squeeze, unsqueeze 등으로 tensor 조정가능\n",
    "\n",
    "* view : reshape 와 동일하게 tensor의 shape을 변환\n",
    "* squeeze : 차원의 개수가 1인 차원을 삭제(압축)\n",
    "* unsqueeze : 차원의 개수가 1인 차원을 추가"
   ]
  },
  {
   "cell_type": "markdown",
   "id": "c9b30bed",
   "metadata": {},
   "source": [
    "#### view"
   ]
  },
  {
   "cell_type": "code",
   "execution_count": 10,
   "id": "fe90c5b0",
   "metadata": {
    "scrolled": true
   },
   "outputs": [
    {
     "data": {
      "text/plain": [
       "tensor([[[0.2973, 0.7681],\n",
       "         [0.7729, 0.5307],\n",
       "         [0.1061, 0.2057]],\n",
       "\n",
       "        [[0.6637, 0.8607],\n",
       "         [0.5544, 0.1981],\n",
       "         [0.2562, 0.0809]]])"
      ]
     },
     "execution_count": 10,
     "metadata": {},
     "output_type": "execute_result"
    }
   ],
   "source": [
    "tensor_ex = torch.rand(size=(2,3,2))\n",
    "tensor_ex"
   ]
  },
  {
   "cell_type": "code",
   "execution_count": 11,
   "id": "4c7e2da9",
   "metadata": {},
   "outputs": [
    {
     "data": {
      "text/plain": [
       "tensor([[0.2973, 0.7681, 0.7729, 0.5307, 0.1061, 0.2057],\n",
       "        [0.6637, 0.8607, 0.5544, 0.1981, 0.2562, 0.0809]])"
      ]
     },
     "execution_count": 11,
     "metadata": {},
     "output_type": "execute_result"
    }
   ],
   "source": [
    "tensor_ex.view([-1,6])"
   ]
  },
  {
   "cell_type": "code",
   "execution_count": 12,
   "id": "7a00bad8",
   "metadata": {},
   "outputs": [
    {
     "data": {
      "text/plain": [
       "tensor([[0.2973, 0.7681, 0.7729, 0.5307, 0.1061, 0.2057],\n",
       "        [0.6637, 0.8607, 0.5544, 0.1981, 0.2562, 0.0809]])"
      ]
     },
     "execution_count": 12,
     "metadata": {},
     "output_type": "execute_result"
    }
   ],
   "source": [
    "tensor_ex.reshape([-1,6]) # reshape도 같은 역할"
   ]
  },
  {
   "cell_type": "code",
   "execution_count": 13,
   "id": "5a75c66c",
   "metadata": {},
   "outputs": [
    {
     "data": {
      "text/plain": [
       "tensor([[1., 1.],\n",
       "        [1., 1.],\n",
       "        [1., 1.]])"
      ]
     },
     "execution_count": 13,
     "metadata": {},
     "output_type": "execute_result"
    }
   ],
   "source": [
    "a = torch.zeros(3,2)\n",
    "b = a.view(2,3) # copy가 아닌 기존의 메모리 주소를 그대로 사용\n",
    "a.fill_(1)"
   ]
  },
  {
   "cell_type": "code",
   "execution_count": 14,
   "id": "552b8d1a",
   "metadata": {},
   "outputs": [
    {
     "data": {
      "text/plain": [
       "tensor([[1., 1., 1.],\n",
       "        [1., 1., 1.]])"
      ]
     },
     "execution_count": 14,
     "metadata": {},
     "output_type": "execute_result"
    }
   ],
   "source": [
    "b"
   ]
  },
  {
   "cell_type": "code",
   "execution_count": 15,
   "id": "833b50c7",
   "metadata": {},
   "outputs": [
    {
     "data": {
      "text/plain": [
       "tensor([[1., 1.],\n",
       "        [1., 1.],\n",
       "        [1., 1.]])"
      ]
     },
     "execution_count": 15,
     "metadata": {},
     "output_type": "execute_result"
    }
   ],
   "source": [
    "a = torch.zeros(3,2)\n",
    "b = a.t().reshape(6) # 메모리 구조를 바꾸는 경우 copy\n",
    "a.fill_(1)"
   ]
  },
  {
   "cell_type": "code",
   "execution_count": 16,
   "id": "657f87dd",
   "metadata": {
    "scrolled": true
   },
   "outputs": [
    {
     "data": {
      "text/plain": [
       "tensor([0., 0., 0., 0., 0., 0.])"
      ]
     },
     "execution_count": 16,
     "metadata": {},
     "output_type": "execute_result"
    }
   ],
   "source": [
    "b"
   ]
  },
  {
   "cell_type": "markdown",
   "id": "630ae297",
   "metadata": {},
   "source": [
    "#### squeeze, unsqueeze"
   ]
  },
  {
   "cell_type": "code",
   "execution_count": 73,
   "id": "e1fdecaa",
   "metadata": {
    "scrolled": true
   },
   "outputs": [
    {
     "data": {
      "image/png": "[encoded data removed]",
      "text/plain": [
       "<IPython.core.display.Image object>"
      ]
     },
     "execution_count": 73,
     "metadata": {},
     "output_type": "execute_result"
    }
   ],
   "source": [
    "Image(\"../images/9AJJA.png\")"
   ]
  },
  {
   "cell_type": "markdown",
   "id": "7878ebc9",
   "metadata": {},
   "source": [
    "2 by 2 행렬을 기준으로\n",
    "\n",
    "* squeeze : 2,2,1 로 표현되는 2 by 2 행렬을 2,2 로 바꿔줌\n",
    "\n",
    "unsqueeze의 매개변수는 axis와 동일하다.\n",
    "* unsqueeze(0) : 1,2,2 로 index 상의 맨 끝에 붙여준다.\n",
    "* unsqueeze(1) : 2,1,2\n",
    "* unsqueeze(2) : 2,2,1"
   ]
  },
  {
   "cell_type": "code",
   "execution_count": 19,
   "id": "2662853b",
   "metadata": {},
   "outputs": [
    {
     "data": {
      "text/plain": [
       "torch.Size([1, 2, 2])"
      ]
     },
     "execution_count": 19,
     "metadata": {},
     "output_type": "execute_result"
    }
   ],
   "source": [
    "a = torch.tensor([[1,2], [3,4]])\n",
    "a.unsqueeze(0).shape"
   ]
  },
  {
   "cell_type": "markdown",
   "id": "658d7e3c",
   "metadata": {},
   "source": [
    "### Tensor operations\n",
    "numpy와 동일"
   ]
  },
  {
   "cell_type": "code",
   "execution_count": 21,
   "id": "9a079ace",
   "metadata": {},
   "outputs": [],
   "source": [
    "n1 = np.arange(10).reshape(2,5)\n",
    "t1 = torch.FloatTensor(n1)"
   ]
  },
  {
   "cell_type": "code",
   "execution_count": 22,
   "id": "5a8fa9f0",
   "metadata": {},
   "outputs": [
    {
     "data": {
      "text/plain": [
       "tensor([[ 0.,  2.,  4.,  6.,  8.],\n",
       "        [10., 12., 14., 16., 18.]])"
      ]
     },
     "execution_count": 22,
     "metadata": {},
     "output_type": "execute_result"
    }
   ],
   "source": [
    "t1 + t1"
   ]
  },
  {
   "cell_type": "code",
   "execution_count": 23,
   "id": "e0cfb4ab",
   "metadata": {},
   "outputs": [
    {
     "data": {
      "text/plain": [
       "tensor([[0., 0., 0., 0., 0.],\n",
       "        [0., 0., 0., 0., 0.]])"
      ]
     },
     "execution_count": 23,
     "metadata": {},
     "output_type": "execute_result"
    }
   ],
   "source": [
    "t1 - t1"
   ]
  },
  {
   "cell_type": "code",
   "execution_count": 24,
   "id": "62a3fff5",
   "metadata": {
    "scrolled": true
   },
   "outputs": [
    {
     "data": {
      "text/plain": [
       "tensor([[10., 11., 12., 13., 14.],\n",
       "        [15., 16., 17., 18., 19.]])"
      ]
     },
     "execution_count": 24,
     "metadata": {},
     "output_type": "execute_result"
    }
   ],
   "source": [
    "t1 + 10"
   ]
  },
  {
   "cell_type": "markdown",
   "id": "41154bff",
   "metadata": {},
   "source": [
    "**행렬곱셈 연산 함수는 dot이 아닌 mm 사용**\n",
    "다만 mm은 벡터간의 연산이 안되니 그때는 dot을 쓰자.\n",
    "\n",
    "* 벡터간의 연산은 dot이 가능하나 행렬간의 연산은 mm을 쓰자."
   ]
  },
  {
   "cell_type": "code",
   "execution_count": 25,
   "id": "be15e958",
   "metadata": {},
   "outputs": [],
   "source": [
    "n2 = np.arange(10).reshape(5,2)\n",
    "t2 = torch.FloatTensor(n2)"
   ]
  },
  {
   "cell_type": "code",
   "execution_count": 27,
   "id": "481b4abd",
   "metadata": {
    "scrolled": true
   },
   "outputs": [
    {
     "data": {
      "text/plain": [
       "tensor([[0., 1., 2., 3., 4.],\n",
       "        [5., 6., 7., 8., 9.]])"
      ]
     },
     "execution_count": 27,
     "metadata": {},
     "output_type": "execute_result"
    }
   ],
   "source": [
    "t1"
   ]
  },
  {
   "cell_type": "code",
   "execution_count": 28,
   "id": "a59e10db",
   "metadata": {},
   "outputs": [
    {
     "data": {
      "text/plain": [
       "tensor([[0., 1.],\n",
       "        [2., 3.],\n",
       "        [4., 5.],\n",
       "        [6., 7.],\n",
       "        [8., 9.]])"
      ]
     },
     "execution_count": 28,
     "metadata": {},
     "output_type": "execute_result"
    }
   ],
   "source": [
    "t2"
   ]
  },
  {
   "cell_type": "code",
   "execution_count": 26,
   "id": "8098bbf6",
   "metadata": {
    "scrolled": false
   },
   "outputs": [
    {
     "data": {
      "text/plain": [
       "tensor([[ 60.,  70.],\n",
       "        [160., 195.]])"
      ]
     },
     "execution_count": 26,
     "metadata": {},
     "output_type": "execute_result"
    }
   ],
   "source": [
    "t1.mm(t2)"
   ]
  },
  {
   "cell_type": "code",
   "execution_count": 31,
   "id": "0c71a3c5",
   "metadata": {},
   "outputs": [
    {
     "data": {
      "text/plain": [
       "tensor(3.0840)"
      ]
     },
     "execution_count": 31,
     "metadata": {},
     "output_type": "execute_result"
    }
   ],
   "source": [
    "a = torch.rand(10)\n",
    "b = torch.rand(10)\n",
    "a.dot(b)"
   ]
  },
  {
   "cell_type": "code",
   "execution_count": 33,
   "id": "a2c4709a",
   "metadata": {},
   "outputs": [
    {
     "data": {
      "text/plain": [
       "tensor([[ 60.,  70.],\n",
       "        [160., 195.]])"
      ]
     },
     "execution_count": 33,
     "metadata": {},
     "output_type": "execute_result"
    }
   ],
   "source": [
    "t1.matmul(t2)"
   ]
  },
  {
   "cell_type": "code",
   "execution_count": 32,
   "id": "76b76754",
   "metadata": {},
   "outputs": [
    {
     "ename": "IndexError",
     "evalue": "Dimension out of range (expected to be in range of [-1, 0], but got 1)",
     "output_type": "error",
     "traceback": [
      "\u001b[1;31m---------------------------------------------------------------------------\u001b[0m",
      "\u001b[1;31mIndexError\u001b[0m                                Traceback (most recent call last)",
      "\u001b[1;32mC:\\Users\\Public\\Documents\\ESTsoft\\CreatorTemp/ipykernel_40516/3900945322.py\u001b[0m in \u001b[0;36m<module>\u001b[1;34m\u001b[0m\n\u001b[1;32m----> 1\u001b[1;33m \u001b[0ma\u001b[0m\u001b[1;33m.\u001b[0m\u001b[0mmm\u001b[0m\u001b[1;33m(\u001b[0m\u001b[0mb\u001b[0m\u001b[1;33m)\u001b[0m\u001b[1;33m\u001b[0m\u001b[1;33m\u001b[0m\u001b[0m\n\u001b[0m",
      "\u001b[1;31mIndexError\u001b[0m: Dimension out of range (expected to be in range of [-1, 0], but got 1)"
     ]
    }
   ],
   "source": [
    "a.mm(b) # mm은 벡터간의 연산 x"
   ]
  },
  {
   "cell_type": "code",
   "execution_count": 29,
   "id": "7d62fc3f",
   "metadata": {
    "scrolled": true
   },
   "outputs": [
    {
     "ename": "RuntimeError",
     "evalue": "1D tensors expected, got 2D, 2D tensors at C:\\w\\b\\windows\\pytorch\\aten\\src\\TH/generic/THTensorEvenMoreMath.cpp:431",
     "output_type": "error",
     "traceback": [
      "\u001b[1;31m---------------------------------------------------------------------------\u001b[0m",
      "\u001b[1;31mRuntimeError\u001b[0m                              Traceback (most recent call last)",
      "\u001b[1;32mC:\\Users\\Public\\Documents\\ESTsoft\\CreatorTemp/ipykernel_40516/2372691299.py\u001b[0m in \u001b[0;36m<module>\u001b[1;34m\u001b[0m\n\u001b[1;32m----> 1\u001b[1;33m \u001b[0mt1\u001b[0m\u001b[1;33m.\u001b[0m\u001b[0mdot\u001b[0m\u001b[1;33m(\u001b[0m\u001b[0mt2\u001b[0m\u001b[1;33m)\u001b[0m\u001b[1;33m\u001b[0m\u001b[1;33m\u001b[0m\u001b[0m\n\u001b[0m",
      "\u001b[1;31mRuntimeError\u001b[0m: 1D tensors expected, got 2D, 2D tensors at C:\\w\\b\\windows\\pytorch\\aten\\src\\TH/generic/THTensorEvenMoreMath.cpp:431"
     ]
    }
   ],
   "source": [
    "t1.dot(t2) # 행렬간 연산에서는 안됨"
   ]
  },
  {
   "cell_type": "markdown",
   "id": "6b7c3e4a",
   "metadata": {},
   "source": [
    "#### mm & matmul\n",
    "mm은 broadcasting 지원을 안하지만 matmul은 한다,"
   ]
  },
  {
   "cell_type": "code",
   "execution_count": 34,
   "id": "6dbef12c",
   "metadata": {
    "scrolled": true
   },
   "outputs": [
    {
     "ename": "IndexError",
     "evalue": "Dimension out of range (expected to be in range of [-1, 0], but got 1)",
     "output_type": "error",
     "traceback": [
      "\u001b[1;31m---------------------------------------------------------------------------\u001b[0m",
      "\u001b[1;31mIndexError\u001b[0m                                Traceback (most recent call last)",
      "\u001b[1;32mC:\\Users\\Public\\Documents\\ESTsoft\\CreatorTemp/ipykernel_40516/3650138060.py\u001b[0m in \u001b[0;36m<module>\u001b[1;34m\u001b[0m\n\u001b[0;32m      1\u001b[0m \u001b[0ma\u001b[0m \u001b[1;33m=\u001b[0m \u001b[0mtorch\u001b[0m\u001b[1;33m.\u001b[0m\u001b[0mrand\u001b[0m\u001b[1;33m(\u001b[0m\u001b[1;36m5\u001b[0m\u001b[1;33m,\u001b[0m \u001b[1;36m2\u001b[0m\u001b[1;33m,\u001b[0m \u001b[1;36m3\u001b[0m\u001b[1;33m)\u001b[0m\u001b[1;33m\u001b[0m\u001b[1;33m\u001b[0m\u001b[0m\n\u001b[0;32m      2\u001b[0m \u001b[0mb\u001b[0m \u001b[1;33m=\u001b[0m \u001b[0mtorch\u001b[0m\u001b[1;33m.\u001b[0m\u001b[0mrand\u001b[0m\u001b[1;33m(\u001b[0m\u001b[1;36m5\u001b[0m\u001b[1;33m)\u001b[0m\u001b[1;33m\u001b[0m\u001b[1;33m\u001b[0m\u001b[0m\n\u001b[1;32m----> 3\u001b[1;33m \u001b[0ma\u001b[0m\u001b[1;33m.\u001b[0m\u001b[0mmm\u001b[0m\u001b[1;33m(\u001b[0m\u001b[0mb\u001b[0m\u001b[1;33m)\u001b[0m\u001b[1;33m\u001b[0m\u001b[1;33m\u001b[0m\u001b[0m\n\u001b[0m",
      "\u001b[1;31mIndexError\u001b[0m: Dimension out of range (expected to be in range of [-1, 0], but got 1)"
     ]
    }
   ],
   "source": [
    "a = torch.rand(5, 2, 3)\n",
    "b = torch.rand(3)\n",
    "a.mm(b)"
   ]
  },
  {
   "cell_type": "code",
   "execution_count": 50,
   "id": "26d7a42b",
   "metadata": {},
   "outputs": [
    {
     "name": "stdout",
     "output_type": "stream",
     "text": [
      "tensor([[1.6591, 1.7544],\n",
      "        [0.9126, 0.6738],\n",
      "        [1.8391, 1.5166],\n",
      "        [1.3018, 1.6802],\n",
      "        [1.9692, 1.1969]])\n"
     ]
    },
    {
     "data": {
      "text/plain": [
       "'\\nfor i in range(a.shape[0]): # unsqueeze를 사용하면 된다.\\n    a[i].mm(torch.unsqueeze(b,1))'"
      ]
     },
     "execution_count": 50,
     "metadata": {},
     "output_type": "execute_result"
    }
   ],
   "source": [
    "a = torch.rand(5, 2, 3) # batch, 2 by 3\n",
    "b = torch.rand(3) # 3 by 1\n",
    "print(a.matmul(b)) # 5 by 2 by 1\n",
    "'''\n",
    "for i in range(a.shape[0]): # unsqueeze를 사용하면 된다.\n",
    "    a[i].mm(torch.unsqueeze(b,1))''' "
   ]
  },
  {
   "cell_type": "code",
   "execution_count": 53,
   "id": "4e331cac",
   "metadata": {},
   "outputs": [
    {
     "data": {
      "text/plain": [
       "tensor([1.6591, 1.7544])"
      ]
     },
     "execution_count": 53,
     "metadata": {},
     "output_type": "execute_result"
    }
   ],
   "source": [
    "a[0].mm(torch.unsqueeze(b,1)).squeeze()"
   ]
  },
  {
   "cell_type": "markdown",
   "id": "78c1c23e",
   "metadata": {},
   "source": [
    "### Tensor operations for ML/DL formula\n",
    "\n",
    "nn.functional 모듈을 통해 다양한 수식 변환을 지원\n",
    "\n",
    "* nn.functional.softmax\n",
    "* nn.functional.argmax\n",
    "* nn.functional.one_hot\n",
    "\n",
    "... 필요할 때 마다 검색해서 사용!"
   ]
  },
  {
   "cell_type": "code",
   "execution_count": 54,
   "id": "7a51a104",
   "metadata": {},
   "outputs": [
    {
     "data": {
      "text/plain": [
       "tensor([0.3458, 0.4224, 0.2318])"
      ]
     },
     "execution_count": 54,
     "metadata": {},
     "output_type": "execute_result"
    }
   ],
   "source": [
    "import torch\n",
    "import torch.nn.functional as F\n",
    "\n",
    "tensor = torch.FloatTensor([0.5, 0.7, 0.1])\n",
    "h_tensor = F.softmax(tensor, dim=0)\n",
    "h_tensor"
   ]
  },
  {
   "cell_type": "code",
   "execution_count": 56,
   "id": "f0e3193b",
   "metadata": {},
   "outputs": [
    {
     "data": {
      "text/plain": [
       "tensor([[0, 0, 0, 1, 0],\n",
       "        [0, 1, 0, 0, 0],\n",
       "        [0, 1, 0, 0, 0],\n",
       "        [1, 0, 0, 0, 0],\n",
       "        [0, 0, 1, 0, 0],\n",
       "        [0, 0, 0, 1, 0],\n",
       "        [0, 1, 0, 0, 0],\n",
       "        [0, 1, 0, 0, 0],\n",
       "        [0, 0, 0, 0, 1],\n",
       "        [0, 1, 0, 0, 0]])"
      ]
     },
     "execution_count": 56,
     "metadata": {},
     "output_type": "execute_result"
    }
   ],
   "source": [
    "y = torch.randint(5, (10,5))\n",
    "y_label = y.argmax(dim=1)\n",
    "torch.nn.functional.one_hot(y_label)"
   ]
  },
  {
   "cell_type": "markdown",
   "id": "08936703",
   "metadata": {},
   "source": [
    "### AutoGrad\n",
    "backward 함수를 사용해 자동 미분을 할 수 있다."
   ]
  },
  {
   "cell_type": "markdown",
   "id": "4386de7c",
   "metadata": {},
   "source": [
    "$$y = w^2$$\n",
    "$$z = 10*y + 25$$\n",
    "$$z = 10*w^2 + 25$$"
   ]
  },
  {
   "cell_type": "code",
   "execution_count": 58,
   "id": "d2bb3425",
   "metadata": {},
   "outputs": [
    {
     "data": {
      "text/plain": [
       "tensor(40.)"
      ]
     },
     "execution_count": 58,
     "metadata": {},
     "output_type": "execute_result"
    }
   ],
   "source": [
    "w = torch.tensor(2.0, requires_grad=True)\n",
    "y = w**2\n",
    "z = 10*y + 25\n",
    "z.backward() "
   ]
  },
  {
   "cell_type": "code",
   "execution_count": 59,
   "id": "f570ca7d",
   "metadata": {},
   "outputs": [
    {
     "data": {
      "text/plain": [
       "tensor(40.)"
      ]
     },
     "execution_count": 59,
     "metadata": {},
     "output_type": "execute_result"
    }
   ],
   "source": [
    "w.grad"
   ]
  },
  {
   "cell_type": "markdown",
   "id": "43b964c5",
   "metadata": {},
   "source": [
    "#### 벡터 편미분\n",
    "$$ Q = 3a^3 - b^2$$\n",
    "\n",
    "a, b가 신경망의 매개변수이고 Q가 오차(error)라고 가정해보자.\n",
    "\n",
    "Q의 `backward()`를 호출할 때, 각각 미분을 계산하여 각 텐서의 `.grad` 속성에 저장한다.(a.grad, b.grad)\n",
    "\n",
    "Q는 벡터이므로 `Q.backward()` 에 gradient 인자(argument)를 명시적으로 전달해야 각각 인자에 대한 편미분이 가능하다."
   ]
  },
  {
   "cell_type": "code",
   "execution_count": 69,
   "id": "2dc5fe7c",
   "metadata": {},
   "outputs": [],
   "source": [
    "a = torch.tensor([2., 3.], requires_grad=True)\n",
    "b = torch.tensor([6., 4.], requires_grad=True)\n",
    "Q = 3*a**3 - b**2\n",
    "external_grad = torch.tensor([1.,1.])\n",
    "Q.backward(gradient=external_grad)# Q는 벡터라는 것을 명시적으로"
   ]
  },
  {
   "cell_type": "code",
   "execution_count": 70,
   "id": "2eb03ddf",
   "metadata": {},
   "outputs": [
    {
     "data": {
      "text/plain": [
       "tensor([36., 81.])"
      ]
     },
     "execution_count": 70,
     "metadata": {},
     "output_type": "execute_result"
    }
   ],
   "source": [
    "a.grad"
   ]
  },
  {
   "cell_type": "code",
   "execution_count": 71,
   "id": "fc734719",
   "metadata": {},
   "outputs": [
    {
     "data": {
      "text/plain": [
       "tensor([-12.,  -8.])"
      ]
     },
     "execution_count": 71,
     "metadata": {},
     "output_type": "execute_result"
    }
   ],
   "source": [
    "b.grad"
   ]
  },
  {
   "cell_type": "markdown",
   "id": "d110615a",
   "metadata": {},
   "source": [
    "\\begin{align}\\frac{\\partial Q}{\\partial a} = 9a^2\\end{align}\n",
    "\n",
    "\\begin{align}\\frac{\\partial Q}{\\partial b} = -2b\\end{align}"
   ]
  },
  {
   "cell_type": "markdown",
   "id": "745ea283",
   "metadata": {},
   "source": [
    "### autograd 를 사용한 벡터 미적분(calculus)\n",
    "\n",
    "수학적으로 벡터 함수 $\\vec{y} = f(\\vec{x})$ 에서 $\\vec{x}$ 에 대한 $\\vec{y}$의 변화도(gradient, 미분)은  야코비안 행렬(Jacobian Matrix) $J$ : 이다."
   ]
  },
  {
   "cell_type": "markdown",
   "id": "0b67b347",
   "metadata": {},
   "source": [
    "\\begin{align}J\n",
    "     =\n",
    "      \\left(\\begin{array}{cc}\n",
    "      \\frac{\\partial \\bf{y}}{\\partial x_{1}} &\n",
    "      ... &\n",
    "      \\frac{\\partial \\bf{y}}{\\partial x_{n}}\n",
    "      \\end{array}\\right)\n",
    "     =\n",
    "     \\left(\\begin"
   ]
  },
  {
   "cell_type": "code",
   "execution_count": null,
   "id": "66ce07ae",
   "metadata": {},
   "outputs": [],
   "source": []
  },
  {
   "cell_type": "code",
   "execution_count": null,
   "id": "416f4af9",
   "metadata": {},
   "outputs": [],
   "source": []
  },
  {
   "cell_type": "markdown",
   "id": "6b036966",
   "metadata": {},
   "source": [
    "출처 : 부스트캠프 AI Tech, pytorch 튜토리얼"
   ]
  },
  {
   "cell_type": "code",
   "execution_count": null,
   "id": "f05b5e4d",
   "metadata": {},
   "outputs": [],
   "source": []
  }
 ],
 "metadata": {
  "kernelspec": {
   "display_name": "Python 3 (ipykernel)",
   "language": "python",
   "name": "python3"
  },
  "language_info": {
   "codemirror_mode": {
    "name": "ipython",
    "version": 3
   },
   "file_extension": ".py",
   "mimetype": "text/x-python",
   "name": "python",
   "nbconvert_exporter": "python",
   "pygments_lexer": "ipython3",
   "version": "3.8.10"
  }
 },
 "nbformat": 4,
 "nbformat_minor": 5
}
