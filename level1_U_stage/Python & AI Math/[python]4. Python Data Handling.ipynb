{
 "cells": [
  {
   "cell_type": "markdown",
   "metadata": {},
   "source": [
    "## 4. Python Data Handling\n",
    "\n",
    "CSV, 웹(html), XML, JSON"
   ]
  },
  {
   "cell_type": "markdown",
   "metadata": {},
   "source": [
    "### CSV(Comma Separte Value)\n",
    "\n",
    "* 엑셀 양식의 데이터를 프로그램에 상관없이 쓰기 위한 데이터 형식\n",
    "\n",
    "* 탭(TSV), 빈칸(SSV) 등으로 구분하며 통칭하여 character-separated values(CSV)로 부름"
   ]
  },
  {
   "cell_type": "code",
   "execution_count": 2,
   "metadata": {},
   "outputs": [],
   "source": [
    "line_counter = 0 # 파일의 총 줄수를 세는 변수\n",
    "data_header = [] # data의 필드값을 저장하는 list\n",
    "customer_list = [] # customer 개별 list를 저장하는 list"
   ]
  },
  {
   "cell_type": "code",
   "execution_count": 4,
   "metadata": {
    "scrolled": true
   },
   "outputs": [],
   "source": [
    "with open(\"customers.csv\") as customer_data:\n",
    "    while True:\n",
    "        data = customer_data.readline() # customer.csv에 한줄씩 data 변수에 저장\n",
    "        if not data: break\n",
    "        if line_counter==0: # 첫번째 데이터는 데이터의 필드\n",
    "            data_header = data.split(\",\")\n",
    "        else:\n",
    "            customer_list.append(data.split(\",\"))\n",
    "        line_counter +=1"
   ]
  },
  {
   "cell_type": "code",
   "execution_count": 6,
   "metadata": {
    "scrolled": false
   },
   "outputs": [
    {
     "name": "stdout",
     "output_type": "stream",
     "text": [
      "Header: \t ['customerNumber', 'customerName', 'contactLastName', 'contactFirstName', 'phone', 'addressLine1', 'addressLine2', 'city', 'state', 'postalCode', 'country', 'salesRepEmployeeNumber', 'creditLimit\\n']\n",
      "Data 0 :\t\t ['customerNumber', 'customerName', 'contactLastName', 'contactFirstName', 'phone', 'addressLine1', 'addressLine2', 'city', 'state', 'postalCode', 'country', 'salesRepEmployeeNumber', 'creditLimit\\n']\n",
      "Data 1 :\t\t ['103', '\"Atelier graphique\"', 'Schmitt', '\"Carine \"', '40.32.2555', '\"54', ' rue Royale\"', 'NULL', 'Nantes', 'NULL', '44000', 'France', '1370', '21000\\n']\n",
      "Data 2 :\t\t ['112', '\"Signal Gift Stores\"', 'King', 'Jean', '7025551838', '\"8489 Strong St.\"', 'NULL', '\"Las Vegas\"', 'NV', '83030', 'USA', '1166', '71800\\n']\n",
      "Data 3 :\t\t ['114', '\"Australian Collectors', ' Co.\"', 'Ferguson', 'Peter', '\"03 9520 4555\"', '\"636 St Kilda Road\"', '\"Level 3\"', 'Melbourne', 'Victoria', '3004', 'Australia', '1611', '117300\\n']\n",
      "Data 4 :\t\t ['119', '\"La Rochelle Gifts\"', 'Labrune', '\"Janine \"', '40.67.8555', '\"67', ' rue des Cinquante Otages\"', 'NULL', 'Nantes', 'NULL', '44000', 'France', '1370', '118200\\n']\n",
      "Data 5 :\t\t ['121', '\"Baane Mini Imports\"', 'Bergulfsen', '\"Jonas \"', '\"07-98 9555\"', '\"Erling Skakkes gate 78\"', 'NULL', 'Stavern', 'NULL', '4110', 'Norway', '1504', '81700\\n']\n",
      "Data 6 :\t\t ['124', '\"Mini Gifts Distributors Ltd.\"', 'Nelson', 'Susan', '4155551450', '\"5677 Strong St.\"', 'NULL', '\"San Rafael\"', 'CA', '97562', 'USA', '1165', '210500\\n']\n",
      "Data 7 :\t\t ['125', '\"Havel & Zbyszek Co\"', 'Piestrzeniewicz', '\"Zbyszek \"', '\"(26) 642-7555\"', '\"ul. Filtrowa 68\"', 'NULL', 'Warszawa', 'NULL', '01-012', 'Poland', 'NULL', '0\\n']\n",
      "Data 8 :\t\t ['128', '\"Blauer See Auto', ' Co.\"', 'Keitel', 'Roland', '\"+49 69 66 90 2555\"', '\"Lyonerstr. 34\"', 'NULL', 'Frankfurt', 'NULL', '60528', 'Germany', '1504', '59700\\n']\n",
      "Data 9 :\t\t ['129', '\"Mini Wheels Co.\"', 'Murphy', 'Julie', '6505555787', '\"5557 North Pendale Street\"', 'NULL', '\"San Francisco\"', 'CA', '94217', 'USA', '1165', '64600\\n']\n",
      "123\n"
     ]
    }
   ],
   "source": [
    "print(\"Header: \\t\", data_header)\n",
    "for i in range(0, 10):\n",
    "    print(\"Data\",i,\":\\t\\t\", customer_list[i])\n",
    "print(len(customer_list))"
   ]
  },
  {
   "cell_type": "markdown",
   "metadata": {},
   "source": [
    "#### USA customer 만 뽑기"
   ]
  },
  {
   "cell_type": "code",
   "execution_count": 7,
   "metadata": {},
   "outputs": [],
   "source": [
    "line_counter = 0 # 파일의 총 줄수를 세는 변수\n",
    "data_header = [] # data의 필드값을 저장하는 list\n",
    "employee = []\n",
    "customer_USA_only_list = []\n",
    "customer = None"
   ]
  },
  {
   "cell_type": "code",
   "execution_count": 8,
   "metadata": {},
   "outputs": [],
   "source": [
    "with open(\"customers.csv\") as customer_data:\n",
    "    while True:\n",
    "        data = customer_data.readline() # customer.csv에 한줄씩 data 변수에 저장\n",
    "        if not data: break\n",
    "        if line_counter==0: # 첫번째 데이터는 데이터의 필드\n",
    "            data_header = data.split(\",\")\n",
    "        else:\n",
    "            customer = data.split(\",\")\n",
    "            if customer[10].upper() == \"USA\":\n",
    "                customer_USA_only_list.append(customer)\n",
    "        line_counter +=1"
   ]
  },
  {
   "cell_type": "code",
   "execution_count": 10,
   "metadata": {
    "scrolled": true
   },
   "outputs": [
    {
     "name": "stdout",
     "output_type": "stream",
     "text": [
      "Header: \t ['customerNumber', 'customerName', 'contactLastName', 'contactFirstName', 'phone', 'addressLine1', 'addressLine2', 'city', 'state', 'postalCode', 'country', 'salesRepEmployeeNumber', 'creditLimit\\n']\n",
      "Data 0 :\t\t ['112', '\"Signal Gift Stores\"', 'King', 'Jean', '7025551838', '\"8489 Strong St.\"', 'NULL', '\"Las Vegas\"', 'NV', '83030', 'USA', '1166', '71800\\n']\n",
      "Data 1 :\t\t ['124', '\"Mini Gifts Distributors Ltd.\"', 'Nelson', 'Susan', '4155551450', '\"5677 Strong St.\"', 'NULL', '\"San Rafael\"', 'CA', '97562', 'USA', '1165', '210500\\n']\n",
      "Data 2 :\t\t ['129', '\"Mini Wheels Co.\"', 'Murphy', 'Julie', '6505555787', '\"5557 North Pendale Street\"', 'NULL', '\"San Francisco\"', 'CA', '94217', 'USA', '1165', '64600\\n']\n",
      "Data 3 :\t\t ['131', '\"Land of Toys Inc.\"', 'Lee', 'Kwai', '2125557818', '\"897 Long Airport Avenue\"', 'NULL', 'NYC', 'NY', '10022', 'USA', '1323', '114900\\n']\n",
      "Data 4 :\t\t ['151', '\"Muscle Machine Inc\"', 'Young', 'Jeff', '2125557413', '\"4092 Furth Circle\"', '\"Suite 400\"', 'NYC', 'NY', '10022', 'USA', '1286', '138500\\n']\n",
      "Data 5 :\t\t ['157', '\"Diecast Classics Inc.\"', 'Leong', 'Kelvin', '2155551555', '\"7586 Pompton St.\"', 'NULL', 'Allentown', 'PA', '70267', 'USA', '1216', '100600\\n']\n",
      "Data 6 :\t\t ['161', '\"Technics Stores Inc.\"', 'Hashimoto', 'Juri', '6505556809', '\"9408 Furth Circle\"', 'NULL', 'Burlingame', 'CA', '94217', 'USA', '1165', '84600\\n']\n",
      "Data 7 :\t\t ['168', '\"American Souvenirs Inc\"', 'Franco', 'Keith', '2035557845', '\"149 Spinnaker Dr.\"', '\"Suite 101\"', '\"New Haven\"', 'CT', '97823', 'USA', '1286', '0\\n']\n",
      "Data 8 :\t\t ['173', '\"Cambridge Collectables Co.\"', 'Tseng', 'Jerry', '6175555555', '\"4658 Baden Av.\"', 'NULL', 'Cambridge', 'MA', '51247', 'USA', '1188', '43400\\n']\n",
      "Data 9 :\t\t ['175', '\"Gift Depot Inc.\"', 'King', 'Julie', '2035552570', '\"25593 South Bay Ln.\"', 'NULL', 'Bridgewater', 'CT', '97562', 'USA', '1323', '84300\\n']\n",
      "34\n"
     ]
    }
   ],
   "source": [
    "print(\"Header: \\t\", data_header)\n",
    "for i in range(0, 10):\n",
    "    print(\"Data\",i,\":\\t\\t\", customer_USA_only_list[i])\n",
    "print(len(customer_USA_only_list))"
   ]
  },
  {
   "cell_type": "code",
   "execution_count": 11,
   "metadata": {},
   "outputs": [],
   "source": [
    "with open(\"customers_USA_only.csv\", \"w\") as customer_USA_only_csv:\n",
    "    for customer in customer_USA_only_list:\n",
    "        customer_USA_only_csv.write(\",\".join(customer).strip('\\n') + '\\n')"
   ]
  },
  {
   "cell_type": "code",
   "execution_count": 12,
   "metadata": {},
   "outputs": [
    {
     "data": {
      "text/plain": [
       "['112',\n",
       " '\"Signal Gift Stores\"',\n",
       " 'King',\n",
       " 'Jean',\n",
       " '7025551838',\n",
       " '\"8489 Strong St.\"',\n",
       " 'NULL',\n",
       " '\"Las Vegas\"',\n",
       " 'NV',\n",
       " '83030',\n",
       " 'USA',\n",
       " '1166',\n",
       " '71800\\n']"
      ]
     },
     "execution_count": 12,
     "metadata": {},
     "output_type": "execute_result"
    }
   ],
   "source": [
    "customer_USA_only_list[0]"
   ]
  },
  {
   "cell_type": "markdown",
   "metadata": {},
   "source": [
    "#### csv 객체\n",
    "\n",
    "* lineterminator : 줄 바꿈 기준\n",
    "* quotechar : 문자열을 둘러싸는 신호 문자\n",
    "* quoting : 데이터를 나누는 기준이 quotechar에 의해 둘러싸인 레벨"
   ]
  },
  {
   "cell_type": "code",
   "execution_count": 22,
   "metadata": {},
   "outputs": [],
   "source": [
    "import csv\n",
    "\n",
    "seoung_nam_data = []\n",
    "header = []\n",
    "rownum = 0"
   ]
  },
  {
   "cell_type": "code",
   "execution_count": 13,
   "metadata": {},
   "outputs": [
    {
     "ename": "NameError",
     "evalue": "name 'f' is not defined",
     "output_type": "error",
     "traceback": [
      "\u001b[1;31m---------------------------------------------------------------------------\u001b[0m",
      "\u001b[1;31mNameError\u001b[0m                                 Traceback (most recent call last)",
      "\u001b[1;32m<ipython-input-13-8f71f5cd3d17>\u001b[0m in \u001b[0;36m<module>\u001b[1;34m\u001b[0m\n\u001b[0;32m      1\u001b[0m \u001b[1;32mimport\u001b[0m \u001b[0mcsv\u001b[0m\u001b[1;33m\u001b[0m\u001b[1;33m\u001b[0m\u001b[0m\n\u001b[0;32m      2\u001b[0m \u001b[1;33m\u001b[0m\u001b[0m\n\u001b[1;32m----> 3\u001b[1;33m reader = csv.reader(f,\n\u001b[0m\u001b[0;32m      4\u001b[0m                    \u001b[0mdelimiter\u001b[0m\u001b[1;33m=\u001b[0m\u001b[1;34m','\u001b[0m \u001b[1;33m,\u001b[0m \u001b[0mquotechar\u001b[0m\u001b[1;33m=\u001b[0m\u001b[1;34m'\"'\u001b[0m\u001b[1;33m,\u001b[0m\u001b[1;33m\u001b[0m\u001b[1;33m\u001b[0m\u001b[0m\n\u001b[0;32m      5\u001b[0m                    quoting=csv.QUOTE_ALL) # quotation이 전부 되어있는 상태\n",
      "\u001b[1;31mNameError\u001b[0m: name 'f' is not defined"
     ]
    }
   ],
   "source": [
    "reader = csv.reader(f,\n",
    "                   delimiter=',' , quotechar='\"',\n",
    "                   quoting=csv.QUOTE_ALL) # quotation이 전부 되어있는 상태"
   ]
  },
  {
   "cell_type": "code",
   "execution_count": 27,
   "metadata": {},
   "outputs": [],
   "source": [
    "with open(\"foot_korean.csv\",\"r\", encoding='utf8') as p_file:\n",
    "    csv_data = csv.reader(p_file)\n",
    "    for row in csv_data:\n",
    "        if rownum ==0:\n",
    "            header = row\n",
    "        location = row[7]\n",
    "        #행정구역 필드 데이터 추출, 한글 처리로 유니코드 데이터를 cp949로\n",
    "        if location.find(u\"성남시\") != -1:\n",
    "            seoung_nam_data.append(row)\n",
    "        rownum +=1"
   ]
  },
  {
   "cell_type": "code",
   "execution_count": 28,
   "metadata": {},
   "outputs": [],
   "source": [
    "with open(\"seoung_nam_floating_population_data.csv\", \"w\", encoding='utf8') as s_p_file:\n",
    "    writer = csv.writer(s_p_file, delimiter='\\t', quotechar=\"'\", quoting=csv.QUOTE_ALL)\n",
    "    # csv.writer를 사용해서 csv 파일 만들기, delimiter 필드 구분자\n",
    "    # quoatechar는 필드 각 데이터를 묶는 문자, quotating은 묶는 범위\n",
    "    writer.writerow(header)\n",
    "    for row in seoung_nam_data:\n",
    "        writer.writerow(row)\n",
    "        "
   ]
  },
  {
   "cell_type": "markdown",
   "metadata": {},
   "source": [
    "### Web\n",
    "\n",
    "#### HTML\n",
    "웹 상의 정보를 구조적으로 표현하기 위한 언어\n",
    "\n",
    "* 모든 HTML은 트리 모양의 포함관계를 가짐"
   ]
  },
  {
   "cell_type": "markdown",
   "metadata": {},
   "source": [
    "### 정규식(Regular Expression)\n",
    "정규표현식, regexp 또는 regex 등으로 불림\n",
    "\n",
    "* 복잡한 문자열 패턴을 정의하는 문자 표현 공식\n",
    "* 특정한 규칙을 가진 문자열의 집합을 추출"
   ]
  },
  {
   "cell_type": "markdown",
   "metadata": {},
   "source": [
    "### 정규식 연습장 활용하기\n",
    "\n",
    "1) 정규식 연습장(http://www.regexr.com/) 으로 이동\n",
    "\n",
    "2) 테스트하고 싶은 문서를 Text란에 삽입\n",
    "\n",
    "3) 정규식을 사용해서 찾아보기"
   ]
  },
  {
   "cell_type": "markdown",
   "metadata": {},
   "source": [
    "#### 정규식 기본 문법 1\n",
    "\n",
    "* 문자 클래스 [ ] : [와] 사이의 문자들과 매치라는 의미\n",
    "\n",
    "ex) [abc] <- 해당 글자가 a,b,c 중 하나가 있다.\n",
    "\n",
    "* \"-\"를 사용하여 범위를 지정할 수 있다.\n",
    "\n",
    "ex) [a-zA-z] - 알파벳 전체, [0-9] - 숫자 전체\n",
    "\n",
    "#### 정규식 기본 문법 - 메타 문자\n",
    "\n",
    "* . - 줄바꿈 문자인 \\n을 제외한 모든 문자와 매치 a[.]b\n",
    "\n",
    "* '*' - 앞에 있는 글자를 반복해서 나올 수 있음\n",
    "\n",
    "ex) tmor*ow : tomorrow, tomoow, tomorrrrow\n",
    "\n",
    "* '+' - 앞에 있는 글자를 최소 1회 이상 반복\n",
    "\n",
    "* {m.n} - 반복 횟수를 지정\n",
    "\n",
    "ex) {1,}, {0,} {1,3} , [0-9]{1,3} \\d{1,3}\n",
    "\n",
    "* ? - 반복 횟수가 1회\n",
    "\n",
    "ex) 01[01]?-[0-9]{4}-[0-9]{4}\n",
    "\n",
    "* | - or \n",
    "\n",
    "ex) (0|1){3}\n",
    "\n",
    "* ^ - not"
   ]
  },
  {
   "cell_type": "markdown",
   "metadata": {},
   "source": [
    "#### 정규식 in 파이썬\n",
    "re 모듈을 import 하여 사용\n",
    "\n",
    "* 함수 search - 한 개만 찾기, findall - 전체 찾기\n",
    "* 추출된 패턴은 tuple로 반환됨\n",
    "* ID패턴 : [영문대소문자|숫자] 여러개, 별표로 끝남"
   ]
  },
  {
   "cell_type": "code",
   "execution_count": 2,
   "metadata": {},
   "outputs": [],
   "source": [
    "# ID 패턴 : ex) \"[A-Za-z0-9]+\\*\\*\\*)\" 정규식\n",
    "\n",
    "import re\n",
    "import urllib.request\n",
    "\n",
    "url = \"https://bit.ly/3rxQFS4\"\n",
    "html = urllib.request.urlopen(url)\n",
    "html_contents = str(html.read())\n",
    "id_results = re.findall(r\"([A-Za-z0-9]+\\*\\*\\*)\", html_contents)"
   ]
  },
  {
   "cell_type": "code",
   "execution_count": 3,
   "metadata": {},
   "outputs": [
    {
     "name": "stdout",
     "output_type": "stream",
     "text": [
      "codo***\n",
      "outb7***\n",
      "dubba4***\n",
      "multicuspi***\n",
      "crownm***\n",
      "triformo***\n",
      "spania***\n",
      "magazin***\n",
      "presby***\n",
      "trophody***\n",
      "nontr***\n",
      "enranck***\n",
      "canc***\n",
      "uncanker***\n",
      "wrymo***\n",
      "non***\n",
      "luminat***\n",
      "oblig***\n",
      "anna***\n",
      "hyperth***\n",
      "toplabl***\n",
      "dolce0***\n",
      "rudals2***\n",
      "jjw980***\n",
      "elvlz***\n",
      "skmid***\n",
      "qkep***\n",
      "kisslov***\n",
      "maskman***\n",
      "sungt***\n"
     ]
    }
   ],
   "source": [
    "for result in id_results:\n",
    "    print(result)"
   ]
  },
  {
   "cell_type": "markdown",
   "metadata": {},
   "source": [
    "### XML\n",
    "\n",
    "* 데이터의 구조와 의미를 TAG(MarkUp)을 사용하여 표시하는 언어\n",
    "* Tree 구조의 형태의 데이터임\n",
    "* 정규표현식으로도 Parsing이 가능하지만 BeautifulSoup을 많이 사용\n",
    "\n",
    "XML을 읽는 법을 알아야 어느정도 다룰 수 있으니 시간날때 공부 잠깐 해보자."
   ]
  },
  {
   "cell_type": "code",
   "execution_count": null,
   "metadata": {},
   "outputs": [],
   "source": [
    "from bs4 import BeautifulSoup\n",
    "\n",
    "soup = BeautifulSoup(books_xml, \"lxml\") # 객체 생성, (어떤파일, 어떤 parser)\n",
    "\n",
    "soup.find_all(\"author\") # Tag 찾는 함수 find_all 생성"
   ]
  },
  {
   "cell_type": "markdown",
   "metadata": {},
   "source": [
    "#### BeautifulSoup 모듈 사용\n",
    "\n",
    "* find_all : 정규식과 마찬가지로 해당 패턴을 모두 반환\n",
    "* find('invention-title')\n",
    "* get_text() : 반환된 패턴의 값 반환(태그와 태그 사이)\n",
    "\n",
    "XML 이중으로 된 구조는 이중으로 뽑아내야 한다."
   ]
  },
  {
   "cell_type": "code",
   "execution_count": null,
   "metadata": {},
   "outputs": [],
   "source": [
    "#patent_ex_2\n",
    "\n",
    "import urllib\n",
    "from bs4 import BeautifulSoup\n",
    "\n",
    "with open(\"US08621662-20140107.XML\", \"r\", encoding=\"utf8\") as patent_xml:\n",
    "    xml = patent_xml.read()  # File을 String으로 읽어오기\n",
    "\n",
    "soup = BeautifulSoup(xml, \"xml\")  # xml parser 호출\n",
    "\n",
    "invention_title_tag = soup.find(\"invention-title\")\n",
    "print(invention_title_tag.get_text())\n",
    "\n",
    "publication_reference_tag = soup.find(\"publication-reference\")\n",
    "# 이중 구조 뽑아내기\n",
    "p_document_id_tag = publication_reference_tag.find(\"document-id\")\n",
    "p_country = p_document_id_tag.find(\"country\").get_text()\n",
    "p_doc_number = p_document_id_tag.find(\"doc-number\").get_text()\n",
    "p_kind = p_document_id_tag.find(\"kind\").get_text()\n",
    "p_date = p_document_id_tag.find(\"date\").get_text()\n",
    "\n",
    "print(p_doc_number, p_kind, p_date)\n",
    "\n",
    "application_reference_tag = soup.find(\"application-reference\")\n",
    "a_document_id_tag = publication_reference_tag.find(\"document-id\")\n",
    "a_country = p_document_id_tag.find(\"country\").get_text()\n",
    "a_doc_number = p_document_id_tag.find(\"doc-number\").get_text()\n",
    "a_date = p_document_id_tag.find(\"date\").get_text()\n",
    "\n",
    "print(a_country, a_doc_number, a_date)"
   ]
  },
  {
   "cell_type": "markdown",
   "metadata": {},
   "source": [
    "### JSON(JavaScript Object Notation)\n",
    "\n",
    "간결성으로 이해하기가 쉬움\n",
    "\n",
    "* json 모듈을 사용해 손 쉽게 파싱 및 저장 가능\n",
    "* 데이터 저장 및 읽기는 dict type과 상호 호환 가능\n",
    "* 웹에서 제공하는 API는 대부분 정보 교환시 JSON 활용"
   ]
  },
  {
   "cell_type": "markdown",
   "metadata": {},
   "source": [
    "#### JSON Read\n",
    "JSON 파일의 구조 확인 -> 읽어온 후 -> Dict Type처럼 처리"
   ]
  },
  {
   "cell_type": "code",
   "execution_count": null,
   "metadata": {},
   "outputs": [],
   "source": [
    "import json\n",
    "\n",
    "with open(\"json_example.json\", \"r\", encoding=\"utf8\") as f:\n",
    "    contents = f.read()\n",
    "    json_data = json.loads(contents) # Dict type으로 변환 및 Read\n",
    "    print(type(json_data))\n",
    "    \n",
    "for employee in json_data[\"employees\"]:\n",
    "    print(employee[\"lastName\"]) "
   ]
  },
  {
   "cell_type": "markdown",
   "metadata": {},
   "source": [
    "#### JSON Write\n",
    "Dict Type으로 데이터 저장 -> JSON 모듈로 Write"
   ]
  },
  {
   "cell_type": "code",
   "execution_count": 10,
   "metadata": {},
   "outputs": [],
   "source": [
    "import json\n",
    "\n",
    "dict_data = {'Name' :'Zara', 'Age':7, 'Class': 'First'}\n",
    "\n",
    "with open(\"data.json\", \"w\") as f:\n",
    "    json.dump(dict_data, f) # dump로 Write"
   ]
  }
 ],
 "metadata": {
  "kernelspec": {
   "display_name": "Python 3",
   "language": "python",
   "name": "python3"
  },
  "language_info": {
   "codemirror_mode": {
    "name": "ipython",
    "version": 3
   },
   "file_extension": ".py",
   "mimetype": "text/x-python",
   "name": "python",
   "nbconvert_exporter": "python",
   "pygments_lexer": "ipython3",
   "version": "3.7.6"
  }
 },
 "nbformat": 4,
 "nbformat_minor": 4
}
