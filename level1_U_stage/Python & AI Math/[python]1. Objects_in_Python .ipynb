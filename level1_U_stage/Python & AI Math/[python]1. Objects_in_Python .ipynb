{
 "cells": [
  {
   "cell_type": "markdown",
   "metadata": {},
   "source": [
    "## 1-1. Python Object Oriented Programming\n",
    "\n",
    "#### 객체 지향 프로그래밍(OOP)\n",
    "\n",
    "객체 : 실생활에서 일종의 물건, 속성(Attribute)와 행동(Action)을 가짐\n",
    "\n",
    "속성은 변수(variable), 행동은 함수(method)로 표현됨\n",
    "\n",
    "ex) 수강신청 프로그램 : 수강신청 관련 주체(교수,학생,관리자)의 행동(수강신청, 과목 입력) 과 데이터(수강과목, 강의 과목)들을 중심으로 프로그램 작성 후 연결\n",
    "\n",
    "OOP는 설계도에 해당하는 클래스(class)와 실제 구현체인 인스턴스(instance, 또는 객체)로 나뉜다."
   ]
  },
  {
   "cell_type": "markdown",
   "metadata": {},
   "source": [
    "- 변수, Class, 함수명은 짓는 방식이 존재\n",
    "\n",
    "- snake_case : 띄어쓰기 부분에 \"_\"를 추가, 뱀 처럼 늘여쓰기 파이썬 함수/변수명에 사용\n",
    "\n",
    "ex) professor_name\n",
    "\n",
    "- CamelCase : 띄어쓰기 부분에 대문자 낙타의 등 모양, 파이썬 Class명에 사용"
   ]
  },
  {
   "cell_type": "markdown",
   "metadata": {},
   "source": [
    "#### 파이썬에서 __의 의미\n",
    "\n",
    "- __은 특수한 예약 함수나 변수 그리고 함수명 변경(맨글링)으로 사용한다.\n",
    "\n",
    "ex) __main__, __add__ , __str__ , __eq__\n",
    "- Attribute 추가는 __init__, self와 함께 사용한다. __init__은 객체 초기화 예약 함수\n",
    "\n",
    "- method(Action) 추가는 기존 함수와 같으나, 반드시 **self**를 추가해야만 class 함수로 인정됨\n",
    "\n",
    "- **self**란? 생성된 instance를 의미한다."
   ]
  },
  {
   "cell_type": "code",
   "execution_count": 1,
   "metadata": {},
   "outputs": [],
   "source": [
    "# 축구 선수 정보로 \n",
    "class SoccerPlayer(object): # CamelCase \n",
    "    def __init__(self, name : str, position : str, back_number : int): # 객체 초기화 함수, self는 필수\n",
    "        self.name = name # self. 으로 객체의 초기 정보를 선언 할 수 있다\n",
    "        self.position = position\n",
    "        self.back_number = back_number\n",
    "        \n",
    "    def __str__(self): # __str__ : 앞으로 print로 객체에 적용하면 출력해주는 코드\n",
    "        return \"Hello, My name is %s. I play in %s in center. \" % \\\n",
    "    (self.name, self.position)\n",
    "    \n",
    "    def __add__(self, other): # __add__ : 두 객체를 서로 더해준다.\n",
    "        return self.name + other.name \n",
    "    \n",
    "    def change_back_number(self, new_number : int):\n",
    "        print(\"선수의 등번호를 변경합니다 : From %d to %d\" % \\\n",
    "             (self.back_number, new_number))\n",
    "        self.back_number = new_number\n",
    "    "
   ]
  },
  {
   "cell_type": "code",
   "execution_count": 2,
   "metadata": {
    "scrolled": true
   },
   "outputs": [
    {
     "name": "stdout",
     "output_type": "stream",
     "text": [
      "Hello, My name is dongseok. I play in MF in center. \n"
     ]
    }
   ],
   "source": [
    "dongseok = SoccerPlayer(\"dongseok\", \"MF\", 10) # 이때 self는 dongseok 자기 자신이 된다.\n",
    "park = SoccerPlayer(\"park\", \"WF\", 13)\n",
    "print(dongseok) # __str__ 로 응답"
   ]
  },
  {
   "cell_type": "code",
   "execution_count": 3,
   "metadata": {},
   "outputs": [
    {
     "data": {
      "text/plain": [
       "False"
      ]
     },
     "execution_count": 3,
     "metadata": {},
     "output_type": "execute_result"
    }
   ],
   "source": [
    "dongseok is park # 같은 class에서 나왔지만 서로 다른 객체이다."
   ]
  },
  {
   "cell_type": "code",
   "execution_count": 4,
   "metadata": {},
   "outputs": [
    {
     "data": {
      "text/plain": [
       "'dongseokpark'"
      ]
     },
     "execution_count": 4,
     "metadata": {},
     "output_type": "execute_result"
    }
   ],
   "source": [
    "dongseok + park # 사칙연산 가능, __add__ 함수 덕분!"
   ]
  },
  {
   "cell_type": "code",
   "execution_count": 23,
   "metadata": {},
   "outputs": [
    {
     "data": {
      "text/plain": [
       "10"
      ]
     },
     "execution_count": 23,
     "metadata": {},
     "output_type": "execute_result"
    }
   ],
   "source": [
    "dongseok.back_number"
   ]
  },
  {
   "cell_type": "code",
   "execution_count": 26,
   "metadata": {},
   "outputs": [
    {
     "name": "stdout",
     "output_type": "stream",
     "text": [
      "선수의 등번호를 변경합니다 : From 10 to 20\n"
     ]
    }
   ],
   "source": [
    "dongseok.change_back_number(20)"
   ]
  },
  {
   "cell_type": "code",
   "execution_count": 29,
   "metadata": {},
   "outputs": [
    {
     "name": "stdout",
     "output_type": "stream",
     "text": [
      "Hello, My name is dongseok. I play in MF in center. \n"
     ]
    }
   ],
   "source": [
    "dongseok.back_number = 30 # 바로 변수를 변경하는 것은 추천하지 않음 \n",
    "print(dongseok)"
   ]
  },
  {
   "cell_type": "code",
   "execution_count": 30,
   "metadata": {},
   "outputs": [
    {
     "data": {
      "text/plain": [
       "30"
      ]
     },
     "execution_count": 30,
     "metadata": {},
     "output_type": "execute_result"
    }
   ],
   "source": [
    "dongseok.back_number"
   ]
  },
  {
   "cell_type": "markdown",
   "metadata": {},
   "source": [
    "#### Note를 정리하는 프로그램\n",
    "\n",
    "class는 Notebook, Note\n",
    "\n",
    "Notebook의 attribute & methods: Note(300페이지까지 제한), page(Note가 삽입될 때 생성됨), add(두개의 노트북을 합치는 메소드), insert(Note를 삽입하는 메소드)\n",
    "\n",
    "Note의 attribute & methods: Content(str), write(노트 작성), remove(노트 제거)"
   ]
  },
  {
   "cell_type": "code",
   "execution_count": 179,
   "metadata": {},
   "outputs": [],
   "source": [
    "class Note(object):\n",
    "    def __init__(self, Content : str): # Content = None으로 할 경우 생성없이 가능\n",
    "        self.Content = Content\n",
    "        \n",
    "    def remove(self):\n",
    "        self.Content = \"\"\n",
    "    \n",
    "    def write(self, Content : str):\n",
    "        self.Content = Content\n",
    "    \n",
    "    def __str__(self):\n",
    "        return \"노트에 적힌 내용입니다. : {0}\".format(self.Content)\n",
    "    \n",
    "    def __add__(self, other):\n",
    "        return self.Content + other.Content"
   ]
  },
  {
   "cell_type": "code",
   "execution_count": 180,
   "metadata": {},
   "outputs": [],
   "source": [
    "class Notebook(object):\n",
    "    def __init__(self):\n",
    "        self.page_num = 0\n",
    "        \n",
    "    def __add__(self, other_Notebook):\n",
    "        return self\n",
    "    \n",
    "    def insert(self, Note):\n",
    "        if self.page_num < 300:\n",
    "            return print(\"이 Notebook은 300페이지 이상 추가할 수 없습니다. 현재 \\\n",
    "                        페이지 수는 %d 입니다.\"(self.page_num))\n",
    "        self.page_num = self.page_num + 1\n",
    "        "
   ]
  },
  {
   "cell_type": "markdown",
   "metadata": {},
   "source": [
    "교수님 코드 + 내 방식"
   ]
  },
  {
   "cell_type": "code",
   "execution_count": 181,
   "metadata": {},
   "outputs": [],
   "source": [
    "class Notebook(object):\n",
    "    def __init__(self, title):\n",
    "        self.title = title\n",
    "        self.page_num = 1\n",
    "        self.notes = {}\n",
    "    \n",
    "    def insert(self, note, page = 0): # page를 입력해주지 않으면 자동으로 다음 넘버\n",
    "        if self.page_num < 301:\n",
    "            if page == 0:\n",
    "                self.notes[self.page_num] = note\n",
    "                self.page_num += 1\n",
    "                print(\"이 Notebook은 300페이지 이상 추가할 수 없습니다.\")\n",
    "                print(\"현재 페이지 수 : {0}\".format(len(self.notes.keys())))\n",
    "                      \n",
    "            else:\n",
    "                self.notes[page] = note\n",
    "                self.page_num = self.page_num + 1\n",
    "                print(\"이 Notebook은 300페이지 이상 추가할 수 없습니다.\")\n",
    "                print(\"현재 페이지 수 : {0}\".format(len(self.notes.keys())))\n",
    "\n",
    "        else:\n",
    "            print(\"Page가 모두 채워졌습니다.\")\n",
    "            \n",
    "    def remove_note(self, page_num):\n",
    "        if page_num in self.notes.keys(): # note에 내용물이 있으면\n",
    "            return self.notes.pop(page_num) # 선택한 page_num의 note 제거\n",
    "        else:\n",
    "            print(\"해당 Page는 존재하지 않습니다.\")\n",
    "            \n",
    "    def get_number_of_pages(self):\n",
    "        return len(self.notes.keys()) # or len(page_num)"
   ]
  },
  {
   "cell_type": "code",
   "execution_count": 182,
   "metadata": {},
   "outputs": [],
   "source": [
    "my_notebook = Notebook(\"팀 랩 강의노트\")"
   ]
  },
  {
   "cell_type": "code",
   "execution_count": 183,
   "metadata": {},
   "outputs": [
    {
     "data": {
      "text/plain": [
       "'팀 랩 강의노트'"
      ]
     },
     "execution_count": 183,
     "metadata": {},
     "output_type": "execute_result"
    }
   ],
   "source": [
    "my_notebook.title"
   ]
  },
  {
   "cell_type": "code",
   "execution_count": 184,
   "metadata": {},
   "outputs": [
    {
     "name": "stdout",
     "output_type": "stream",
     "text": [
      "노트에 적힌 내용입니다. : 아자아자\n"
     ]
    }
   ],
   "source": [
    "new_note = Note(\"아자아자\")\n",
    "print(new_note)"
   ]
  },
  {
   "cell_type": "code",
   "execution_count": 185,
   "metadata": {},
   "outputs": [
    {
     "name": "stdout",
     "output_type": "stream",
     "text": [
      "노트에 적힌 내용입니다. : 호롤롤로\n"
     ]
    }
   ],
   "source": [
    "new_note2 = Note(\"호롤롤로\")\n",
    "print(new_note2)"
   ]
  },
  {
   "cell_type": "code",
   "execution_count": 186,
   "metadata": {
    "scrolled": true
   },
   "outputs": [
    {
     "name": "stdout",
     "output_type": "stream",
     "text": [
      "이 Notebook은 300페이지 이상 추가할 수 없습니다.\n",
      "현재 페이지 수 : 1\n",
      "이 Notebook은 300페이지 이상 추가할 수 없습니다.\n",
      "현재 페이지 수 : 2\n"
     ]
    }
   ],
   "source": [
    "my_notebook.insert(new_note)\n",
    "my_notebook.insert(new_note2, 100)"
   ]
  },
  {
   "cell_type": "code",
   "execution_count": 187,
   "metadata": {},
   "outputs": [
    {
     "data": {
      "text/plain": [
       "{1: <__main__.Note at 0x2b42dc3e348>, 100: <__main__.Note at 0x2b42dc00148>}"
      ]
     },
     "execution_count": 187,
     "metadata": {},
     "output_type": "execute_result"
    }
   ],
   "source": [
    "my_notebook.notes"
   ]
  },
  {
   "cell_type": "code",
   "execution_count": 188,
   "metadata": {},
   "outputs": [
    {
     "data": {
      "text/plain": [
       "2"
      ]
     },
     "execution_count": 188,
     "metadata": {},
     "output_type": "execute_result"
    }
   ],
   "source": [
    "my_notebook.get_number_of_pages()"
   ]
  },
  {
   "cell_type": "code",
   "execution_count": 189,
   "metadata": {},
   "outputs": [
    {
     "name": "stdout",
     "output_type": "stream",
     "text": [
      "노트에 적힌 내용입니다. : 아자아자\n"
     ]
    }
   ],
   "source": [
    "print(my_notebook.notes[1])"
   ]
  },
  {
   "cell_type": "code",
   "execution_count": 190,
   "metadata": {},
   "outputs": [
    {
     "name": "stdout",
     "output_type": "stream",
     "text": [
      "노트에 적힌 내용입니다. : 호롤롤로\n"
     ]
    }
   ],
   "source": [
    "print(my_notebook.notes[100])"
   ]
  },
  {
   "cell_type": "code",
   "execution_count": 191,
   "metadata": {
    "scrolled": true
   },
   "outputs": [
    {
     "name": "stdout",
     "output_type": "stream",
     "text": [
      "노트에 적힌 내용입니다. : 으악\n"
     ]
    }
   ],
   "source": [
    "my_notebook.notes[2] = Note(\"으악\")\n",
    "print(my_notebook.notes[2])"
   ]
  },
  {
   "cell_type": "markdown",
   "metadata": {},
   "source": [
    "### 1-2. OOP characteristics\n",
    "\n",
    "객체 지향 언어의 특징 : 세상을 모델링\n",
    "\n",
    "- Inheritance(상속)\n",
    "\n",
    "- Polymorphism(다형성)\n",
    "\n",
    "- Visibility(가시성)"
   ]
  },
  {
   "cell_type": "markdown",
   "metadata": {},
   "source": [
    "#### 상속(Inheritance) \n",
    "\n",
    "부모클래스로 부터 속성과 Method를 물려받은 자식 클래스를 생성하는 것"
   ]
  },
  {
   "cell_type": "code",
   "execution_count": 8,
   "metadata": {},
   "outputs": [
    {
     "name": "stdout",
     "output_type": "stream",
     "text": [
      "Dongseok\n"
     ]
    }
   ],
   "source": [
    "class Person(object): # 부모클래스\n",
    "    def __init__(self, name, age, gender = 'N'):\n",
    "        self.name = name\n",
    "        self.age = age\n",
    "        self.gender = gender\n",
    "        \n",
    "    def __str__(self):\n",
    "        return \"저의 이름은 {0} 입니다. 나이는 {1} 입니다.\".format(self.name, self.age)\n",
    "        \n",
    "    def about_me(self):\n",
    "        print(\"나는 {0}이다.\".format(self.name))\n",
    "class Korean(Person): # 부모클래스 Person을 상속받은 자식클래스\n",
    "    pass\n",
    "\n",
    "first_korean = Korean(\"Dongseok\", 29)\n",
    "print(first_korean.name)"
   ]
  },
  {
   "cell_type": "code",
   "execution_count": 9,
   "metadata": {
    "scrolled": true
   },
   "outputs": [
    {
     "name": "stdout",
     "output_type": "stream",
     "text": [
      "저의 이름은 Dongseok 입니다. 나이는 29 입니다.\n"
     ]
    }
   ],
   "source": [
    "print(first_korean)"
   ]
  },
  {
   "cell_type": "code",
   "execution_count": 10,
   "metadata": {},
   "outputs": [
    {
     "name": "stdout",
     "output_type": "stream",
     "text": [
      "나는 Dongseok이다.\n"
     ]
    }
   ],
   "source": [
    "first_korean.about_me()"
   ]
  },
  {
   "cell_type": "code",
   "execution_count": 11,
   "metadata": {},
   "outputs": [],
   "source": [
    "class Employee(Person):\n",
    "    def __init__(self, name, age, gender, salary, hire_date):\n",
    "        super().__init__(name, age, gender) # 부모객체를 가져와 사용 선언된 내용을 그대로\n",
    "        self.salary = salary\n",
    "        self.hire_date = hire_date\n",
    "        \n",
    "    def do_work(self):\n",
    "        print(\"개미는 오늘도 뚠뚠\")\n",
    "        \n",
    "    def about_me(self): #부모 클래스 함수 재정의\n",
    "        super().about_me()\n",
    "        print(\"내 임금은 \", self.salary, \"원 이다. 내 입사일은\", self.hire_date, \"이다.\")"
   ]
  },
  {
   "cell_type": "code",
   "execution_count": 13,
   "metadata": {},
   "outputs": [
    {
     "name": "stdout",
     "output_type": "stream",
     "text": [
      "나는 seok이다.\n",
      "내 임금은  3000000 원 이다. 내 입사일은 2019/06/27 이다.\n"
     ]
    }
   ],
   "source": [
    "myPerson = Person(\"john\", 34, \"Male\")\n",
    "myEmployee = Employee(\"seok\", 29, \"Male\", 3000000, \"2019/06/27\")\n",
    "myEmployee.about_me() # 부모의 about_me, 자식의 about_me 다 실행"
   ]
  },
  {
   "cell_type": "markdown",
   "metadata": {},
   "source": [
    "#### 다형성(Polymorphism)\n",
    "\n",
    "- 같은 이름 메소드의 내부 로직을 다르게 작성, 같은 일을 하는데 세부적으로 구현이 다른 경우\n",
    "\n",
    "ex) draw(Rentangle) , draw(Circle)..\n"
   ]
  },
  {
   "cell_type": "code",
   "execution_count": 16,
   "metadata": {},
   "outputs": [],
   "source": [
    "class Animal:\n",
    "    def __init__(self, name):\n",
    "        self.name = name\n",
    "        \n",
    "    def talk(self): # 추상 메소드, 상속받는 클래스에서 내용을 완성시켜라.\n",
    "        raise NotImplementedError(\"Subclass must implement abstract method\")\n",
    "        \n",
    "class Cat(Animal):\n",
    "    def talk(self):\n",
    "        return \"Meow!\"\n",
    "    \n",
    "class Dog(Animal):\n",
    "    def talk(self):\n",
    "        return \"Woof! Woof!\""
   ]
  },
  {
   "cell_type": "code",
   "execution_count": 17,
   "metadata": {},
   "outputs": [],
   "source": [
    "animals = [Cat('Missy'),\n",
    "          Cat('Mr. mistro'),\n",
    "          Dog('Lassie')]"
   ]
  },
  {
   "cell_type": "code",
   "execution_count": 18,
   "metadata": {},
   "outputs": [
    {
     "name": "stdout",
     "output_type": "stream",
     "text": [
      "Missy: Meow!\n",
      "Mr. mistro: Meow!\n",
      "Lassie: Woof! Woof!\n"
     ]
    }
   ],
   "source": [
    "for animal in animals:\n",
    "    print(animal.name + ': ' + animal.talk())"
   ]
  },
  {
   "cell_type": "markdown",
   "metadata": {},
   "source": [
    "#### 가시성(Visibility)\n",
    "\n",
    "객체의 정보를 볼 수 있는 레벨을 조절하는 것, 누구나 객체 안에 모든 변수를 볼 필요가 없다.\n",
    "\n",
    "* 객체를 사용하는 사용자가 임의로 정보 수정\n",
    "\n",
    "* 필요없는 정보에는 접근 할 필요가 없음\n",
    "\n",
    "* 만약 제품으로 판매한다면? 소스의 보호"
   ]
  },
  {
   "cell_type": "markdown",
   "metadata": {},
   "source": [
    "#### 캡슐화(Encapsulation)\n",
    "캡슐화 또는 정보 은닉(Information Hiding)\n",
    "\n",
    "* Class를 설계할 때, 클래스 간 간섭/정보공유의 최소화\n",
    "* 심판 클래스가 축구선수 클래스 가족 정보를 알아야 하나?\n",
    "* 캡슐을 던지듯 인터페이스만 알아서 써야함"
   ]
  },
  {
   "cell_type": "markdown",
   "metadata": {},
   "source": [
    "예제1\n",
    "\n",
    "* Product 객체를 Inventory 객체에 추가\n",
    "* Inventory에는 오직 Product 객체만 들어감\n",
    "* Inventory에 Product가 몇 개인지 확인이 필요\n",
    "* Inventory에 Product items는 직접 접근이 불가"
   ]
  },
  {
   "cell_type": "code",
   "execution_count": 29,
   "metadata": {},
   "outputs": [],
   "source": [
    "class Product(object):\n",
    "    pass\n",
    "\n",
    "class Inventory(object):\n",
    "    def __init__(self):\n",
    "        self.__items = [] # __ : private 변수로 선언, 타객체가 접근하지 못함\n",
    "        \n",
    "    def add_new_item(self, product):\n",
    "        if type(product) == Product: # Product만 들어 올 수있게 조건을 건다.\n",
    "            self.__items.append(product)\n",
    "            print(\"new item added\")\n",
    "        else:\n",
    "            raise ValueError(\"Invalid Item\")\n",
    "            \n",
    "    def get_number_of_items(self):\n",
    "        return len(self.__items)\n",
    "    \n",
    "    @property # property decorator : 숨겨진 변수를 반환하게 해줌\n",
    "    def items(self):\n",
    "        return self.__items # 내부에서 접근하여 반환"
   ]
  },
  {
   "cell_type": "code",
   "execution_count": 30,
   "metadata": {
    "scrolled": true
   },
   "outputs": [
    {
     "ename": "ValueError",
     "evalue": "Invalid Item",
     "output_type": "error",
     "traceback": [
      "\u001b[1;31m---------------------------------------------------------------------------\u001b[0m",
      "\u001b[1;31mValueError\u001b[0m                                Traceback (most recent call last)",
      "\u001b[1;32m<ipython-input-30-25678ee92950>\u001b[0m in \u001b[0;36m<module>\u001b[1;34m\u001b[0m\n\u001b[0;32m      1\u001b[0m \u001b[0mmy_inventory\u001b[0m \u001b[1;33m=\u001b[0m \u001b[0mInventory\u001b[0m\u001b[1;33m(\u001b[0m\u001b[1;33m)\u001b[0m\u001b[1;33m\u001b[0m\u001b[1;33m\u001b[0m\u001b[0m\n\u001b[1;32m----> 2\u001b[1;33m \u001b[0mmy_inventory\u001b[0m\u001b[1;33m.\u001b[0m\u001b[0madd_new_item\u001b[0m\u001b[1;33m(\u001b[0m\u001b[1;34m\"abc\"\u001b[0m\u001b[1;33m)\u001b[0m \u001b[1;31m# Product 클래스가 아님\u001b[0m\u001b[1;33m\u001b[0m\u001b[1;33m\u001b[0m\u001b[0m\n\u001b[0m",
      "\u001b[1;32m<ipython-input-29-f62a343c4cdc>\u001b[0m in \u001b[0;36madd_new_item\u001b[1;34m(self, product)\u001b[0m\n\u001b[0;32m     11\u001b[0m             \u001b[0mprint\u001b[0m\u001b[1;33m(\u001b[0m\u001b[1;34m\"new item added\"\u001b[0m\u001b[1;33m)\u001b[0m\u001b[1;33m\u001b[0m\u001b[1;33m\u001b[0m\u001b[0m\n\u001b[0;32m     12\u001b[0m         \u001b[1;32melse\u001b[0m\u001b[1;33m:\u001b[0m\u001b[1;33m\u001b[0m\u001b[1;33m\u001b[0m\u001b[0m\n\u001b[1;32m---> 13\u001b[1;33m             \u001b[1;32mraise\u001b[0m \u001b[0mValueError\u001b[0m\u001b[1;33m(\u001b[0m\u001b[1;34m\"Invalid Item\"\u001b[0m\u001b[1;33m)\u001b[0m\u001b[1;33m\u001b[0m\u001b[1;33m\u001b[0m\u001b[0m\n\u001b[0m\u001b[0;32m     14\u001b[0m \u001b[1;33m\u001b[0m\u001b[0m\n\u001b[0;32m     15\u001b[0m     \u001b[1;32mdef\u001b[0m \u001b[0mget_number_of_items\u001b[0m\u001b[1;33m(\u001b[0m\u001b[0mself\u001b[0m\u001b[1;33m)\u001b[0m\u001b[1;33m:\u001b[0m\u001b[1;33m\u001b[0m\u001b[1;33m\u001b[0m\u001b[0m\n",
      "\u001b[1;31mValueError\u001b[0m: Invalid Item"
     ]
    }
   ],
   "source": [
    "my_inventory = Inventory()\n",
    "my_inventory.add_new_item(\"abc\") # Product 클래스가 아님"
   ]
  },
  {
   "cell_type": "code",
   "execution_count": 31,
   "metadata": {},
   "outputs": [
    {
     "ename": "AttributeError",
     "evalue": "'Inventory' object has no attribute '__items'",
     "output_type": "error",
     "traceback": [
      "\u001b[1;31m---------------------------------------------------------------------------\u001b[0m",
      "\u001b[1;31mAttributeError\u001b[0m                            Traceback (most recent call last)",
      "\u001b[1;32m<ipython-input-31-f48349b818a3>\u001b[0m in \u001b[0;36m<module>\u001b[1;34m\u001b[0m\n\u001b[1;32m----> 1\u001b[1;33m \u001b[0mmy_inventory\u001b[0m\u001b[1;33m.\u001b[0m\u001b[0m__items\u001b[0m \u001b[1;31m# 외부에서 접근 못함\u001b[0m\u001b[1;33m\u001b[0m\u001b[1;33m\u001b[0m\u001b[0m\n\u001b[0m",
      "\u001b[1;31mAttributeError\u001b[0m: 'Inventory' object has no attribute '__items'"
     ]
    }
   ],
   "source": [
    "my_inventory.__items # 외부에서 접근 못함"
   ]
  },
  {
   "cell_type": "code",
   "execution_count": 32,
   "metadata": {},
   "outputs": [
    {
     "name": "stdout",
     "output_type": "stream",
     "text": [
      "new item added\n"
     ]
    }
   ],
   "source": [
    "my_inventory.add_new_item(Product()) "
   ]
  },
  {
   "cell_type": "code",
   "execution_count": 33,
   "metadata": {},
   "outputs": [
    {
     "data": {
      "text/plain": [
       "[<__main__.Product at 0x1459dc68e08>]"
      ]
     },
     "execution_count": 33,
     "metadata": {},
     "output_type": "execute_result"
    }
   ],
   "source": [
    "my_inventory.items # 내부에 있는 객체 접근 가능"
   ]
  },
  {
   "cell_type": "markdown",
   "metadata": {},
   "source": [
    "#### first-class objects\n",
    "일등함수 또는 일급 객체, 변수나 데이터 구조에 할당이 가능한 객체, **파라메터로 전달이 가능 + 리턴 값으로 사용**\n",
    "\n",
    "* 파이썬의 함수는 일등함수"
   ]
  },
  {
   "cell_type": "code",
   "execution_count": 36,
   "metadata": {},
   "outputs": [
    {
     "data": {
      "text/plain": [
       "25"
      ]
     },
     "execution_count": 36,
     "metadata": {},
     "output_type": "execute_result"
    }
   ],
   "source": [
    "def square(x):\n",
    "    return x*x\n",
    "\n",
    "def cube(x):\n",
    "    return x*x*x\n",
    "\n",
    "def formula(method, argument_list): # 함수를 파라메터로 사용\n",
    "    return [method(value) for value in argument_list]\n",
    "f = square # 변수에 할당한 함수\n",
    "f(5)"
   ]
  },
  {
   "cell_type": "code",
   "execution_count": 37,
   "metadata": {},
   "outputs": [
    {
     "data": {
      "text/plain": [
       "[1, 8, 27, 64, 125]"
      ]
     },
     "execution_count": 37,
     "metadata": {},
     "output_type": "execute_result"
    }
   ],
   "source": [
    "def formula(method, argument_list): # 함수를 파라메터로 사용\n",
    "    return [method(value) for value in argument_list]\n",
    "\n",
    "arg_list = [1,2,3,4,5]\n",
    "formula(cube, arg_list)"
   ]
  },
  {
   "cell_type": "markdown",
   "metadata": {},
   "source": [
    "#### inner function\n",
    "함수 내에 또 다른 함수가 존재\n"
   ]
  },
  {
   "cell_type": "code",
   "execution_count": 38,
   "metadata": {},
   "outputs": [
    {
     "name": "stdout",
     "output_type": "stream",
     "text": [
      "Hello, Python\n"
     ]
    }
   ],
   "source": [
    "def print_msg(msg):\n",
    "    def printer():\n",
    "        print(msg)\n",
    "    printer()\n",
    "    \n",
    "print_msg(\"Hello, Python\")"
   ]
  },
  {
   "cell_type": "markdown",
   "metadata": {},
   "source": [
    "#### closures\n",
    "inner function을 return값으로 반환, 같은 용도인데 조금씩 다르게 사용할 경우"
   ]
  },
  {
   "cell_type": "code",
   "execution_count": 40,
   "metadata": {},
   "outputs": [
    {
     "name": "stdout",
     "output_type": "stream",
     "text": [
      "Hello, Python\n"
     ]
    }
   ],
   "source": [
    "def print_msg(msg):\n",
    "    def printer():\n",
    "        print(msg)\n",
    "    return printer\n",
    "\n",
    "another = print_msg(\"Hello, Python\")\n",
    "another()"
   ]
  },
  {
   "cell_type": "code",
   "execution_count": 41,
   "metadata": {},
   "outputs": [],
   "source": [
    "def tag_func(tag, text):\n",
    "    text = text\n",
    "    tag = tag\n",
    "    \n",
    "    def inner_func():\n",
    "        return '<0>{1}<{0}>'.format(tag,text)\n",
    "    \n",
    "    return inner_func\n",
    "\n",
    "h1_func = tag_func('title', \"This is Python Class\")\n",
    "p_func = tag_func('p', \"Data Academy\")"
   ]
  },
  {
   "cell_type": "code",
   "execution_count": 44,
   "metadata": {},
   "outputs": [
    {
     "data": {
      "text/plain": [
       "<function __main__.tag_func.<locals>.inner_func()>"
      ]
     },
     "execution_count": 44,
     "metadata": {},
     "output_type": "execute_result"
    }
   ],
   "source": [
    "h1_func"
   ]
  },
  {
   "cell_type": "code",
   "execution_count": 43,
   "metadata": {},
   "outputs": [
    {
     "data": {
      "text/plain": [
       "'<0>This is Python Class<title>'"
      ]
     },
     "execution_count": 43,
     "metadata": {},
     "output_type": "execute_result"
    }
   ],
   "source": [
    "h1_func()"
   ]
  },
  {
   "cell_type": "code",
   "execution_count": 45,
   "metadata": {
    "scrolled": true
   },
   "outputs": [
    {
     "data": {
      "text/plain": [
       "'<0>Data Academy<p>'"
      ]
     },
     "execution_count": 45,
     "metadata": {},
     "output_type": "execute_result"
    }
   ],
   "source": [
    "p_func()"
   ]
  },
  {
   "cell_type": "markdown",
   "metadata": {},
   "source": [
    "#### decorator function\n",
    "복잡한 클로저 함수를 간단하게!"
   ]
  },
  {
   "cell_type": "code",
   "execution_count": 50,
   "metadata": {},
   "outputs": [
    {
     "name": "stdout",
     "output_type": "stream",
     "text": [
      "******************************\n",
      "Hello\n",
      "******************************\n"
     ]
    }
   ],
   "source": [
    "def star(func):\n",
    "    def inner(*args, **kwargs):\n",
    "        print(\"*\" * 30)\n",
    "        func(*args, **kwargs)\n",
    "        print(\"*\" * 30)\n",
    "    return inner\n",
    "\n",
    "@star\n",
    "def printer(msg):\n",
    "    print(msg)\n",
    "\n",
    "printer(\"Hello\")"
   ]
  },
  {
   "cell_type": "code",
   "execution_count": 51,
   "metadata": {},
   "outputs": [],
   "source": [
    "def star(func):\n",
    "    def inner(*args, **kwargs):\n",
    "        print(args[1] * 30)\n",
    "        func(*args, **kwargs)\n",
    "        print(args[1] * 30)\n",
    "    return inner\n",
    "\n",
    "@star\n",
    "def printer(msg, mark):\n",
    "    print(msg)"
   ]
  },
  {
   "cell_type": "code",
   "execution_count": 52,
   "metadata": {},
   "outputs": [
    {
     "name": "stdout",
     "output_type": "stream",
     "text": [
      "&&&&&&&&&&&&&&&&&&&&&&&&&&&&&&\n",
      "Hello\n",
      "&&&&&&&&&&&&&&&&&&&&&&&&&&&&&&\n"
     ]
    }
   ],
   "source": [
    "printer(\"Hello\", \"&\")"
   ]
  },
  {
   "cell_type": "code",
   "execution_count": 54,
   "metadata": {},
   "outputs": [
    {
     "name": "stdout",
     "output_type": "stream",
     "text": [
      "******************************\n",
      "%%%%%%%%%%%%%%%%%%%%%%%%%%%%%%\n",
      "hello\n",
      "%%%%%%%%%%%%%%%%%%%%%%%%%%%%%%\n",
      "******************************\n"
     ]
    }
   ],
   "source": [
    "def star(func):\n",
    "    def inner(*args, **kwargs):\n",
    "        print(\"*\" * 30)\n",
    "        func(*args, **kwargs)\n",
    "        print(\"*\" * 30)\n",
    "    return inner\n",
    "\n",
    "def percent(func):\n",
    "    def inner(*args, **kwargs):\n",
    "        print(\"%\" * 30)\n",
    "        func(*args, **kwargs)\n",
    "        print(\"%\" * 30)\n",
    "    return inner\n",
    "\n",
    "@star\n",
    "@percent\n",
    "def printer(msg):\n",
    "    print(msg)\n",
    "    \n",
    "printer(\"hello\")"
   ]
  },
  {
   "cell_type": "code",
   "execution_count": 58,
   "metadata": {},
   "outputs": [
    {
     "name": "stdout",
     "output_type": "stream",
     "text": [
      ">>>> 49\n",
      "562949953421312\n"
     ]
    }
   ],
   "source": [
    "def generate_power(exponent):\n",
    "    def wrapper(f):\n",
    "        def inner(*args):\n",
    "            result = f(*args) # raise_two 실행\n",
    "            print(\">>>>\", result) \n",
    "            return exponent**result\n",
    "        return inner\n",
    "    return wrapper\n",
    "\n",
    "@generate_power(2) # argument를 쓰기 위해서 wrapper 함수를 사용\n",
    "def raise_two(n):\n",
    "    return n**2\n",
    "\n",
    "print(raise_two(7)) # exponent의 49제곱 : 2^49"
   ]
  }
 ],
 "metadata": {
  "kernelspec": {
   "display_name": "Python 3",
   "language": "python",
   "name": "python3"
  },
  "language_info": {
   "codemirror_mode": {
    "name": "ipython",
    "version": 3
   },
   "file_extension": ".py",
   "mimetype": "text/x-python",
   "name": "python",
   "nbconvert_exporter": "python",
   "pygments_lexer": "ipython3",
   "version": "3.7.6"
  }
 },
 "nbformat": 4,
 "nbformat_minor": 4
}
