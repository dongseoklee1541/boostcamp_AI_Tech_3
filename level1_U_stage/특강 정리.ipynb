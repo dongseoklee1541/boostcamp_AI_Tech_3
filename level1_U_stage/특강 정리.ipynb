{
 "cells": [
  {
   "cell_type": "markdown",
   "metadata": {},
   "source": [
    "# Full stack ML Engineer\n",
    "\n",
    "### Full stack Engineer\n",
    "코딩 잘하고, 다른 조직에 있는 사람들과 커뮤니케이션을 잘할 수 있는 사람\n",
    "\n",
    "* ML/DL 논문을 읽고 이해할 수 있으며 ML Product(front, backend 등으로)로 만들 수 있는 Engineer, 수식도 이해하고 그걸 구현해서 상품화 할 수 있는..\n",
    "\n",
    "#### ML serving\n",
    "* 민감한 데이터(개인정보 등)은 Server로 넘어가지 않고 Edge 단에서 해결한다.(TF-Lite, TF.js를 활용)\n"
   ]
  },
  {
   "cell_type": "markdown",
   "metadata": {},
   "source": [
    "### ML Product\n",
    "* 요구사항 전달\n",
    "    1. 고객사 미팅\n",
    "    2. 요구사항 , 제약사항 정리 - GPU는 몇개, 시간당 처리할 이미지 수, 몇개의 모델이 올라갈지\n",
    "    3. ML Problem\n",
    "    \n",
    "    \n",
    "* 데이터 수집\n",
    "    1. Row 데이터\n",
    "    2. Annotation Tool 기획 및 개발\n",
    "    3. Annotation Guide 작성 및 운용 : 간단하고 명확한 Guide를 문서화\n",
    "    \n",
    "    \n",
    "* ML 모델 개발\n",
    "    1. 기존 연구 내재화 : 이때 baseline model이 개발됨\n",
    "    2. 실 데이터 적용 실험 + 평가 및 피드백\n",
    "    3. 모델 차원 경량화 작업 : 모델 단계의 경량화, Distillation, Network surgery\n",
    "    \n",
    "    \n",
    "* 실 서버 배포\n",
    "    1. 엔지니어링 경량화\n",
    "    2. 연구용 코드 수정 작업 : 서비스에 필요한 코드만 남겨놓기\n",
    "    3. 모델 버전 관리 및 배포 자동화"
   ]
  },
  {
   "cell_type": "code",
   "execution_count": null,
   "metadata": {},
   "outputs": [],
   "source": []
  }
 ],
 "metadata": {
  "kernelspec": {
   "display_name": "Python 3",
   "language": "python",
   "name": "python3"
  },
  "language_info": {
   "codemirror_mode": {
    "name": "ipython",
    "version": 3
   },
   "file_extension": ".py",
   "mimetype": "text/x-python",
   "name": "python",
   "nbconvert_exporter": "python",
   "pygments_lexer": "ipython3",
   "version": "3.8.5"
  }
 },
 "nbformat": 4,
 "nbformat_minor": 4
}
