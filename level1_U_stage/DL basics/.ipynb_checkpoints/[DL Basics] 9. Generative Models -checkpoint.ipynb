{
 "cells": [
  {
   "cell_type": "code",
   "execution_count": 1,
   "id": "a4c92a31",
   "metadata": {},
   "outputs": [
    {
     "data": {
      "text/html": [
       "<style>.container { width:90% !important; }</style>"
      ],
      "text/plain": [
       "<IPython.core.display.HTML object>"
      ]
     },
     "metadata": {},
     "output_type": "display_data"
    }
   ],
   "source": [
    "from IPython.core.display import display, HTML\n",
    "\n",
    "display(HTML(\"<style>.container { width:90% !important; }</style>\"))"
   ]
  },
  {
   "cell_type": "markdown",
   "id": "ef6272fb",
   "metadata": {},
   "source": [
    "많은 용어들을 정확히 정의하고 이해해야 타 연구자들과 커뮤니케이션에서 문제가 없다."
   ]
  },
  {
   "cell_type": "markdown",
   "id": "52397538",
   "metadata": {},
   "source": [
    "## 9. Generative Models \n"
   ]
  },
  {
   "cell_type": "markdown",
   "id": "aa881fa2",
   "metadata": {},
   "source": [
    "### Learning a Genrative Models\n",
    "\n",
    "Generative Models 은 아래와 같은 특성이 있다.\n",
    "\n",
    "1. Generation(생성, Sampling) :  강아지 이미지를 만드는\n",
    "2. Density estimation(구분,anomaly detection) : ${P(x)}$ 강아지같은지 고양이 같은지 강아지가 아닌지..? \n",
    "    * 이와 같은 모델을 **explicit(확률 결과값을 얻을 수 있는)** 모델이라고 한다.\n",
    "    * 단순히 생성만 할 수 있는 GAN과 같은 모델은 **implicit 모델**이라고 한다.\n",
    "\n",
    "3. Unsupervised representation learning(feature learning) : images가 들어온다면 그 안에 있는 특성들을 학습할 수 있다.(강아지 귀가 있고 입이 있고 등등..)\n",
    "\n",
    "\n",
    "그렇다면 ${P(x)}$는 어떻게 만들 수 있는가?\n",
    "\n",
    "* ${P(x)}$ 는 특정 값이 나오거나 x를 샘플링 할 수 있는 것"
   ]
  },
  {
   "cell_type": "markdown",
   "id": "7bf55451",
   "metadata": {},
   "source": [
    "### 9-1. Basic Discreate Distributions\n",
    "Discreate Distributions은 관심 있어하는 값들이 0,1,2 와 같이 정해져 있는\n",
    "\n",
    "#### 9-1-1.Bernoulli distribution : 0 과 1\n",
    "\n",
    "* ${D}$ = {Heads, Tail}\n",
    "\n",
    "* ${P(X = Heads) = p }$ 이라면 ${P(X = Tails) = 1 - p}$\n",
    "\n",
    "* ${X \\sim Ber(p)}$ 라고 표현한다.\n",
    "\n",
    "동전에 앞뒷면을 표현할때는 한개의 파라미터 p만 필요하다.\n",
    "\n",
    "\n",
    "#### 9-1-2. Categorical distribution : 주사위\n",
    "\n",
    "* ${D}$ = {${1,...,m}$}\n",
    "* Specify ${P(Y=i)=p_i,}$ such that ${\\sum_{i=1}^m p_i=1}$\n",
    "* ${Y \\sim Cat(p_1,\\cdots , p_m)}$\n",
    "\n",
    "주사위와 같이 6개의 값이 있을때는 5개의 파라메터가 필요하다.\n"
   ]
  },
  {
   "cell_type": "markdown",
   "id": "6c3cd0f5",
   "metadata": {},
   "source": [
    "#### Example\n",
    "\n",
    "RGB 픽셀을 표현할때 몇개의 파라미터가 필요할까? \n",
    "\n",
    "${(r,g,b) \\sim p(R,G,B)}$\n",
    "\n",
    "* 각 픽셀별로 256x256x256 케이스가 존재\n",
    "\n",
    "즉 1개의 픽셀을 표현하기위해선 **256x256x256 -1** 개의 파라미터가 필요하다.\n",
    "\n",
    "여기서 100x100 해상도라면? 위의 파라미터에서 10,000배 만큼 파라미터가 필요하다.\n",
    "\n",
    "----\n",
    "#### Example 2 \n",
    "\n",
    "${X_1 , \\ldots , X_n}$ 을 binary pixels이며 fully dependent라고 가정할때 가능한 상태는?\n",
    "\n",
    "${2 \\times 2 \\times \\ldots \\times 2 = 2^n}$\n",
    "\n",
    "이며, ${p(x_1, \\ldots , x_n)}$을 표현하기 위한 파라미터 갯수는? ${2^n-1}$"
   ]
  },
  {
   "cell_type": "markdown",
   "id": "35018ce6",
   "metadata": {},
   "source": [
    "### 9-2. Structure Through (fully) Independence\n",
    "\n",
    "만약 ${X_1, \\ldots, X_n }$ 이 서로 **독립이라면**,\n",
    "\n",
    "${p(x_1, \\ldots, x_n) = p(x_1)p(x_2) \\cdots p(x_n)}$\n",
    "\n",
    "이때 모든 가능한 상황은 ${2^n}$ 이지만\n",
    "\n",
    "${p(x_1, \\ldots , x_n)}$ 을 모두 표현하기 위한 파라미터 숫자는 ${n}$개이다.\n",
    "\n",
    "* 서로 독립이기에 곱하지 않고 더하기만 하면 되기 때문이다.\n",
    "    * 사실상 독립은 말이 안되지.. 그래서 중간을 찾고자 했다.\n",
    "    \n",
    "#### 9-2-1. Conditional Independence (조건부 독립)\n",
    "우선 중요한 조건으로\n",
    "* Chain rule : ${p(x_1, \\ldots, x_n) = p(x_1)p(x_2|x_1)p(x_3|x_1,x_2)p(x_n|x_1,\\ldots,x_{n-1})}$\n",
    "\n",
    "* Bayes'rule:\n",
    "${p(x|y) = { p(x,y) \\over p(y)} = {p(y|x)p(x) \\over p(y)}}$\n",
    "\n",
    "\n",
    "여기서 Chain rule만 사용하면 파라미터의 갯수는 몇개가 필요한가?\n",
    "* ${p(x_1)}$ : 1 parameter\n",
    "* ${p(x_2|x_1)}$ : 2 paramaters( ${p(x_2|x_1=0)}$ and ${p(x_2|x_1=1)}$)\n",
    "* ${p(x_3|x_1,x_2)}$ : 4 paramaters\n",
    "\n",
    "그러므로 ${1 + 2 + 2^2 + \\cdots + 2^n-1 = 2^n -1}$ 로 처음 가정과 같다. 조건부 독립의 형태로 표현한것 뿐이고 가정(fully dependent)의 변화가 없기 때문이다.\n",
    "\n",
    "그럼 이 극단적인 파라미터를 정할 중간 값은 어디일까?\n",
    "\n",
    "---\n",
    "\n",
    "#### 9-2-2. 조건부 독립이야기\n",
    "> 세 개의 변수 a , b , c 가 있고, 이 때 b 와 c 가 주어졌을 때 a의 조건부 확률은?\n",
    "a가 b에 대해 독립이라면,\n",
    "\n",
    "> * ${p(a|b,c)=p(a|c)}$\n",
    "\n",
    "> 이를 **“c 가 주어졌을 때 a 는 b 에 대해 조건부 독립”** 이라고 표현한다.\n",
    "이런 상황에서 c 가 주어진 상태의 a 와 b 결합 분포는 다음과 같다.\n",
    "\n",
    "> ${p(a,b|c)=p(a|b,c)p(b|c)=p(a|c)p(b|c)}$\n",
    "\n",
    "> 이를 조건부 독립(conditional independence)이라고 하고 다음과 같이 표기한다.\n",
    "\n",
    "> * ${a \\bot b|c}$\n",
    "\n",
    "* 그러므로 Conditional Independence:\n",
    "If ${x \\bot y|z ,}$ then ${p(x|y,z) = p(x|z)}$\n",
    "\n",
    "z라는 random variable이 주어졌을때 x와 y가 Independent하므로 x라는 random variable을 표현할때 z가 주어지면 y는 상관이 없다."
   ]
  },
  {
   "cell_type": "markdown",
   "id": "304b12dc",
   "metadata": {},
   "source": [
    "### 9-3. Markov assumption\n",
    "바로 직전의 값들만 dependent 하고, 그외의 값들은 independent하다고 가정해보자.(Markov assumption)\n",
    "\n",
    "* ${X_{i+1} \\bot X_1, \\ldots, X_{i-1} \\bot X_{n-1}}$ then,\n",
    "\n",
    "* ${p(x_1, \\ldots, x_n)}$ = ${p(x_1)p(x_2|x_1)p(x_3|x_2) \\cdots p(x_n|x_{n-1})}$\n",
    "\n",
    "* 필요한 파라미터의 갯수는? ${2n-1}$ , Markov를 통해 파라미터의 숫자를 지수적 감쇄(exponential reduction)시켰다.\n",
    "\n",
    "이러한 모델을 **Auto-regressive model**이라고 하며, conditional independncy를 이룸\n"
   ]
  },
  {
   "cell_type": "markdown",
   "id": "7bbf7c19",
   "metadata": {},
   "source": [
    "#### 9-3-1. Auto-regressive model\n",
    "\n",
    "28x28 binary pixels을 가정해보자.\n",
    "\n",
    "${p(x)}$의 확률분포를 어떻게 만들 수 있을까?\n",
    "\n",
    "${p(x) = p(x_1, \\ldots, x_{784})}$ over ${x \\in \\{0,1\\}^{784}}$\n",
    "\n",
    "어떻게 ${p(x)}$을 표현해 써먹을 수 있을까?\n",
    "1. joint distribution을 chain rule로 변형\n",
    "* ${p(x_{1:784}) = p(x_1)p(x_2|x_1)p(x_3|x_{1:2}) \\cdots}$\n",
    "* 위와 같은 형태도 Auto-regressive model라고 부른다.\n",
    "    * 이전 n개의 데이터를 고려하는 것은 AR_N model이라고 부르며 1개를 고려하면 AR_1 , 2개를 고려하면 AR_2 model로 부른다.\n",
    "* 또한 모든 random variables에 대해 순서(ordering)이 되어 있어야한다.\n",
    "    * 이미지의 경우 픽셀별로 다양한 방식으로 순서를 정해서 입력, 이에 따라서 성능과 방법론이 달라질 수 있다.\n",
    "    \n"
   ]
  },
  {
   "cell_type": "markdown",
   "id": "0f6c658a",
   "metadata": {},
   "source": [
    "### 9-4. NADE : Neural Autoregressive Density Estimator\n",
    "\n",
    "<img src=\"https://github.com/dongseoklee1541/boostcamp_AI_Tech_3/blob/main/images/190018.png?raw=ture\" width=\"500\"> \n",
    "\n",
    "i번째 pixel을 첫번째 입력부터 i-1까지 dependent하게 한다. 위의 그림에서 첫번째 값을 만들때는 x의 어떤 값도 참고하지 않지만 입력이 증가하면서 참고되는 x의 값들도 늘어난다. \n",
    "\n",
    "NN의 입장에서는 입력차원이 점점 커져 weight의 차원도 계속 커지게 된다.\n",
    "\n",
    "이때 i번째 pixel의 확률 분포는?\n",
    "\n",
    "${p(x_i|x_{1:i-1}) = \\sigma(\\alpha_i h_i + b_i)}$\n",
    "\n",
    "${\\alpha}$ 와 ${h_i}$ 를 곱한뒤 시그모이드 함수를 취해서 확률값을 계산한다.\n",
    "\n",
    "${h_i= \\sigma(W_{<i}x_{1:i-1} + c)}$ \n",
    "\n",
    "입력의 차원이 커짐에 따라서 weight의 차원도 같이 커진다.\n",
    "\n",
    "----\n",
    "* NADE는 explicit(생성뿐 아니라 확률계산도 가능)\n",
    "\n",
    "어떻게 주어진 이미지에서 density(확률 밀도)를 계산할 수 있는가?\n",
    "* 입력 이미지를 784 binary pixels로 가정\n",
    "* ${p(x_1, \\ldots, x_{784}) = p(x_1)p(x_2|x_1)\\cdots p(x_{784}|x_{1:783}) }$ \n",
    "\n",
    "각각의 조건부확률(${p(x_i|x_{1:i-1}}$)을 indpendent하게 집어넣어서 계산한다.\n",
    "\n",
    "* continuous random variables 인 경우, 마지막 layer에 Gaussian Mixture를 사용한다."
   ]
  },
  {
   "cell_type": "markdown",
   "id": "8f6c720a",
   "metadata": {},
   "source": [
    "### 9-5. Pixel RNN\n",
    "RNN을 auto-regressive 모델로도 정의할 수 있다.\n",
    "\n",
    "* N x N RGB images에서,\n",
    "${p(x) = \\Pi^{n^2}_{i=1}p(x_{i,R}|x_{<i})p(x_{i,G}|x_{<i},x_{i,R})p(x_{i,B}|x_{<i},x_{i,R},x_{i,G})}$\n",
    "\n",
    "${p(x_{i,R}|x_{<i})}$ : prob.i-th R\n",
    "\n",
    "${p(x_{i,G}|x_{<i},x_{i,R})}$ : prob i-th G\n",
    "\n",
    "${p(x_{i,B}|x_{<i},x_{i,R},x_{i,G})}$ : prob i-th B"
   ]
  },
  {
   "cell_type": "markdown",
   "id": "aa292dc9",
   "metadata": {},
   "source": [
    "참고 자료 : http://norman3.github.io/prml/docs/chapter08/2\n",
    "참고 자료 : https://arxiv.org/abs/1605.02226\n",
    "https://ratsgo.github.io/generative%20model/2017/12/17/compare/"
   ]
  }
 ],
 "metadata": {
  "kernelspec": {
   "display_name": "Python 3 (ipykernel)",
   "language": "python",
   "name": "python3"
  },
  "language_info": {
   "codemirror_mode": {
    "name": "ipython",
    "version": 3
   },
   "file_extension": ".py",
   "mimetype": "text/x-python",
   "name": "python",
   "nbconvert_exporter": "python",
   "pygments_lexer": "ipython3",
   "version": "3.8.10"
  }
 },
 "nbformat": 4,
 "nbformat_minor": 5
}
