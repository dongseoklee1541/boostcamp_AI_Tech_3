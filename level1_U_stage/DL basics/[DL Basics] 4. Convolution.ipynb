{
 "cells": [
  {
   "cell_type": "code",
   "execution_count": 1,
   "id": "a4c92a31",
   "metadata": {},
   "outputs": [
    {
     "data": {
      "text/html": [
       "<style>.container { width:90% !important; }</style>"
      ],
      "text/plain": [
       "<IPython.core.display.HTML object>"
      ]
     },
     "metadata": {},
     "output_type": "display_data"
    }
   ],
   "source": [
    "from IPython.core.display import display, HTML\n",
    "\n",
    "display(HTML(\"<style>.container { width:90% !important; }</style>\"))"
   ]
  },
  {
   "cell_type": "markdown",
   "id": "ef6272fb",
   "metadata": {},
   "source": [
    "많은 용어들을 정확히 정의하고 이해해야 타 연구자들과 커뮤니케이션에서 문제가 없다."
   ]
  },
  {
   "cell_type": "markdown",
   "id": "52397538",
   "metadata": {},
   "source": [
    "## 4.Convolution\n",
    "\n",
    "* Continuous convolution\n",
    "\n",
    "${(f * g)(t) = \\int f(\\tau)g(t - \\tau)d\\tau = \\int f(t - \\tau)g(t)d\\tau}$\n",
    "\n",
    "* Discrete convolution\n",
    "\n",
    "${(f * g)(t) = \\sum_{i=- \\infty}^\\infty f(i)g(t - i) = \\sum_{i=- \\infty}^\\infty f(t-i)g(i)}$\n",
    "\n",
    "* 2D image convolution\n",
    "\n",
    "${(I * K)(i,j) = \\sum_m\\sum_n I(m,n)K(i-m, j-n) = \\sum_m\\sum_n I(i-m, i-n)K(m,n)}$\n",
    "\n",
    "${I}$ : 전체 이미지 공간\n",
    "\n",
    "${K}$ : 컨볼루션 필터"
   ]
  },
  {
   "cell_type": "markdown",
   "id": "71f823c0",
   "metadata": {},
   "source": [
    "<img src=\"https://blog.kakaocdn.net/dn/cPtdq9/btqwmRy4Egz/llFioGfP6HwRPlM0qSVkV1/img.png\">"
   ]
  },
  {
   "cell_type": "markdown",
   "id": "bc1f97df",
   "metadata": {},
   "source": [
    "#### RGB Image Conv\n",
    "\n",
    "이미지는 가로x세로x채널(RGB)로 구성되어 있다. 이를 Conv filter(Kernel) N개로 연산하면\n",
    "\n",
    "가로x세로xN 개의 feature map이 생성된다."
   ]
  },
  {
   "cell_type": "markdown",
   "id": "4d8a56f0",
   "metadata": {},
   "source": [
    "### 4-1.Convolutional Neural Networks\n",
    "\n",
    "<img src=\"https://taewanmerepo.github.io/2018/01/cnn/head.png\" width=\"500\">\n",
    "\n",
    "#### 구성\n",
    "\n",
    "* Conv layer : Conv filter\n",
    "\n",
    "* Pooling layer : avg, max Pooling\n",
    "\n",
    "* FC(Fully Connected) Layer : 파라미터 숫자에 의해 점점 줄어들거나 없어지는 추세\n",
    "    * 파라미터 숫자 : 파라미터 숫자가 많아질수록 학습이 어렵고 Generalize Perform이 떨어진다고 알려져 있다.\n",
    "    \n",
    "**NN layer를 보고 전체 파라미터의 숫자가 대략 몇개인지~ 연산량이 얼마나 될지? 감을 갖는게 중요하다.**"
   ]
  },
  {
   "cell_type": "markdown",
   "id": "cf59443c",
   "metadata": {},
   "source": [
    "#### 4-2. Stride\n",
    "Stride란 Conv filter(Kernel)이 한 연산당 몇칸씩 이동할지를 정하는 것이다.\n",
    "\n",
    "Stride가 1이라면 한칸씩, 2일때는 두칸씩 이동한다."
   ]
  },
  {
   "cell_type": "markdown",
   "id": "b03f45fa",
   "metadata": {},
   "source": [
    "#### 4-3. Padding\n",
    "\n",
    "Boundary(가장자리)정보도 얻기 위해서 가장자리를 덧대주는 역할을 한다.\n",
    "\n",
    "* Zero Padding : Padding 공간에 0으로 대신 넣어줌\n"
   ]
  },
  {
   "cell_type": "markdown",
   "id": "f1db54e7",
   "metadata": {},
   "source": [
    "#### 4-4. Convolution Arithmetic\n",
    "\n",
    "<img src=\"https://media.vlpt.us/images/blush0722/post/4fc91a5b-4ed5-4e63-a884-c8e67a4a5404/image.png\" width=\"500\">\n",
    "\n",
    "* Padding (1), Strid(1), 3x3 Kernel\n",
    "\n",
    "**이 모델의 파라미터 갯수는 몇개일까?**\n",
    "\n",
    "3x3x128(커널의 크기) x 64(커널의 갯수) = 73,728\n"
   ]
  },
  {
   "cell_type": "markdown",
   "id": "e9dc992b",
   "metadata": {},
   "source": [
    "<img src=\"https://github.com/dongseoklee1541/boostcamp_AI_Tech_3/blob/main/images/114450.png?raw=true\" width=\"500\">\n",
    "\n",
    "후반부 CNN과 FC(dense layer)이 연결되는 부분의 파라미터 갯수를 확인해보면\n",
    "\n",
    "13x13x128(Kernel)*2 x 2048 * 2 = 177M\n",
    "\n",
    "이라는 기존의 CNN의 파라미터 갯수와는 차원이 다른 엄청난 양의 숫자로 증가한다. 그러므로 FC는 줄어드는 추세이다."
   ]
  },
  {
   "cell_type": "markdown",
   "id": "0639a1b0",
   "metadata": {},
   "source": [
    "#### 4-5. 1x1 Convolution\n",
    "<img src=\"https://github.com/dongseoklee1541/boostcamp_AI_Tech_3/blob/main/images/114923.png?raw=true\" width=\"300\">\n",
    "\n",
    "이미지에 1x1 Conv를 곱해주는 이유는 무엇일까?\n",
    "1. 차원축소 : 여기서는 채널을 128에서 32로 줄여준다.\n",
    "2. 파라미터의 숫자를 깊게 쌓으면서 줄이기 위함\n",
    "* ex) bottleneck architecure : 깊게 쌓으면서 파라미터 숫자를 줄일 수 있다"
   ]
  }
 ],
 "metadata": {
  "kernelspec": {
   "display_name": "Python 3 (ipykernel)",
   "language": "python",
   "name": "python3"
  },
  "language_info": {
   "codemirror_mode": {
    "name": "ipython",
    "version": 3
   },
   "file_extension": ".py",
   "mimetype": "text/x-python",
   "name": "python",
   "nbconvert_exporter": "python",
   "pygments_lexer": "ipython3",
   "version": "3.8.10"
  }
 },
 "nbformat": 4,
 "nbformat_minor": 5
}
