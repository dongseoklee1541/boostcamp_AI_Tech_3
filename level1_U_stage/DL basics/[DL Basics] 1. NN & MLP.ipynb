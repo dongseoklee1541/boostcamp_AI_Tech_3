{
 "cells": [
  {
   "cell_type": "code",
   "execution_count": 1,
   "id": "a4c92a31",
   "metadata": {},
   "outputs": [
    {
     "data": {
      "text/html": [
       "<style>.container { width:90% !important; }</style>"
      ],
      "text/plain": [
       "<IPython.core.display.HTML object>"
      ]
     },
     "metadata": {},
     "output_type": "display_data"
    }
   ],
   "source": [
    "from IPython.core.display import display, HTML\n",
    "\n",
    "display(HTML(\"<style>.container { width:90% !important; }</style>\"))"
   ]
  },
  {
   "cell_type": "markdown",
   "id": "52397538",
   "metadata": {},
   "source": [
    "## Neural Networks\n",
    "\n",
    "NN은 포유류의 신경망을 모방하여.. 이게 맞나? 이제는 초기 방향에서 많이 멀어졌다.\n",
    "\n",
    "**NN은 함수를 근사하는 모델, affine transformations followed by nonlinear transformations.**"
   ]
  },
  {
   "cell_type": "markdown",
   "id": "533beba0",
   "metadata": {},
   "source": [
    "#### Matrix\n",
    "두개의 벡터 공간(vector spaces)을 mapping 시켜주는 역할"
   ]
  },
  {
   "cell_type": "markdown",
   "id": "8970f851",
   "metadata": {},
   "source": [
    "#### non-linear transform(비선형 변환)\n",
    "\n",
    "* activation function으로 non-linear 연산을 수행해준다.\n",
    "    * ReLU, Sigmoid, Hyperbolic Tangent 등 여러 비선형함수가 존재하고 어떤것이 좋은지는 실험을 해봐야 안다."
   ]
  },
  {
   "cell_type": "markdown",
   "id": "ef58fd15",
   "metadata": {},
   "source": [
    "### MLP\n",
    "2단 이상의 Layer를 쌓은 구조\n",
    "\n",
    "#### Loss Function\n",
    "Loss function 별로 특징이 다르니, 특징을 알고 내가 가진 데이터와 잘 맞는지를 알고 써야 한다.\n",
    "\n",
    "* Probabilistic Task에서는 MLE를 사용, 얼굴을 보고 '20살인지 30살인지 확인하는 정보'와 '20살인 확률이 ?%, 30살일 확률이 ?%이다'(uncertainty)정보를 같이 찾기를 원할때 사용\n",
    "\n",
    "[Loss Function pytorch Docs](https://pytorch.org/docs/stable/nn.html#loss-functions)"
   ]
  },
  {
   "cell_type": "markdown",
   "id": "2d2c2329",
   "metadata": {},
   "source": [
    "#### Activation Function\n",
    "\n",
    "https://seongkyun.github.io/study/2019/05/01/activations/"
   ]
  },
  {
   "cell_type": "code",
   "execution_count": null,
   "id": "0920bf80",
   "metadata": {},
   "outputs": [],
   "source": []
  },
  {
   "cell_type": "code",
   "execution_count": null,
   "id": "baa95413",
   "metadata": {},
   "outputs": [],
   "source": []
  }
 ],
 "metadata": {
  "kernelspec": {
   "display_name": "Python 3 (ipykernel)",
   "language": "python",
   "name": "python3"
  },
  "language_info": {
   "codemirror_mode": {
    "name": "ipython",
    "version": 3
   },
   "file_extension": ".py",
   "mimetype": "text/x-python",
   "name": "python",
   "nbconvert_exporter": "python",
   "pygments_lexer": "ipython3",
   "version": "3.8.10"
  }
 },
 "nbformat": 4,
 "nbformat_minor": 5
}
