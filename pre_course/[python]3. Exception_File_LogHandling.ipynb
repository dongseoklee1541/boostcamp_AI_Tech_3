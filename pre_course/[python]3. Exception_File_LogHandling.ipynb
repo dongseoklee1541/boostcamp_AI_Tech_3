{
 "cells": [
  {
   "cell_type": "markdown",
   "metadata": {},
   "source": [
    "## 3. Exception/File/Log Handling\n",
    "\n",
    "### Exception\n",
    "\n",
    "1) 예상 가능한 예외 : 개발자가 반드시 예외를 명시해야 함\n",
    "    * if 문과 같은 방식으로 해결\n",
    "2) 예상 불가능한 예외 : 인터프리터 과정에서 발생하는 예외\n",
    "\n",
    "#### if vs Exception\n",
    "if문은 로직적인 문제에서 사용하나 Exception은 사용자가 잘못 입력하였거나 데이터가 잘못된 것을 해결할때 사용\n",
    "\n",
    "**but. 팀바팀임 자유롭게**"
   ]
  },
  {
   "cell_type": "markdown",
   "metadata": {},
   "source": [
    "#### 문법들\n",
    "\n",
    "-try ~except\n",
    "\n",
    "-try ~ except ~ else : if else 과 비슷\n",
    "\n",
    "-try ~ except ~ finally : finally는 마지막에 실행"
   ]
  },
  {
   "cell_type": "code",
   "execution_count": null,
   "metadata": {},
   "outputs": [],
   "source": [
    "try:\n",
    "    #예외 발생 가능 코드\n",
    "except <Excetion Type>:\n",
    "    #예외 발생시 대응하는 코드"
   ]
  },
  {
   "cell_type": "code",
   "execution_count": 3,
   "metadata": {},
   "outputs": [
    {
     "name": "stdout",
     "output_type": "stream",
     "text": [
      ">>>>\n",
      "Not divided by 0\n",
      ">>>>\n",
      "10.0\n",
      "5.0\n",
      "3.3333333333333335\n",
      "2.5\n",
      "2.0\n",
      "1.6666666666666667\n",
      "1.4285714285714286\n",
      "1.25\n",
      "1.1111111111111112\n"
     ]
    }
   ],
   "source": [
    "# 0으로 숫자를 나눌때 예외처리\n",
    "for i in range(10):\n",
    "    try:\n",
    "        print(10/i)\n",
    "    except ZeroDivisionError:\n",
    "        print(\">>>>\")\n",
    "        print(\"Not divided by 0\")\n",
    "        print(\">>>>\")"
   ]
  },
  {
   "cell_type": "code",
   "execution_count": 8,
   "metadata": {
    "scrolled": true
   },
   "outputs": [
    {
     "name": "stdout",
     "output_type": "stream",
     "text": [
      ">>>> ERROR\n",
      "Not divided by 0\n",
      ">>>>\n",
      "1 10.0\n",
      "1\n",
      "name 'v' is not defined\n",
      "2 5.0\n",
      "2\n",
      "name 'v' is not defined\n",
      "3 3.3333333333333335\n",
      "3\n",
      "name 'v' is not defined\n",
      "4 2.5\n",
      "4\n",
      "name 'v' is not defined\n",
      "5 2.0\n",
      "list index out of range\n",
      "6 1.6666666666666667\n",
      "list index out of range\n",
      "7 1.4285714285714286\n",
      "list index out of range\n",
      "8 1.25\n",
      "list index out of range\n",
      "9 1.1111111111111112\n",
      "list index out of range\n"
     ]
    }
   ],
   "source": [
    "a = [0,1,2,3,4]\n",
    "for i in range(10):\n",
    "    try:\n",
    "        print(i, 10/i)\n",
    "        print(a[i])\n",
    "        print(v)\n",
    "    except ZeroDivisionError:\n",
    "        print(\">>>>\", \"ERROR\")\n",
    "        print(\"Not divided by 0\")\n",
    "        print(\">>>>\")\n",
    "    except IndexError as e: # e : 에러가 어떤것인지 출력하기 위함\n",
    "        print(e)\n",
    "    except Exception as e: # 그 외의 에러가 났을때 출력\n",
    "        print(e) # 그러나 다른 사용자가 어디서 에러가 발생했는지 알기가 어려워 좋은 방법은 아님"
   ]
  },
  {
   "cell_type": "code",
   "execution_count": 13,
   "metadata": {
    "scrolled": true
   },
   "outputs": [
    {
     "name": "stdout",
     "output_type": "stream",
     "text": [
      "변환할 정수 값을 입력해주세요 a\n"
     ]
    },
    {
     "ename": "ValueError",
     "evalue": "숫자값을 입력하지 않으셨습니다.",
     "output_type": "error",
     "traceback": [
      "\u001b[1;31m---------------------------------------------------------------------------\u001b[0m",
      "\u001b[1;31mValueError\u001b[0m                                Traceback (most recent call last)",
      "\u001b[1;32m<ipython-input-13-e25520171ea5>\u001b[0m in \u001b[0;36m<module>\u001b[1;34m\u001b[0m\n\u001b[0;32m      5\u001b[0m     \u001b[1;32mfor\u001b[0m \u001b[0mdigit\u001b[0m \u001b[1;32min\u001b[0m \u001b[0mvalue\u001b[0m\u001b[1;33m:\u001b[0m\u001b[1;33m\u001b[0m\u001b[1;33m\u001b[0m\u001b[0m\n\u001b[0;32m      6\u001b[0m         \u001b[1;32mif\u001b[0m \u001b[0mdigit\u001b[0m \u001b[1;32mnot\u001b[0m \u001b[1;32min\u001b[0m \u001b[1;34m\"0123456789\"\u001b[0m\u001b[1;33m:\u001b[0m \u001b[1;31m# 정수 값을 넣지 않은 경우\u001b[0m\u001b[1;33m\u001b[0m\u001b[1;33m\u001b[0m\u001b[0m\n\u001b[1;32m----> 7\u001b[1;33m             \u001b[1;32mraise\u001b[0m \u001b[0mValueError\u001b[0m\u001b[1;33m(\u001b[0m\u001b[1;34m\"숫자값을 입력하지 않으셨습니다.\"\u001b[0m\u001b[1;33m)\u001b[0m\u001b[1;33m\u001b[0m\u001b[1;33m\u001b[0m\u001b[0m\n\u001b[0m\u001b[0;32m      8\u001b[0m             \u001b[1;31m#에러를 미리 발생시켜 필요하지않는 연산을 막음\u001b[0m\u001b[1;33m\u001b[0m\u001b[1;33m\u001b[0m\u001b[1;33m\u001b[0m\u001b[0m\n\u001b[0;32m      9\u001b[0m     \u001b[0mprint\u001b[0m\u001b[1;33m(\u001b[0m\u001b[1;34m\"정수값으로 변환된 숫자 -\"\u001b[0m\u001b[1;33m,\u001b[0m \u001b[0mint\u001b[0m\u001b[1;33m(\u001b[0m\u001b[0mvalue\u001b[0m\u001b[1;33m)\u001b[0m\u001b[1;33m)\u001b[0m\u001b[1;33m\u001b[0m\u001b[1;33m\u001b[0m\u001b[0m\n",
      "\u001b[1;31mValueError\u001b[0m: 숫자값을 입력하지 않으셨습니다."
     ]
    }
   ],
   "source": [
    "# raise : 필요에 따라 강제로 Exception을 발생\n",
    "\n",
    "while True:\n",
    "    value = input(\"변환할 정수 값을 입력해주세요 \")\n",
    "    for digit in value:\n",
    "        if digit not in \"0123456789\": # 정수 값을 넣지 않은 경우\n",
    "            raise ValueError(\"숫자값을 입력하지 않으셨습니다.\")\n",
    "            #에러를 미리 발생시켜 필요하지않는 연산을 막음\n",
    "    print(\"정수값으로 변환된 숫자 -\", int(value))"
   ]
  },
  {
   "cell_type": "code",
   "execution_count": 17,
   "metadata": {},
   "outputs": [
    {
     "ename": "AssertionError",
     "evalue": "",
     "output_type": "error",
     "traceback": [
      "\u001b[1;31m---------------------------------------------------------------------------\u001b[0m",
      "\u001b[1;31mAssertionError\u001b[0m                            Traceback (most recent call last)",
      "\u001b[1;32m<ipython-input-17-ba0df7c16297>\u001b[0m in \u001b[0;36m<module>\u001b[1;34m\u001b[0m\n\u001b[0;32m      5\u001b[0m     \u001b[1;32mreturn\u001b[0m \u001b[0mbin\u001b[0m\u001b[1;33m(\u001b[0m\u001b[0mdecimal_number\u001b[0m\u001b[1;33m)\u001b[0m\u001b[1;33m\u001b[0m\u001b[1;33m\u001b[0m\u001b[0m\n\u001b[0;32m      6\u001b[0m \u001b[1;33m\u001b[0m\u001b[0m\n\u001b[1;32m----> 7\u001b[1;33m \u001b[0mprint\u001b[0m\u001b[1;33m(\u001b[0m\u001b[0mget_binary_number\u001b[0m\u001b[1;33m(\u001b[0m\u001b[1;36m10.0\u001b[0m\u001b[1;33m)\u001b[0m\u001b[1;33m)\u001b[0m\u001b[1;33m\u001b[0m\u001b[1;33m\u001b[0m\u001b[0m\n\u001b[0m",
      "\u001b[1;32m<ipython-input-17-ba0df7c16297>\u001b[0m in \u001b[0;36mget_binary_number\u001b[1;34m(decimal_number)\u001b[0m\n\u001b[0;32m      2\u001b[0m \u001b[1;33m\u001b[0m\u001b[0m\n\u001b[0;32m      3\u001b[0m \u001b[1;32mdef\u001b[0m \u001b[0mget_binary_number\u001b[0m\u001b[1;33m(\u001b[0m\u001b[0mdecimal_number\u001b[0m \u001b[1;33m:\u001b[0m \u001b[0mint\u001b[0m\u001b[1;33m)\u001b[0m\u001b[1;33m:\u001b[0m\u001b[1;33m\u001b[0m\u001b[1;33m\u001b[0m\u001b[0m\n\u001b[1;32m----> 4\u001b[1;33m     \u001b[1;32massert\u001b[0m \u001b[0misinstance\u001b[0m\u001b[1;33m(\u001b[0m\u001b[0mdecimal_number\u001b[0m\u001b[1;33m,\u001b[0m \u001b[0mint\u001b[0m\u001b[1;33m)\u001b[0m \u001b[1;31m# True or False 역할로 사용\u001b[0m\u001b[1;33m\u001b[0m\u001b[1;33m\u001b[0m\u001b[0m\n\u001b[0m\u001b[0;32m      5\u001b[0m     \u001b[1;32mreturn\u001b[0m \u001b[0mbin\u001b[0m\u001b[1;33m(\u001b[0m\u001b[0mdecimal_number\u001b[0m\u001b[1;33m)\u001b[0m\u001b[1;33m\u001b[0m\u001b[1;33m\u001b[0m\u001b[0m\n\u001b[0;32m      6\u001b[0m \u001b[1;33m\u001b[0m\u001b[0m\n",
      "\u001b[1;31mAssertionError\u001b[0m: "
     ]
    }
   ],
   "source": [
    "# assert : 특정 조건에 만족하지 않을 경우 예외 발생\n",
    "\n",
    "def get_binary_number(decimal_number : int):\n",
    "    assert isinstance(decimal_number, int) # True or False 역할로 사용\n",
    "    return bin(decimal_number)\n",
    "\n",
    "print(get_binary_number(10.0))"
   ]
  },
  {
   "cell_type": "markdown",
   "metadata": {},
   "source": [
    "### 파일의 종류\n",
    "파일 종류는 text 파일과 binary 파일로 나뉨\n",
    "\n",
    "* 컴퓨터는 text 파일을 처리하기 위해 binary 파일로 변환시킴\n",
    "* 모든 text 파일도 실제는 binary 파일, 아스키/유니코드 문자열 집합으로 저장되어 사람이 읽을 수 있음\n"
   ]
  },
  {
   "cell_type": "markdown",
   "metadata": {},
   "source": [
    "#### Python File I/O\n",
    "\n",
    "파이썬은 파일 처리를 위해 \"open\"키워드를 사용함"
   ]
  },
  {
   "cell_type": "code",
   "execution_count": null,
   "metadata": {},
   "outputs": [],
   "source": [
    "f = open(\"<파일이름>\", \"접근 모드\") # 파일을 읽을 수 있게 주소만 지정"
   ]
  },
  {
   "cell_type": "markdown",
   "metadata": {},
   "source": [
    "#### 파일열기모드\n",
    "\n",
    "* r : 읽기모드 - 파일을 읽기만 할때 사용\n",
    "* w : 쓰기모드 - 파일에 내용을 쓸 때 사용\n",
    "* a : 추가모드 - 파일의 마지막에 새로운 내용을 추가 시킬 때 사용"
   ]
  },
  {
   "cell_type": "code",
   "execution_count": null,
   "metadata": {
    "scrolled": true
   },
   "outputs": [],
   "source": [
    "f = open(\"i_have_a_dream.txt\", \"r\") \n",
    "contents = f.read() # 대상파일이 같은 폴더에 있을 경우\n",
    "print(contents)\n",
    "f.close() # 파일을 연것을 닫는다"
   ]
  },
  {
   "cell_type": "markdown",
   "metadata": {},
   "source": [
    "* With 구문과 함께 사용하기 : With 구문안에 사용하면 들여쓰기 공간동안에 작동하다가 끝나는순간 닫힌다(close)."
   ]
  },
  {
   "cell_type": "code",
   "execution_count": null,
   "metadata": {},
   "outputs": [],
   "source": [
    "with open(\"i_have_a_dream.txt\", \"r\") as my_file:\n",
    "    contents = my_file.read()\n",
    "    print(type(contents), contents)\n"
   ]
  },
  {
   "cell_type": "markdown",
   "metadata": {},
   "source": [
    "한 줄씩 읽어 List Type으로 반환"
   ]
  },
  {
   "cell_type": "code",
   "execution_count": 23,
   "metadata": {
    "scrolled": true
   },
   "outputs": [
    {
     "name": "stdout",
     "output_type": "stream",
     "text": [
      "<class 'list'>\n",
      "['Love And Thunder\\n', 'Power!']\n"
     ]
    }
   ],
   "source": [
    "with open(\"i_have_a_dream.txt\", \"r\") as my_file:\n",
    "    content_list = my_file.readlines() # 파일 전체를 list로 반환\n",
    "    print(type(content_list)) # Type 확인\n",
    "    print(content_list) # 리스트 값 출력"
   ]
  },
  {
   "cell_type": "markdown",
   "metadata": {},
   "source": [
    "실행 시 마다 한 줄씩 읽어 오기 : 한번에 메모리에 올리기 힘들경우"
   ]
  },
  {
   "cell_type": "code",
   "execution_count": 24,
   "metadata": {},
   "outputs": [
    {
     "name": "stdout",
     "output_type": "stream",
     "text": [
      "0===Love And Thunder\n",
      "1===Power!\n"
     ]
    }
   ],
   "source": [
    "with open(\"i_have_a_dream.txt\", \"r\") as my_file:\n",
    "    i = 0\n",
    "    while True:\n",
    "        line = my_file.readline() # readline : 한줄씩 읽기\n",
    "        if not line:\n",
    "            break\n",
    "        print(str(i) + \"===\" + line.replace(\"\\n\",\"\")) #한줄씩 값 출력\n",
    "        i = i + 1"
   ]
  },
  {
   "cell_type": "code",
   "execution_count": 25,
   "metadata": {},
   "outputs": [
    {
     "name": "stdout",
     "output_type": "stream",
     "text": [
      "Total Number of Characters : 23\n",
      "Total Number of Words : 3\n",
      "Total Number of lines : 2\n"
     ]
    }
   ],
   "source": [
    "with open(\"i_have_a_dream.txt\", \"r\") as my_file:\n",
    "    contents = my_file.read()\n",
    "    word_list = contents.split(\" \")\n",
    "    line_list = contents.split(\"\\n\")\n",
    "    \n",
    "print(\"Total Number of Characters :\", len(contents))\n",
    "print(\"Total Number of Words :\", len(word_list))\n",
    "print(\"Total Number of lines :\", len(line_list))"
   ]
  },
  {
   "cell_type": "markdown",
   "metadata": {},
   "source": [
    "#### File Write\n",
    "mode는 \"w\", encoding=\"utf8\"\n",
    "* windows는 \"cp949\" 를 사용하는 경우도 있음 -> 항상 \"utf8\"을 써야 호환에 좋다"
   ]
  },
  {
   "cell_type": "code",
   "execution_count": 27,
   "metadata": {
    "scrolled": true
   },
   "outputs": [
    {
     "data": {
      "text/plain": [
       "<function TextIOWrapper.close()>"
      ]
     },
     "execution_count": 27,
     "metadata": {},
     "output_type": "execute_result"
    }
   ],
   "source": [
    "f = open(\"count_log.txt\", mode='w', encoding=\"utf8\")\n",
    "for i in range(1, 11):\n",
    "    data = \"{0}번째 줄입니다.\\n\".format(i)\n",
    "    f.write(data)\n",
    "f.close"
   ]
  },
  {
   "cell_type": "code",
   "execution_count": 29,
   "metadata": {},
   "outputs": [],
   "source": [
    "with open(\"count_log.txt\", mode=\"a\", encoding=\"utf8\") as f:\n",
    "    for i in range(11,21):\n",
    "        data = \"{0}번째 줄입니다.\\n\".format(i)\n",
    "        f.write(data)"
   ]
  },
  {
   "cell_type": "markdown",
   "metadata": {},
   "source": [
    "### OS module\n",
    "os 모듈을 사용해 Directory를 다룰 수 있다."
   ]
  },
  {
   "cell_type": "code",
   "execution_count": 30,
   "metadata": {},
   "outputs": [],
   "source": [
    "import os\n",
    "os.mkdir(\"log\")"
   ]
  },
  {
   "cell_type": "code",
   "execution_count": 35,
   "metadata": {},
   "outputs": [
    {
     "name": "stdout",
     "output_type": "stream",
     "text": [
      "Already created\n"
     ]
    }
   ],
   "source": [
    "try:\n",
    "    os.mkdir(\"abc\")\n",
    "except FileExistsError as e: \n",
    "    print(\"Already created\")"
   ]
  },
  {
   "cell_type": "code",
   "execution_count": 36,
   "metadata": {},
   "outputs": [
    {
     "data": {
      "text/plain": [
       "True"
      ]
     },
     "execution_count": 36,
     "metadata": {},
     "output_type": "execute_result"
    }
   ],
   "source": [
    "os.path.exists(\"abc\")"
   ]
  },
  {
   "cell_type": "code",
   "execution_count": 31,
   "metadata": {},
   "outputs": [],
   "source": [
    "if not os.path.isdir(\"log\"): # 디렉토리 유무 확인\n",
    "    os.mkdir(\"log\")"
   ]
  },
  {
   "cell_type": "code",
   "execution_count": 38,
   "metadata": {},
   "outputs": [
    {
     "data": {
      "text/plain": [
       "'abc\\\\dongseok.txt'"
      ]
     },
     "execution_count": 38,
     "metadata": {},
     "output_type": "execute_result"
    }
   ],
   "source": [
    "import shutil # 파일을 옮기는 함수\n",
    "\n",
    "source = \"i_have_a_dream.txt\"\n",
    "dest = os.path.join(\"abc\", \"dongseok.txt\") # 디렉토리 생성\n",
    "shutil.copy(source, dest) # shutil.copy : 파일 복사 함수"
   ]
  }
 ],
 "metadata": {
  "kernelspec": {
   "display_name": "Python 3",
   "language": "python",
   "name": "python3"
  },
  "language_info": {
   "codemirror_mode": {
    "name": "ipython",
    "version": 3
   },
   "file_extension": ".py",
   "mimetype": "text/x-python",
   "name": "python",
   "nbconvert_exporter": "python",
   "pygments_lexer": "ipython3",
   "version": "3.7.6"
  }
 },
 "nbformat": 4,
 "nbformat_minor": 4
}
