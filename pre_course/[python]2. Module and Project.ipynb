{
 "cells": [
  {
   "cell_type": "markdown",
   "metadata": {},
   "source": [
    "## 2. Module and Project\n",
    "\n",
    "### 모듈과 패키지\n",
    "\n",
    "**모듈** : 어떤 대상의 부분 혹은 조각 ex)레고 블록, 벽돌, 자동차 부품들\n",
    "\n",
    "* 프로그램에서는 작은 프로그램 조각들, 모듈들을 모아서 하나의 큰 프로그램을 개발함\n",
    "\n",
    "* 프로그램을 모듈화 시키면 다른 프로그램이 사용하기 쉬움\n",
    "\n",
    "ex)카카오톡 게임을 위한 카카오톡 접속 모듈\n",
    "\n",
    "**패키지** : 모듈을 모아놓은 단위, 하나의 프로그램"
   ]
  },
  {
   "cell_type": "markdown",
   "metadata": {},
   "source": [
    "#### 모듈 만들기\n",
    "\n",
    "- 파이썬의 Module은 py 파일을 의미\n",
    "\n",
    "- 같은 폴더에 Module에 해당하는 .py 파일과 사용하는 .py을 저장한 후\n",
    "\n",
    "- import 문을 사용해서 module을 호출\n"
   ]
  },
  {
   "cell_type": "code",
   "execution_count": null,
   "metadata": {},
   "outputs": [],
   "source": [
    "# fah_converter.py로 저장\n",
    "\n",
    "def convert_c_to_f(celcius_value):\n",
    "    return celcius_value * 9.0 / 5 + 32"
   ]
  },
  {
   "cell_type": "code",
   "execution_count": 2,
   "metadata": {
    "scrolled": true
   },
   "outputs": [
    {
     "data": {
      "text/plain": [
       "108.68"
      ]
     },
     "execution_count": 2,
     "metadata": {},
     "output_type": "execute_result"
    }
   ],
   "source": [
    "import fah_converter # fah.converter.py의 모든 코드가 메모리에 로딩\n",
    "\n",
    "fah_converter.convert_c_to_f(42.6)"
   ]
  },
  {
   "cell_type": "code",
   "execution_count": null,
   "metadata": {},
   "outputs": [],
   "source": [
    "# module_ex.py\n",
    "import fah_converter\n",
    "\n",
    "if __name__ == \"__main__\":\n",
    "    print(\"Enter a celcius value : \")\n",
    "    celcius = float(input())\n",
    "\n",
    "    fah = fah_converter.convert_c_to_f(celcius)\n",
    "    print(\"That's {0} degrees Fahrenheit\".format(fah))"
   ]
  },
  {
   "cell_type": "markdown",
   "metadata": {},
   "source": [
    "__pychche__ : 메모리에 모듈을 불러 올때 더 빨리 컴파일을 위해 캐싱을 미리해 놓은 폴더"
   ]
  },
  {
   "cell_type": "markdown",
   "metadata": {},
   "source": [
    "#### namespace\n",
    "모듈을 호출할 때 범위를 정하는 방법\n",
    "\n",
    "* 모듈 안에는 함수와 클래스 등이 존재 가능\n",
    "* 필요한 내용만 골라서 호출 할 수 있음\n",
    "* from 과 import 키워드를 사용함"
   ]
  },
  {
   "cell_type": "code",
   "execution_count": 2,
   "metadata": {},
   "outputs": [
    {
     "name": "stdout",
     "output_type": "stream",
     "text": [
      "106.88000000000001\n"
     ]
    }
   ],
   "source": [
    "# Alias 설정하기 - 모듈명을 별칭으로 써서, as\n",
    "import fah_converter as fah # as fah\n",
    "print(fah.convert_c_to_f(41.6))"
   ]
  },
  {
   "cell_type": "code",
   "execution_count": 3,
   "metadata": {},
   "outputs": [
    {
     "name": "stdout",
     "output_type": "stream",
     "text": [
      "106.88000000000001\n"
     ]
    }
   ],
   "source": [
    "# 모듈에서 특정 함수 또는 클래스만 호출하기 from import\n",
    "from fah_converter import convert_c_to_f\n",
    "print(convert_c_to_f(41.6))"
   ]
  },
  {
   "cell_type": "code",
   "execution_count": 4,
   "metadata": {},
   "outputs": [
    {
     "name": "stdout",
     "output_type": "stream",
     "text": [
      "106.88000000000001\n"
     ]
    }
   ],
   "source": [
    "# 모듈에서 모든 함수 또는 클래스를 호출하기\n",
    "from fah_converter import *\n",
    "print(convert_c_to_f(41.6))"
   ]
  },
  {
   "cell_type": "markdown",
   "metadata": {},
   "source": [
    "#### Built-in Modules\n",
    "파이썬이 기본 제공하는 라이브러리, 문자처리, 웹, 수학 등 다양한 모듈이 제공, 별다른 조치없이 import 문으로 활용 가능"
   ]
  },
  {
   "cell_type": "code",
   "execution_count": 5,
   "metadata": {},
   "outputs": [
    {
     "data": {
      "text/plain": [
       "74"
      ]
     },
     "execution_count": 5,
     "metadata": {},
     "output_type": "execute_result"
    }
   ],
   "source": [
    "import random\n",
    "random.randint(1,100)"
   ]
  },
  {
   "cell_type": "markdown",
   "metadata": {},
   "source": [
    "#### Package\n",
    "하나의 대형 프로젝트를 만드는 코드의 묶음, 다양한 모듈들의 합, 폴더로 연결됨\n",
    "\n",
    "* __init__, __main__ 등 키워드 파일명이 사용됨\n",
    "* 다양한 오픈 소스들이 모두 패키지로 관리됨\n",
    "\n",
    "#### 폴더별로 __init__.py  구성하기\n",
    "* 현재 폴더가 패키지임을 알리는 초기화 스크립트\n",
    "* 없을 경우 패키지로 간주하지 않지만, 3.3+ 부터는 상관없음\n",
    "* 하위 폴더와 py 파일(모듈)을 모두 포함\n",
    "* ipmort 와 __all__keyword 사용\n",
    "\n",
    "\n"
   ]
  },
  {
   "cell_type": "markdown",
   "metadata": {},
   "source": [
    "#### 폴더명으로 실행하기\n",
    "python 폴더명 으로 실행하기 위해서는, 폴더의 루트에 __main__ 파일을 만들어 실행한다."
   ]
  },
  {
   "cell_type": "code",
   "execution_count": 6,
   "metadata": {
    "scrolled": true
   },
   "outputs": [
    {
     "name": "stdout",
     "output_type": "stream",
     "text": [
      "Hello Game\n"
     ]
    }
   ],
   "source": [
    "# game 폴더의 __main__.py 파일\n",
    "\n",
    "if __name__ == '__main__':\n",
    "    print(\"Hello Game\")"
   ]
  },
  {
   "cell_type": "markdown",
   "metadata": {},
   "source": [
    "#### [[참고]] package namesapce\n",
    "Package 내에서 다른 폴더의 모듈을 부를때 상대 참조로 호출하는 방법"
   ]
  },
  {
   "cell_type": "code",
   "execution_count": null,
   "metadata": {},
   "outputs": [],
   "source": [
    "from game.graphic.render import render_test # 절대참조\n",
    "from .render import render_test # .현재 디랙토리 기준\n",
    "from ..sound.echo import echo_test # .. 부모 디렉토리 기준"
   ]
  },
  {
   "cell_type": "markdown",
   "metadata": {},
   "source": [
    "### 오픈소스 활용\n",
    "\n",
    "#### 파이썬 가상환경\n",
    "프로젝트 진행 시 필요한 패키지만 설치하는 환경\n",
    "\n",
    "- 기본 인터프리터 + 프로젝트 종류별 패키지 설치\n",
    "- 다양한 패키지 관리 도구\n",
    "  * virtuallenv : virtualenv + pip, 레퍼런스 + 패키지 개수\n",
    "  * conda : 상용 가상환경도구, Windows에서 장점"
   ]
  }
 ],
 "metadata": {
  "kernelspec": {
   "display_name": "Python 3",
   "language": "python",
   "name": "python3"
  },
  "language_info": {
   "codemirror_mode": {
    "name": "ipython",
    "version": 3
   },
   "file_extension": ".py",
   "mimetype": "text/x-python",
   "name": "python",
   "nbconvert_exporter": "python",
   "pygments_lexer": "ipython3",
   "version": "3.7.6"
  }
 },
 "nbformat": 4,
 "nbformat_minor": 4
}
