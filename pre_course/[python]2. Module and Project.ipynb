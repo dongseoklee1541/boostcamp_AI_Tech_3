{
 "cells": [
  {
   "cell_type": "markdown",
   "metadata": {},
   "source": [
    "## 2. Module and Project\n",
    "\n",
    "#### 모듈과 패키지\n",
    "\n",
    "**모듈** : 어떤 대상의 부분 혹은 조각 ex)레고 블록, 벽돌, 자동차 부품들\n",
    "\n",
    "* 프로그램에서는 작은 프로그램 조각들, 모듈들을 모아서 하나의 큰 프로그램을 개발함\n",
    "\n",
    "* 프로그램을 모듈화 시키면 다른 프로그램이 사용하기 쉬움\n",
    "\n",
    "ex)카카오톡 게임을 위한 카카오톡 접속 모듈\n",
    "\n",
    "**패키지** : 모듈을 모아놓은 단위, 하나의 프로그램"
   ]
  },
  {
   "cell_type": "markdown",
   "metadata": {},
   "source": [
    "#### 모듈 만들기\n",
    "\n",
    "- 파이썬의 Module은 py 파일을 의미\n",
    "\n",
    "- 같은 폴더에 Module에 해당하는 .py 파일과 사용하는 .py을 저장한 후\n",
    "\n",
    "- import 문을 사용해서 module을 호출\n"
   ]
  },
  {
   "cell_type": "code",
   "execution_count": null,
   "metadata": {},
   "outputs": [],
   "source": [
    "# fah_converter.py로 저장\n",
    "\n",
    "def convert_c_to_f(celcius_value):\n",
    "    return celcius_value * 9.0 / 5 + 32"
   ]
  },
  {
   "cell_type": "code",
   "execution_count": 2,
   "metadata": {
    "scrolled": true
   },
   "outputs": [
    {
     "data": {
      "text/plain": [
       "108.68"
      ]
     },
     "execution_count": 2,
     "metadata": {},
     "output_type": "execute_result"
    }
   ],
   "source": [
    "import fah_converter # fah.converter.py의 모든 코드가 메모리에 로딩\n",
    "\n",
    "fah_converter.convert_c_to_f(42.6)"
   ]
  },
  {
   "cell_type": "code",
   "execution_count": null,
   "metadata": {},
   "outputs": [],
   "source": [
    "# module_ex.py\n",
    "import fah_converter\n",
    "\n",
    "if __name__ == \"__main__\":\n",
    "    print(\"Enter a celcius value : \")\n",
    "    celcius = float(input())\n",
    "\n",
    "    fah = fah_converter.convert_c_to_f(celcius)\n",
    "    print(\"That's {0} degrees Fahrenheit\".format(fah))"
   ]
  },
  {
   "cell_type": "markdown",
   "metadata": {},
   "source": [
    "__pychche__ : 메모리에 모듈을 불러 올때 더 빨리 컴파일을 위해 캐싱을 미리해 놓은 폴더"
   ]
  },
  {
   "cell_type": "markdown",
   "metadata": {},
   "source": [
    "#### namespace\n",
    "모듈을 호출할 때 범위를 정하는 방법\n",
    "\n",
    "* 모듈 안에는 함수와 클래스 등이 존재 가능\n",
    "* 필요한 내용만 골라서 호출 할 수 있음\n",
    "* from 과 import 키워드를 사용함"
   ]
  },
  {
   "cell_type": "code",
   "execution_count": null,
   "metadata": {},
   "outputs": [],
   "source": []
  },
  {
   "cell_type": "code",
   "execution_count": null,
   "metadata": {},
   "outputs": [],
   "source": []
  }
 ],
 "metadata": {
  "kernelspec": {
   "display_name": "Python 3",
   "language": "python",
   "name": "python3"
  },
  "language_info": {
   "codemirror_mode": {
    "name": "ipython",
    "version": 3
   },
   "file_extension": ".py",
   "mimetype": "text/x-python",
   "name": "python",
   "nbconvert_exporter": "python",
   "pygments_lexer": "ipython3",
   "version": "3.7.6"
  }
 },
 "nbformat": 4,
 "nbformat_minor": 4
}
