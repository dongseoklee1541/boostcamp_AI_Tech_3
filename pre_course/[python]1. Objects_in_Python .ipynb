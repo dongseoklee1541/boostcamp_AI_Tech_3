{
 "cells": [
  {
   "cell_type": "markdown",
   "metadata": {},
   "source": [
    "## 1-1. Python Object Oriented Programming\n",
    "\n",
    "#### 객체 지향 프로그래밍(OOP)\n",
    "\n",
    "객체 : 실생활에서 일종의 물건, 속성(Attribute)와 행동(Action)을 가짐\n",
    "\n",
    "속성은 변수(variable), 행동은 함수(method)로 표현됨\n",
    "\n",
    "ex) 수강신청 프로그램 : 수강신청 관련 주체(교수,학생,관리자)의 행동(수강신청, 과목 입력) 과 데이터(수강과목, 강의 과목)들을 중심으로 프로그램 작성 후 연결\n",
    "\n",
    "OOP는 설계도에 해당하는 클래스(class)와 실제 구현체인 인스턴스(instance, 또는 객체)로 나뉜다."
   ]
  },
  {
   "cell_type": "markdown",
   "metadata": {},
   "source": [
    "- 변수, Class, 함수명은 짓는 방식이 존재\n",
    "\n",
    "- snake_case : 띄어쓰기 부분에 \"_\"를 추가, 뱀 처럼 늘여쓰기 파이썬 함수/변수명에 사용\n",
    "\n",
    "ex) professor_name\n",
    "\n",
    "- CamelCase : 띄어쓰기 부분에 대문자 낙타의 등 모양, 파이썬 Class명에 사용"
   ]
  },
  {
   "cell_type": "markdown",
   "metadata": {},
   "source": [
    "#### 파이썬에서 __의 의미\n",
    "\n",
    "- __은 특수한 예약 함수나 변수 그리고 함수명 변경(맨글링)으로 사용한다.\n",
    "\n",
    "ex) __main__, __add__ , __str__ , __eq__\n",
    "- Attribute 추가는 __init__, self와 함께 사용한다. __init__은 객체 초기화 예약 함수\n",
    "\n",
    "- method(Action) 추가는 기존 함수와 같으나, 반드시 **self**를 추가해야만 class 함수로 인정됨"
   ]
  },
  {
   "cell_type": "code",
   "execution_count": 11,
   "metadata": {},
   "outputs": [],
   "source": [
    "# 축구 선수 정보로 \n",
    "class SoccerPlayer(object): # CamelCase \n",
    "    def __init__(self, name : str, position : str, back_number : int): # 객체 초기화 함수, self는 필수\n",
    "        self.name = name # self. 으로 객체의 초기 정보를 선언 할 수 있다\n",
    "        self.position = position\n",
    "        self.back_number = back_number\n",
    "        \n",
    "    def __str__(self): # __str__ : 앞으로 print로 객체에 적용하면 출력해주는 코드\n",
    "        return \"Hello, My name is %s. I play in %s in center. \" % \\\n",
    "    (self.name, self.position)\n",
    "    \n",
    "    def __add__(self, other): # __add__ : 두 객체를 서로 더해준다.\n",
    "        return self.name + other.name \n",
    "    "
   ]
  },
  {
   "cell_type": "code",
   "execution_count": 13,
   "metadata": {
    "scrolled": true
   },
   "outputs": [
    {
     "name": "stdout",
     "output_type": "stream",
     "text": [
      "Hello, My name is dongseok. I play in MF in center \n"
     ]
    }
   ],
   "source": [
    "dongseok = SoccerPlayer(\"dongseok\", \"MF\", 10)\n",
    "park = SoccerPlayer(\"park\", \"WF\", 13)\n",
    "print(dongsoek) # __str__ 로 응답"
   ]
  },
  {
   "cell_type": "code",
   "execution_count": 10,
   "metadata": {},
   "outputs": [
    {
     "data": {
      "text/plain": [
       "False"
      ]
     },
     "execution_count": 10,
     "metadata": {},
     "output_type": "execute_result"
    }
   ],
   "source": [
    "dongseok is park # 같은 class에서 나왔지만 서로 다른 객체이다."
   ]
  },
  {
   "cell_type": "code",
   "execution_count": 15,
   "metadata": {},
   "outputs": [
    {
     "data": {
      "text/plain": [
       "'dongseokpark'"
      ]
     },
     "execution_count": 15,
     "metadata": {},
     "output_type": "execute_result"
    }
   ],
   "source": [
    "dongseok + park # 사칙연산 가능"
   ]
  },
  {
   "cell_type": "code",
   "execution_count": null,
   "metadata": {},
   "outputs": [],
   "source": []
  }
 ],
 "metadata": {
  "kernelspec": {
   "display_name": "Python 3",
   "language": "python",
   "name": "python3"
  },
  "language_info": {
   "codemirror_mode": {
    "name": "ipython",
    "version": 3
   },
   "file_extension": ".py",
   "mimetype": "text/x-python",
   "name": "python",
   "nbconvert_exporter": "python",
   "pygments_lexer": "ipython3",
   "version": "3.7.6"
  }
 },
 "nbformat": 4,
 "nbformat_minor": 4
}
